{
 "cells": [
  {
   "cell_type": "markdown",
   "metadata": {},
   "source": [
    "### AccelerateAI - Python for Data Science\n",
    "##### Introduction to Python Language  (Python 3) \n",
    "In this notebook we will cover the following: \n",
    "* 1. NumPy       <br> \n",
    "* 2. Pandas      <br>\n",
    "* 3. String & Text <br>\n",
    "\n",
    "We will cover the following in Notebook 2:\n",
    "* 5. Data Wrangling <br>\n",
    "* 6. Advanced Numpy          <br>\n",
    "***"
   ]
  },
  {
   "cell_type": "markdown",
   "metadata": {
    "heading_collapsed": true
   },
   "source": [
    "#### 1. Numpy\n",
    "- Numpy is short for <b>Num</b>erical <b>Py</b>thon\n",
    "- It is a fundamental package required for high performance scientific computing and data analysis\n",
    "- Many data analysis libraries are built on top of NumPy\n",
    "- Here are some of the things it provides:\n",
    "    - <b>ndarray</b>, a fast and space-efficient multidimensional array providing \n",
    "        - fast vectorized array operations for data munging and cleaning\n",
    "        - common array algorithms like sorting, unique, and set operations \n",
    "        - efficient descriptive statistics and aggregating/summarizing data \n",
    "        - data alignment and relational data manipulations for merging and joining datasets\n",
    "        - expressing conditional logic as array expressions instead of loops with if-elifelse branches\n",
    "        - group-wise data manipulations \n",
    "    - tools for reading / writing array data to disk and working with memory-mapped files \n",
    "    - linear algebra, random number generation, and Fourier transform capabilities\n",
    "    - tools for integrating code written in C, C++, and Fortran"
   ]
  },
  {
   "cell_type": "markdown",
   "metadata": {
    "heading_collapsed": true,
    "hidden": true
   },
   "source": [
    "##### 1.1.1 Scalars in Numpy\n",
    "- Python defines only one type of a particular data class (1 integer type, 1 floating-point type, etc.)\n",
    "- In NumPy, there are 24 new fundamental Python types to describe different types of scalars\n",
    "        - numpy.generic : Base class for numpy scalar types\n",
    "        - numpy.ushort, numpy.uint, numpy.ulonglong etc for unsigned integer\n",
    "        - numpy.half, numpy.single, numpy.double, numpy.longdouble etc : for floating point \n",
    "        - numpy.datetime for storing time\n",
    "        - numpy.str_ for string"
   ]
  },
  {
   "cell_type": "code",
   "execution_count": null,
   "metadata": {
    "hidden": true
   },
   "outputs": [],
   "source": [
    "#importing numpy\n",
    "import numpy as np"
   ]
  },
  {
   "cell_type": "code",
   "execution_count": null,
   "metadata": {
    "hidden": true
   },
   "outputs": [],
   "source": [
    "print(np.ScalarType)"
   ]
  },
  {
   "cell_type": "code",
   "execution_count": null,
   "metadata": {
    "hidden": true
   },
   "outputs": [],
   "source": [
    "x = np.int8(1)\n",
    "y = np.float32(1.0)\n",
    "x == y                                          #What do you expect the result to be?      "
   ]
  },
  {
   "cell_type": "code",
   "execution_count": null,
   "metadata": {
    "hidden": true
   },
   "outputs": [],
   "source": [
    "print(x.dtype , y.dtype)"
   ]
  },
  {
   "cell_type": "code",
   "execution_count": null,
   "metadata": {
    "hidden": true
   },
   "outputs": [],
   "source": [
    "#check current version of pandas\n",
    "print(\"Pandas Version:\", pd.__version__)"
   ]
  },
  {
   "cell_type": "markdown",
   "metadata": {
    "heading_collapsed": true,
    "hidden": true
   },
   "source": [
    "##### 1.1.2 Numpy Constants - NumPy includes several constants\n",
    " - numpy.Inf\n",
    " - numpy.nan    (NaN, NAN are aliases)\n",
    " - numpy.NINF\n",
    " - numpy.PZERO\n",
    " - numpy.NZERO\n",
    " - numpy.pi\n",
    " - numpy.euler_gamma"
   ]
  },
  {
   "cell_type": "code",
   "execution_count": null,
   "metadata": {
    "hidden": true
   },
   "outputs": [],
   "source": [
    "np.log(0)"
   ]
  },
  {
   "cell_type": "code",
   "execution_count": null,
   "metadata": {
    "hidden": true
   },
   "outputs": [],
   "source": [
    "np.NZERO"
   ]
  },
  {
   "cell_type": "code",
   "execution_count": null,
   "metadata": {
    "hidden": true
   },
   "outputs": [],
   "source": [
    "np.pi"
   ]
  },
  {
   "cell_type": "markdown",
   "metadata": {
    "heading_collapsed": true,
    "hidden": true
   },
   "source": [
    "##### 1.2 Numpy Ndarray creation and reshape"
   ]
  },
  {
   "cell_type": "code",
   "execution_count": null,
   "metadata": {
    "hidden": true
   },
   "outputs": [],
   "source": [
    "#importing numpy\n",
    "import numpy as np"
   ]
  },
  {
   "cell_type": "code",
   "execution_count": null,
   "metadata": {
    "hidden": true
   },
   "outputs": [],
   "source": [
    "#creating array\n",
    "data1 = [6, 7.5, 8, 0, 1]\n",
    "arr1 = np.array(data1)\n",
    "arr1                                        #Note the way it is represented with 2 paranthesis"
   ]
  },
  {
   "cell_type": "code",
   "execution_count": null,
   "metadata": {
    "hidden": true
   },
   "outputs": [],
   "source": [
    "print(\"Dimensions:\", arr1.ndim)"
   ]
  },
  {
   "cell_type": "code",
   "execution_count": null,
   "metadata": {
    "hidden": true
   },
   "outputs": [],
   "source": [
    "# Nested sequences, like a list of equal-length lists, will be converted into a multidimensional array\n",
    "data2 = [[1, 2, 3, 4], [5, 6, 7, 8]]\n",
    "arr2 = np.array(data2)\n",
    "arr2"
   ]
  },
  {
   "cell_type": "code",
   "execution_count": null,
   "metadata": {
    "hidden": true
   },
   "outputs": [],
   "source": [
    "print(\"Dimensions:\", arr2.ndim)\n",
    "print(\"Shape:\", arr2.shape)"
   ]
  },
  {
   "cell_type": "code",
   "execution_count": null,
   "metadata": {
    "hidden": true
   },
   "outputs": [],
   "source": [
    "# other functions for creating new arrays.\n",
    "a = np.zeros(10)                                #array will all zero\n",
    "b = np.ones((3, 6))                             #array with all ones\n",
    "print(\"a=\", a,\"\\n\",\"b=\",b)"
   ]
  },
  {
   "cell_type": "code",
   "execution_count": null,
   "metadata": {
    "hidden": true
   },
   "outputs": [],
   "source": [
    "np.eye(3)                                       #Identity matrix"
   ]
  },
  {
   "cell_type": "code",
   "execution_count": null,
   "metadata": {
    "hidden": true
   },
   "outputs": [],
   "source": [
    "np.random.rand(3,3)                             # random values"
   ]
  },
  {
   "cell_type": "code",
   "execution_count": null,
   "metadata": {
    "hidden": true
   },
   "outputs": [],
   "source": [
    "arr = np.arange(8)\n",
    "arr"
   ]
  },
  {
   "cell_type": "code",
   "execution_count": null,
   "metadata": {
    "hidden": true
   },
   "outputs": [],
   "source": [
    "#change the dimension of the array\n",
    "arr.reshape((4, 2))                               #Note the order of numbers "
   ]
  },
  {
   "cell_type": "code",
   "execution_count": null,
   "metadata": {
    "hidden": true
   },
   "outputs": [],
   "source": [
    "x = arr.reshape((4,2), order='F')                  #Order C- C language type, F - Fortran type\n",
    "x"
   ]
  },
  {
   "cell_type": "code",
   "execution_count": null,
   "metadata": {
    "hidden": true
   },
   "outputs": [],
   "source": [
    "#chaining \n",
    "np.arange(10).reshape((2,5))"
   ]
  },
  {
   "cell_type": "code",
   "execution_count": null,
   "metadata": {
    "hidden": true
   },
   "outputs": [],
   "source": [
    "#convert from higher dimension to single dimension\n",
    "x.flatten()                                              #Note the order of numbers"
   ]
  },
  {
   "cell_type": "markdown",
   "metadata": {
    "heading_collapsed": true,
    "hidden": true
   },
   "source": [
    "##### 1.3 Ndarray attributes"
   ]
  },
  {
   "cell_type": "code",
   "execution_count": null,
   "metadata": {
    "hidden": true
   },
   "outputs": [],
   "source": [
    "arr = np.arange(9).reshape(3,3, order='F')\n",
    "arr"
   ]
  },
  {
   "cell_type": "code",
   "execution_count": null,
   "metadata": {
    "hidden": true
   },
   "outputs": [],
   "source": [
    "arr.max()                                                    #max value      min- minimum value"
   ]
  },
  {
   "cell_type": "code",
   "execution_count": null,
   "metadata": {
    "hidden": true
   },
   "outputs": [],
   "source": [
    "arr.argmax(axis=1)                                           # argmax - index of maximum value, similarly argmin"
   ]
  },
  {
   "cell_type": "code",
   "execution_count": null,
   "metadata": {
    "hidden": true
   },
   "outputs": [],
   "source": [
    "arr.dtype                                                    #data type"
   ]
  },
  {
   "cell_type": "markdown",
   "metadata": {
    "heading_collapsed": true,
    "hidden": true
   },
   "source": [
    "##### 1.4 Array arithmetic \n",
    " - arithmetic operations applies the operation elementwise"
   ]
  },
  {
   "cell_type": "code",
   "execution_count": null,
   "metadata": {
    "hidden": true
   },
   "outputs": [],
   "source": [
    "arr = np.array([[1., 2., 3.], [4., 5., 6.]])\n",
    "arr + 10."
   ]
  },
  {
   "cell_type": "code",
   "execution_count": null,
   "metadata": {
    "hidden": true
   },
   "outputs": [],
   "source": [
    "arr * 2"
   ]
  },
  {
   "cell_type": "code",
   "execution_count": null,
   "metadata": {
    "hidden": true
   },
   "outputs": [],
   "source": [
    "arr*arr"
   ]
  },
  {
   "cell_type": "code",
   "execution_count": null,
   "metadata": {
    "hidden": true
   },
   "outputs": [],
   "source": [
    "np.sqrt(arr)"
   ]
  },
  {
   "cell_type": "code",
   "execution_count": null,
   "metadata": {
    "hidden": true
   },
   "outputs": [],
   "source": [
    "np.square(arr)"
   ]
  },
  {
   "cell_type": "code",
   "execution_count": null,
   "metadata": {
    "hidden": true
   },
   "outputs": [],
   "source": [
    "arr.sum()                                             #total of all elements"
   ]
  },
  {
   "cell_type": "code",
   "execution_count": null,
   "metadata": {
    "hidden": true
   },
   "outputs": [],
   "source": [
    "arr.mean()                                            #mean of all elements           "
   ]
  },
  {
   "cell_type": "code",
   "execution_count": null,
   "metadata": {
    "hidden": true
   },
   "outputs": [],
   "source": [
    "arr.mean(axis=0)                                      #column means                         "
   ]
  },
  {
   "cell_type": "markdown",
   "metadata": {
    "heading_collapsed": true,
    "hidden": true
   },
   "source": [
    "##### 1.5 Array Slicing"
   ]
  },
  {
   "cell_type": "code",
   "execution_count": null,
   "metadata": {
    "hidden": true
   },
   "outputs": [],
   "source": [
    "#slicing\n",
    "arr = np.arange(10)\n",
    "arr"
   ]
  },
  {
   "cell_type": "code",
   "execution_count": null,
   "metadata": {
    "hidden": true
   },
   "outputs": [],
   "source": [
    "arr[0]                                       #index starts at 0"
   ]
  },
  {
   "cell_type": "code",
   "execution_count": null,
   "metadata": {
    "hidden": true
   },
   "outputs": [],
   "source": [
    "arr[5:8]                                     #slicing within a range"
   ]
  },
  {
   "cell_type": "code",
   "execution_count": null,
   "metadata": {
    "hidden": true
   },
   "outputs": [],
   "source": [
    "#broadcasting \n",
    "arr[5:8] = 12                                #slicing creates a view - hence original arr is modified\n",
    "arr"
   ]
  },
  {
   "cell_type": "code",
   "execution_count": null,
   "metadata": {
    "hidden": true
   },
   "outputs": [],
   "source": [
    "# Sllicing in higher dimension\n",
    "arr = np.arange(9).reshape(3,3)\n",
    "arr"
   ]
  },
  {
   "cell_type": "code",
   "execution_count": null,
   "metadata": {
    "hidden": true
   },
   "outputs": [],
   "source": [
    "# slicing : row, column\n",
    "arr[1,2]"
   ]
  },
  {
   "cell_type": "code",
   "execution_count": null,
   "metadata": {
    "hidden": true
   },
   "outputs": [],
   "source": [
    "# slicing : rowstart:rowend-1, columnstart:columnend-1"
   ]
  },
  {
   "cell_type": "code",
   "execution_count": null,
   "metadata": {
    "hidden": true
   },
   "outputs": [],
   "source": [
    "arr[1:3,1:3]                                # will return a 2 x 2 array"
   ]
  },
  {
   "cell_type": "code",
   "execution_count": null,
   "metadata": {
    "hidden": true
   },
   "outputs": [],
   "source": [
    "#What would be the output?\n",
    "arr[1,:3]                                  "
   ]
  },
  {
   "cell_type": "code",
   "execution_count": null,
   "metadata": {
    "hidden": true
   },
   "outputs": [],
   "source": [
    "arr = np.empty((8, 4))\n",
    "for i in range(8):\n",
    "    arr[i] = i\n",
    "arr"
   ]
  },
  {
   "cell_type": "code",
   "execution_count": null,
   "metadata": {
    "hidden": true
   },
   "outputs": [],
   "source": [
    "arr[[4, 3, 6]]                                #select specified rows"
   ]
  },
  {
   "cell_type": "code",
   "execution_count": null,
   "metadata": {
    "hidden": true
   },
   "outputs": [],
   "source": [
    "#Array copy\n",
    "arr = np.array([11, 12, 13, 14, 15])\n",
    "\n",
    "x = arr.copy()                                #creates a copy of original array\n",
    "\n",
    "arr[0] = 42\n",
    "print(arr)\n",
    "print(x)                                      # note that X doesn't change"
   ]
  },
  {
   "cell_type": "markdown",
   "metadata": {
    "heading_collapsed": true,
    "hidden": true
   },
   "source": [
    "##### 1.6 Transpose, Swapping and Dot product"
   ]
  },
  {
   "cell_type": "code",
   "execution_count": null,
   "metadata": {
    "hidden": true
   },
   "outputs": [],
   "source": [
    "arr = np.arange(16).reshape(4, 4)\n",
    "arr"
   ]
  },
  {
   "cell_type": "code",
   "execution_count": null,
   "metadata": {
    "hidden": true
   },
   "outputs": [],
   "source": [
    "arr.T                                                   #transpose "
   ]
  },
  {
   "cell_type": "code",
   "execution_count": null,
   "metadata": {
    "hidden": true
   },
   "outputs": [],
   "source": [
    "arr.swapaxes(1,0)                                       #same as transpose - as there are only 2 axes"
   ]
  },
  {
   "cell_type": "code",
   "execution_count": null,
   "metadata": {
    "hidden": true
   },
   "outputs": [],
   "source": [
    "np.dot(arr.T, arr)                                      #dot product"
   ]
  },
  {
   "cell_type": "code",
   "execution_count": null,
   "metadata": {
    "hidden": true
   },
   "outputs": [],
   "source": [
    "arr.trace()"
   ]
  },
  {
   "cell_type": "code",
   "execution_count": null,
   "metadata": {
    "hidden": true
   },
   "outputs": [],
   "source": [
    "np.linalg.eig(arr)                                       #eigen values & eigen vectors"
   ]
  },
  {
   "cell_type": "code",
   "execution_count": null,
   "metadata": {
    "hidden": true
   },
   "outputs": [],
   "source": [
    "np.linalg.svd(arr)                                       #singular value decomposition"
   ]
  },
  {
   "cell_type": "markdown",
   "metadata": {
    "heading_collapsed": true,
    "hidden": true
   },
   "source": [
    "##### 1.7 Numpy Example"
   ]
  },
  {
   "cell_type": "code",
   "execution_count": null,
   "metadata": {
    "hidden": true
   },
   "outputs": [],
   "source": [
    "sample1 = np.random.normal(100,15,40)\n",
    "sample2= np.random.normal(125,15,40)"
   ]
  },
  {
   "cell_type": "code",
   "execution_count": null,
   "metadata": {
    "hidden": true
   },
   "outputs": [],
   "source": [
    "def t_test(x, y):\n",
    "    diff = y - x\n",
    "    var = np.var(diff, ddof=1)\n",
    "    num = np.mean(diff)\n",
    "    denom = np.sqrt(var / len(x))\n",
    "    return np.divide(num, denom)"
   ]
  },
  {
   "cell_type": "code",
   "execution_count": null,
   "metadata": {
    "hidden": true
   },
   "outputs": [],
   "source": [
    "# Null hypothesis : mean(sample1) = mean(sample2)\n",
    "\n",
    "t_stats = t_test(sample1, sample2)\n"
   ]
  },
  {
   "cell_type": "code",
   "execution_count": null,
   "metadata": {
    "hidden": true
   },
   "outputs": [],
   "source": [
    "from scipy import stats\n",
    "dof = len(sample1) - 1\n",
    "p_value = 1- stats.distributions.t.cdf(t_stats, dof)\n",
    "\n",
    "print(\"The t value is {} and the p value is {}.\".format(t_stats, p_value))               "
   ]
  },
  {
   "cell_type": "markdown",
   "metadata": {},
   "source": [
    "#### 2. Pandas\n",
    "- Pandas is a Python package providing fast and flexible data structure\n",
    "- It is designed to work with structured, relational or labeled (tabular) data \n",
    "- It has functions for reading, analyzing, cleaning, exploring(plotting), and manipulating data\n",
    "- It works very well with large amount of data for indexing, subsetting, slicing, reshaping and merging\n",
    "- It is also great for working with time series data with functionality for quick filtering and plotting\n",
    "- The name \"Pandas\" has a reference to both \"Panel Data\", and \"Python Data Analysis\" "
   ]
  },
  {
   "cell_type": "markdown",
   "metadata": {
    "heading_collapsed": true
   },
   "source": [
    "##### 2.1 Pandas data structures\n",
    "- Pandas has a few important data structures:\n",
    "    - Series: 1 dimensional array holding data of any type (like a column in a table)\n",
    "    - DataFrame: 2 dimensional data structre (a table with rows and columns)\n",
    "    - Datetime : also an important data structure for working with dates\n",
    "<br><br>\n",
    "- Other data structures like pandas array, strings etc are not in common use.\n",
    "- Panel data a 3 dimesional data structure for storing panel data, is now deprecated and no longer in use."
   ]
  },
  {
   "cell_type": "markdown",
   "metadata": {
    "heading_collapsed": true,
    "hidden": true
   },
   "source": [
    "###### 2.1.1 Pandas Series"
   ]
  },
  {
   "cell_type": "code",
   "execution_count": null,
   "metadata": {
    "hidden": true
   },
   "outputs": [],
   "source": [
    "#import pandas \n",
    "import pandas as pd\n",
    "import numpy as np"
   ]
  },
  {
   "cell_type": "code",
   "execution_count": null,
   "metadata": {
    "hidden": true
   },
   "outputs": [],
   "source": [
    "#creating a series from list\n",
    "a = [1, 7, 2, 5,9]\n",
    "myseries = pd.Series(a)\n",
    "\n",
    "print(myseries)                                            #notice the index printed with the values, along with data type"
   ]
  },
  {
   "cell_type": "code",
   "execution_count": null,
   "metadata": {
    "hidden": true
   },
   "outputs": [],
   "source": [
    "#specifying the index \n",
    "myserwithind = pd.Series(a, index = [\"a\", \"b\", \"c\", \"d\", \"e\"])\n",
    "print(myserwithind) "
   ]
  },
  {
   "cell_type": "code",
   "execution_count": null,
   "metadata": {
    "hidden": true
   },
   "outputs": [],
   "source": [
    "#creating a series from dictionary\n",
    "calories = {\"day1\": 420, \"day2\": 380, \"day3\": 390}\n",
    "mydiet = pd.Series(calories)\n",
    "\n",
    "print(mydiet)                                                 #where do the keys go? "
   ]
  },
  {
   "cell_type": "code",
   "execution_count": null,
   "metadata": {
    "hidden": true
   },
   "outputs": [],
   "source": [
    "#Naming the series attributes \n",
    "\n",
    "fruitprice = {'apples': 200, 'kiwi': 300, 'oranges': 70, 'cherries': 500, 'banana':30, 'guava':55}\n",
    "mySeries = pd.Series(fruitprice)\n",
    "\n",
    "mySeries.name = 'March Fruit Prices'                          #name is the sweetest sound for every individual\n",
    "mySeries.index.name = 'Fruit'\n",
    "\n",
    "print(mySeries)"
   ]
  },
  {
   "cell_type": "code",
   "execution_count": null,
   "metadata": {
    "hidden": true
   },
   "outputs": [],
   "source": [
    " mySeries.ndim"
   ]
  },
  {
   "cell_type": "code",
   "execution_count": null,
   "metadata": {
    "hidden": true
   },
   "outputs": [],
   "source": [
    "mySeries.size"
   ]
  },
  {
   "cell_type": "code",
   "execution_count": null,
   "metadata": {
    "hidden": true
   },
   "outputs": [],
   "source": [
    "#which is the most expensive fruit?\n",
    "mySeries.idxmax()                                       # argmax() is depreciated"
   ]
  },
  {
   "cell_type": "code",
   "execution_count": null,
   "metadata": {
    "hidden": true
   },
   "outputs": [],
   "source": [
    "#which are the two cheapest fruits\n",
    "mySeries.nsmallest(n=2, keep='last')                    # similarly nlargest()"
   ]
  },
  {
   "cell_type": "code",
   "execution_count": null,
   "metadata": {
    "hidden": true
   },
   "outputs": [],
   "source": [
    "#Average price of all fruits\n",
    "mySeries.mean()"
   ]
  },
  {
   "cell_type": "code",
   "execution_count": null,
   "metadata": {
    "hidden": true
   },
   "outputs": [],
   "source": [
    "#Sort the series by value\n",
    "mySeries.sort_values()                                  "
   ]
  },
  {
   "cell_type": "code",
   "execution_count": null,
   "metadata": {
    "hidden": true
   },
   "outputs": [],
   "source": [
    "#Sort the series by index\n",
    "mySeries.sort_index()                                   # alphabetical order"
   ]
  },
  {
   "cell_type": "code",
   "execution_count": null,
   "metadata": {
    "hidden": true
   },
   "outputs": [],
   "source": [
    "#Selecting an element in a pandas series\n",
    "print(mySeries[1])\n",
    "print(mySeries['kiwi'])\n",
    "print(mySeries.kiwi)\n",
    "print(mySeries.loc['kiwi'])\n",
    "print(mySeries.iloc[1])"
   ]
  },
  {
   "cell_type": "code",
   "execution_count": null,
   "metadata": {
    "hidden": true
   },
   "outputs": [],
   "source": [
    "#price of kiwi increases \n",
    "mySeries['kiwi'] = 350                              \n",
    "print(mySeries)"
   ]
  },
  {
   "cell_type": "code",
   "execution_count": null,
   "metadata": {
    "hidden": true
   },
   "outputs": [],
   "source": [
    "#searching using index \n",
    "'apples' in mySeries"
   ]
  },
  {
   "cell_type": "code",
   "execution_count": null,
   "metadata": {
    "hidden": true
   },
   "outputs": [],
   "source": [
    "#Adding two series \n",
    "basket1 = pd.Series({'apples': 5, 'kiwi': 10, 'oranges': 7, 'cherries': 50})\n",
    "basket2 = pd.Series({'apples': 6, 'pineapple': 2, 'oranges': 6, 'banana': 12})\n",
    "\n",
    "total = basket1 + basket2\n",
    "print(total)                                        # What would be the output? "
   ]
  },
  {
   "cell_type": "code",
   "execution_count": null,
   "metadata": {
    "hidden": true
   },
   "outputs": [],
   "source": [
    "#Appending two series \n",
    "basket1.append(basket2)                             # Now? "
   ]
  },
  {
   "cell_type": "code",
   "execution_count": null,
   "metadata": {
    "hidden": true
   },
   "outputs": [],
   "source": [
    "basket1                                               # Does this change basket1? "
   ]
  },
  {
   "cell_type": "code",
   "execution_count": null,
   "metadata": {
    "hidden": true
   },
   "outputs": [],
   "source": [
    "basket1.plot()                                        # plotting a series"
   ]
  },
  {
   "cell_type": "markdown",
   "metadata": {
    "heading_collapsed": true,
    "hidden": true
   },
   "source": [
    "###### 2.1.2 DataFrame"
   ]
  },
  {
   "cell_type": "code",
   "execution_count": null,
   "metadata": {
    "hidden": true
   },
   "outputs": [],
   "source": [
    "#creating a dataframe from dictionary\n",
    "df1 = pd.DataFrame(\n",
    "    {\n",
    "        \"A\": [1.0,2.3,3.4,4.3],\n",
    "        \"B\": pd.Timestamp(\"20130102\"),\n",
    "        \"C\": pd.Series(1, index=list(range(4)), dtype=\"float32\"),\n",
    "        \"D\": np.array([3] * 4, dtype=\"int32\"),\n",
    "        \"E\": pd.Categorical([\"test\", \"train\", \"test\", \"train\"]),\n",
    "        \"F\": pd.Categorical([\"spam\",\"ham\"]*2)\n",
    "    }\n",
    ")"
   ]
  },
  {
   "cell_type": "code",
   "execution_count": null,
   "metadata": {
    "hidden": true
   },
   "outputs": [],
   "source": [
    "df1"
   ]
  },
  {
   "cell_type": "code",
   "execution_count": null,
   "metadata": {
    "hidden": true
   },
   "outputs": [],
   "source": [
    "df1.index"
   ]
  },
  {
   "cell_type": "code",
   "execution_count": null,
   "metadata": {
    "hidden": true
   },
   "outputs": [],
   "source": [
    "df1.shape                                   #(rows , columns)"
   ]
  },
  {
   "cell_type": "code",
   "execution_count": null,
   "metadata": {
    "hidden": true
   },
   "outputs": [],
   "source": [
    "#quick statistic summary of the data (numerical)\n",
    "df1.describe()"
   ]
  },
  {
   "cell_type": "code",
   "execution_count": null,
   "metadata": {
    "hidden": true
   },
   "outputs": [],
   "source": [
    "#quick look - random sample\n",
    "df.sample(3)                                       #head(n) and tail(n) also works as intended"
   ]
  },
  {
   "cell_type": "markdown",
   "metadata": {
    "heading_collapsed": true,
    "hidden": true
   },
   "source": [
    "###### 2.1.2.1 Row and Column Selection"
   ]
  },
  {
   "cell_type": "code",
   "execution_count": null,
   "metadata": {
    "hidden": true
   },
   "outputs": [],
   "source": [
    "#selection of rows\n",
    "df1[0:2]                                  #list style indexing"
   ]
  },
  {
   "cell_type": "code",
   "execution_count": null,
   "metadata": {
    "hidden": true
   },
   "outputs": [],
   "source": [
    "#selection of rows\n",
    "df1.loc[0:2,]                              #optimized and recommended"
   ]
  },
  {
   "cell_type": "code",
   "execution_count": null,
   "metadata": {
    "hidden": true
   },
   "outputs": [],
   "source": [
    "#selection of columns\n",
    "df1.loc[:, [\"A\", \"B\"]]                "
   ]
  },
  {
   "cell_type": "code",
   "execution_count": null,
   "metadata": {
    "hidden": true
   },
   "outputs": [],
   "source": [
    "#selection using numerical position\n",
    "df1.iloc[0:3, 1:4]"
   ]
  },
  {
   "cell_type": "code",
   "execution_count": null,
   "metadata": {
    "hidden": true
   },
   "outputs": [],
   "source": [
    "# Conditional selection using a single column\n",
    "df1[df1.A>3.0]"
   ]
  },
  {
   "cell_type": "code",
   "execution_count": null,
   "metadata": {
    "hidden": true
   },
   "outputs": [],
   "source": [
    "#query function \n",
    "df1.query('E == \"test\"')                             # equivaluent to df1[df1['E'] == \"test\"]       "
   ]
  },
  {
   "cell_type": "code",
   "execution_count": null,
   "metadata": {
    "hidden": true
   },
   "outputs": [],
   "source": [
    "#adding a new column\n",
    "df1[\"G\"] = [\"one\", \"two\", \"three\", \"four\"]"
   ]
  },
  {
   "cell_type": "code",
   "execution_count": null,
   "metadata": {
    "hidden": true
   },
   "outputs": [],
   "source": [
    "df1[df1.G.isin([\"two\", \"four\"])]                   #.isin() for selection "
   ]
  },
  {
   "cell_type": "code",
   "execution_count": null,
   "metadata": {
    "hidden": true
   },
   "outputs": [],
   "source": [
    "#dropping a column\n",
    "df1.drop('G', axis=1 , inplace=True)               #inplace=True will make changes to existing dataframe              \n",
    "df1"
   ]
  },
  {
   "cell_type": "code",
   "execution_count": null,
   "metadata": {
    "hidden": true
   },
   "outputs": [],
   "source": [
    "#setting values \n",
    "import numpy as np\n",
    "df1.loc[:, \"D\"] = np.arange(10,14)"
   ]
  },
  {
   "cell_type": "code",
   "execution_count": null,
   "metadata": {
    "hidden": true
   },
   "outputs": [],
   "source": [
    "df1"
   ]
  },
  {
   "cell_type": "markdown",
   "metadata": {
    "heading_collapsed": true
   },
   "source": [
    "##### 2.1.2.2 Grouping Data \n",
    "- this function takes several params and returns DataFrameGroupBy object that contains information about the groups.\n",
    "- we can use groupby() with the combination of sum(), pivot(), transform(), aggregate() and many more methods.\n",
    "- Syntax of DataFrame.groupby()<br>\n",
    "    DataFrame.groupby(by=None, axis=0, level=None, as_index=True,\n",
    "    sort=True, group_keys=True, squeeze=<no_default>,      <br>\n",
    "    observed=False, dropna=True)                           "
   ]
  },
  {
   "cell_type": "code",
   "execution_count": null,
   "metadata": {
    "hidden": true
   },
   "outputs": [],
   "source": [
    "#grouping data\n",
    "df = pd.DataFrame({'Company':['GOOG','GOOG','MSFT','MSFT','FB','FB'],\n",
    "                   'Month':['Jan','Feb','Jan','Feb','Jan','Feb'],\n",
    "                   'Sales':[200,120,340,124,243,350]})\n",
    "df"
   ]
  },
  {
   "cell_type": "code",
   "execution_count": null,
   "metadata": {
    "hidden": true
   },
   "outputs": [],
   "source": [
    "#average sales per company\n",
    "df.groupby(\"Company\").mean()               "
   ]
  },
  {
   "cell_type": "code",
   "execution_count": null,
   "metadata": {
    "hidden": true
   },
   "outputs": [],
   "source": [
    "#Total sales per month\n",
    "df.groupby(\"Month\").sum()  "
   ]
  },
  {
   "cell_type": "code",
   "execution_count": null,
   "metadata": {
    "hidden": true
   },
   "outputs": [],
   "source": [
    "#group by a numerical value(bins) calculate a statistic\n",
    "s_groups = pd.cut(df['Sales'], bins=[100, 200, 300, np.inf])\n",
    "df.groupby(s_groups).count()"
   ]
  },
  {
   "cell_type": "code",
   "execution_count": null,
   "metadata": {
    "hidden": true
   },
   "outputs": [],
   "source": [
    "#Cross tabulation \n",
    "pd.crosstab(df.Company, df.Month)"
   ]
  },
  {
   "cell_type": "markdown",
   "metadata": {
    "heading_collapsed": true
   },
   "source": [
    "##### 2.1.2.3 Dealing with missing data "
   ]
  },
  {
   "cell_type": "code",
   "execution_count": null,
   "metadata": {
    "hidden": true
   },
   "outputs": [],
   "source": [
    "d = {'A':[1,2,np.nan,3],'B':[5,np.nan, np.nan,7],'C':[1,2,3,4]}\n",
    "df = pd.DataFrame(d)\n",
    "df"
   ]
  },
  {
   "cell_type": "code",
   "execution_count": null,
   "metadata": {
    "hidden": true
   },
   "outputs": [],
   "source": [
    "#drop rows with NaN value\n",
    "df.dropna() "
   ]
  },
  {
   "cell_type": "code",
   "execution_count": null,
   "metadata": {
    "hidden": true
   },
   "outputs": [],
   "source": [
    "# drops cols with null values with given threshold (atleast n non-NaNs for the column to survive)\n",
    "df.dropna(axis=1, thresh=3)"
   ]
  },
  {
   "cell_type": "code",
   "execution_count": null,
   "metadata": {
    "hidden": true
   },
   "outputs": [],
   "source": [
    "#fill NaN with a user specified value\n",
    "df.fillna(value=\"99\")                              #to change the df use inplace=True"
   ]
  },
  {
   "cell_type": "code",
   "execution_count": null,
   "metadata": {
    "hidden": true
   },
   "outputs": [],
   "source": [
    "#fill NaN with different value for different column\n",
    "\n",
    "colfill = {\"A\": -99, \"B\": 99, \"C\": 999}\n",
    "df.fillna(value=colfill)"
   ]
  },
  {
   "cell_type": "code",
   "execution_count": null,
   "metadata": {
    "hidden": true
   },
   "outputs": [],
   "source": [
    "#fill NaN with forward fill method - last valid number\n",
    "df.fillna(method='ffill')                         "
   ]
  },
  {
   "cell_type": "code",
   "execution_count": null,
   "metadata": {
    "hidden": true
   },
   "outputs": [],
   "source": [
    "#fill NaN with forward fill method - next valid number\n",
    "df.fillna(method='backfill')                         "
   ]
  },
  {
   "cell_type": "code",
   "execution_count": null,
   "metadata": {
    "hidden": true
   },
   "outputs": [],
   "source": [
    "df['A'].mean()"
   ]
  },
  {
   "cell_type": "code",
   "execution_count": null,
   "metadata": {
    "hidden": true
   },
   "outputs": [],
   "source": [
    "# mean imputation\n",
    "df.fillna(value= df['A'].mean()) "
   ]
  },
  {
   "cell_type": "markdown",
   "metadata": {
    "heading_collapsed": true
   },
   "source": [
    "##### 2.1.2.4 Merging  & Joining Datasets "
   ]
  },
  {
   "cell_type": "code",
   "execution_count": null,
   "metadata": {
    "hidden": true
   },
   "outputs": [],
   "source": [
    "d1 = {\"Id\": ['I01', 'I02', 'I03', 'I04','I05'],\n",
    "     \"Name\":['Aamir', 'Salman', 'Shahrukh', 'Akshay', 'Hrithik'], \n",
    "      \"Age\":[45, 54, 55, 56, 44],} \n",
    "\n",
    "d2 = {\"Id\": ['I02', 'I01', 'I04', 'I03'],\n",
    " \"Address\":[\"Delhi\", \"Gurgaon\", \"Noida\", \"Pune\"], \n",
    " \"Qualification\":[\"Btech\", \"B.A\", \"Bcom\", \"B.hons\"]}\n",
    "\n",
    "df1=pd.DataFrame(d1)\n",
    "df2=pd.DataFrame(d2)"
   ]
  },
  {
   "cell_type": "code",
   "execution_count": null,
   "metadata": {
    "hidden": true
   },
   "outputs": [],
   "source": [
    "# concat() is used for combining Data Frames across rows or columns.\n",
    "pd.concat([df1,df2], axis=0, sort=False)                     #ignore_index=True"
   ]
  },
  {
   "cell_type": "code",
   "execution_count": null,
   "metadata": {
    "hidden": true
   },
   "outputs": [],
   "source": [
    "# concat() is used for combining Data Frames across rows or columns.\n",
    "pd.concat([df1,df2], axis=1, sort=False)"
   ]
  },
  {
   "cell_type": "code",
   "execution_count": null,
   "metadata": {
    "hidden": true
   },
   "outputs": [],
   "source": [
    "df1.append(df2, sort=False)                  #same as concat(axis=0)"
   ]
  },
  {
   "cell_type": "code",
   "execution_count": null,
   "metadata": {
    "hidden": true
   },
   "outputs": [],
   "source": [
    "# merge() is used for combining data on common columns or indices.\n",
    "df1.merge(df2)                                    #Inner Join - automatically on \"Id\" - common rows"
   ]
  },
  {
   "cell_type": "code",
   "execution_count": null,
   "metadata": {
    "hidden": true
   },
   "outputs": [],
   "source": [
    "pd.merge(df1,df2,left_on=\"Id\",right_on=\"Id\",how='inner')        #if column names are different"
   ]
  },
  {
   "cell_type": "code",
   "execution_count": null,
   "metadata": {
    "hidden": true
   },
   "outputs": [],
   "source": [
    "pd.merge(df1,df2,how='left')                                   #Left Join"
   ]
  },
  {
   "cell_type": "code",
   "execution_count": null,
   "metadata": {
    "hidden": true
   },
   "outputs": [],
   "source": [
    "pd.merge(df1,df2,how='outer')                                   #Outer Join"
   ]
  },
  {
   "cell_type": "code",
   "execution_count": null,
   "metadata": {
    "hidden": true
   },
   "outputs": [],
   "source": [
    "# join() is used for combining data on index.\n",
    "df1.join(df2, lsuffix='_l', rsuffix='_r')                  #Same column get renamed"
   ]
  },
  {
   "cell_type": "markdown",
   "metadata": {
    "heading_collapsed": true
   },
   "source": [
    "##### 2.1.2.5 Operations on Datasets"
   ]
  },
  {
   "cell_type": "code",
   "execution_count": null,
   "metadata": {
    "hidden": true
   },
   "outputs": [],
   "source": [
    "df.columns"
   ]
  },
  {
   "cell_type": "code",
   "execution_count": null,
   "metadata": {
    "hidden": true
   },
   "outputs": [],
   "source": [
    "df.index"
   ]
  },
  {
   "cell_type": "code",
   "execution_count": null,
   "metadata": {
    "hidden": true
   },
   "outputs": [],
   "source": [
    "#count of each column\n",
    "df1.count()"
   ]
  },
  {
   "cell_type": "code",
   "execution_count": null,
   "metadata": {
    "hidden": true
   },
   "outputs": [],
   "source": [
    "# Stats for numeric cols\n",
    "df1.describe()"
   ]
  },
  {
   "cell_type": "code",
   "execution_count": null,
   "metadata": {
    "hidden": true
   },
   "outputs": [],
   "source": [
    "# unique values\n",
    "df2[\"Address\"].unique()"
   ]
  },
  {
   "cell_type": "code",
   "execution_count": null,
   "metadata": {
    "hidden": true
   },
   "outputs": [],
   "source": [
    "df1['Age'].value_counts()"
   ]
  },
  {
   "cell_type": "code",
   "execution_count": null,
   "metadata": {
    "hidden": true
   },
   "outputs": [],
   "source": [
    "# apply a fucntion to each row\n",
    "df1[\"Age\"].apply(lambda x: x/2) "
   ]
  },
  {
   "cell_type": "code",
   "execution_count": null,
   "metadata": {
    "hidden": true
   },
   "outputs": [],
   "source": [
    "df1.sort_values('Age')"
   ]
  },
  {
   "cell_type": "markdown",
   "metadata": {
    "heading_collapsed": true
   },
   "source": [
    "##### 2.1.2.6 Data Input & Output"
   ]
  },
  {
   "cell_type": "code",
   "execution_count": null,
   "metadata": {
    "hidden": true
   },
   "outputs": [],
   "source": [
    "#Reading csv file into a DataFrame\n",
    "netflix_df = pd.read_csv(\"netflix_subscription_fee.csv\", )\n",
    "netflix_df.head()"
   ]
  },
  {
   "cell_type": "code",
   "execution_count": null,
   "metadata": {
    "hidden": true
   },
   "outputs": [],
   "source": [
    "#reading an excel file into a DataFrame\n",
    "insurance_df = pd.read_excel(\"insurance_data.xlsx\",sheet_name=0, parse_dates=True)\n",
    "insurance_df.count()"
   ]
  },
  {
   "cell_type": "code",
   "execution_count": null,
   "metadata": {
    "hidden": true
   },
   "outputs": [],
   "source": [
    "insurance_df.InsuredValue.max()"
   ]
  },
  {
   "cell_type": "code",
   "execution_count": null,
   "metadata": {
    "hidden": true
   },
   "outputs": [],
   "source": [
    "import html5lib\n",
    "#Read HTML tables into a list of DataFrame objects.\n",
    "data = pd.read_html('https://www.fdic.gov/resources/resolutions/bank-failures/failed-bank-list/')"
   ]
  },
  {
   "cell_type": "code",
   "execution_count": null,
   "metadata": {
    "hidden": true
   },
   "outputs": [],
   "source": [
    "data[0]"
   ]
  },
  {
   "cell_type": "code",
   "execution_count": null,
   "metadata": {
    "hidden": true
   },
   "outputs": [],
   "source": [
    "#reading a json file \n",
    "iris_df = pd.read_json(\"https://raw.githubusercontent.com/domoritz/maps/master/data/iris.json\")"
   ]
  },
  {
   "cell_type": "code",
   "execution_count": null,
   "metadata": {
    "hidden": true
   },
   "outputs": [],
   "source": [
    "iris_df.head()"
   ]
  },
  {
   "cell_type": "code",
   "execution_count": null,
   "metadata": {
    "hidden": true
   },
   "outputs": [],
   "source": [
    "# writing to a csv file\n",
    "iris_df.to_csv(\"iris.csv\")"
   ]
  },
  {
   "cell_type": "markdown",
   "metadata": {
    "heading_collapsed": true
   },
   "source": [
    "##### 2.1.2.7 Basic Plots \n",
    "- Pandas uses the plot() method to create diagrams.\n",
    "- Pyplot, a submodule of the Matplotlib library can be used to visualize the diagram on the screen."
   ]
  },
  {
   "cell_type": "code",
   "execution_count": null,
   "metadata": {
    "hidden": true
   },
   "outputs": [],
   "source": [
    "# read motor trends cars data from the web   \n",
    "data = pd.read_html(\"https://gist.github.com/seankross/a412dfbd88b3db70b74b\")\n",
    "mtcars_df = data[0]\n",
    "mtcars_df.head()"
   ]
  },
  {
   "cell_type": "code",
   "execution_count": null,
   "metadata": {
    "hidden": true
   },
   "outputs": [],
   "source": [
    "import matplotlib.pyplot as plt\n",
    "% matplotlib inline             "
   ]
  },
  {
   "cell_type": "code",
   "execution_count": null,
   "metadata": {
    "hidden": true
   },
   "outputs": [],
   "source": [
    "# retreiving mtcars data from the web\n",
    "data = pd.read_html(\"https://gist.github.com/seankross/a412dfbd88b3db70b74b\")\n",
    "mtcars_df = data[0]"
   ]
  },
  {
   "cell_type": "code",
   "execution_count": null,
   "metadata": {
    "hidden": true
   },
   "outputs": [],
   "source": [
    "# scatter plot\n",
    "mtcars_df.plot(kind = 'scatter', x = 'disp', y = 'hp')\n",
    "plt.show()"
   ]
  },
  {
   "cell_type": "code",
   "execution_count": null,
   "metadata": {
    "hidden": true
   },
   "outputs": [],
   "source": [
    "#histogram\n",
    "mtcars_df[\"mpg\"].plot(kind = 'hist', )"
   ]
  },
  {
   "cell_type": "markdown",
   "metadata": {
    "heading_collapsed": true
   },
   "source": [
    "#### 3. String & Text"
   ]
  },
  {
   "cell_type": "code",
   "execution_count": null,
   "metadata": {
    "hidden": true
   },
   "outputs": [],
   "source": [
    "#a string is a sequence of characters.\n",
    "message = \"Have a wonderful day!\"\n",
    "print(message[0:5])"
   ]
  },
  {
   "cell_type": "code",
   "execution_count": null,
   "metadata": {
    "hidden": true
   },
   "outputs": [],
   "source": [
    "#number of characters in a string\n",
    "len(message)"
   ]
  },
  {
   "cell_type": "code",
   "execution_count": null,
   "metadata": {
    "hidden": true
   },
   "outputs": [],
   "source": [
    "message.upper()"
   ]
  },
  {
   "cell_type": "code",
   "execution_count": null,
   "metadata": {
    "hidden": true
   },
   "outputs": [],
   "source": [
    "# index of a substring\n",
    "message.find(\"day\")"
   ]
  },
  {
   "cell_type": "code",
   "execution_count": null,
   "metadata": {
    "hidden": true
   },
   "outputs": [],
   "source": [
    "#how many 'a' are there?\n",
    "message.count('a')"
   ]
  },
  {
   "cell_type": "code",
   "execution_count": null,
   "metadata": {
    "hidden": true
   },
   "outputs": [],
   "source": [
    "# break into 3 parts \n",
    "message.partition(' ')"
   ]
  },
  {
   "cell_type": "code",
   "execution_count": null,
   "metadata": {
    "hidden": true
   },
   "outputs": [],
   "source": [
    "# break into seperate words\n",
    "message.rsplit(\" \")"
   ]
  },
  {
   "cell_type": "code",
   "execution_count": null,
   "metadata": {
    "hidden": true
   },
   "outputs": [],
   "source": [
    "#String formatting \n",
    "quantity = 3\n",
    "itemno = 567\n",
    "price = 49.95\n",
    "myorder = \"I want {} pieces of item {} for {} dollars.\""
   ]
  },
  {
   "cell_type": "code",
   "execution_count": null,
   "metadata": {
    "hidden": true
   },
   "outputs": [],
   "source": [
    "# c-style printing\n",
    "print(\"I want %d pieces of item %d for %.2f dollars.\" %(quantity, itemno, price))"
   ]
  },
  {
   "cell_type": "code",
   "execution_count": null,
   "metadata": {
    "hidden": true
   },
   "outputs": [],
   "source": [
    "# string formatting function\n",
    "print(myorder.format(quantity, itemno, price))"
   ]
  },
  {
   "cell_type": "code",
   "execution_count": null,
   "metadata": {
    "hidden": true
   },
   "outputs": [],
   "source": [
    "# f-string\n",
    "print(f'I want {quantity} pieces of item {itemno} for {price} dollars.')"
   ]
  },
  {
   "cell_type": "code",
   "execution_count": null,
   "metadata": {
    "hidden": true
   },
   "outputs": [],
   "source": [
    "# f-srting are fast and they are evaluated as expressions\n",
    "list = [1, 2, 3, 4, 5]\n",
    "print(f'The sum is: {sum(list)}')"
   ]
  },
  {
   "cell_type": "markdown",
   "metadata": {
    "heading_collapsed": true,
    "hidden": true
   },
   "source": [
    "##### 3.2 Regular expressions\n",
    "- a package called re, which can be used to work with regular expressions\n",
    "- Functions:\n",
    "     - findall: Returns a list containing all matches\n",
    "     - search : Returns a Match object if there is a match anywhere in the string\n",
    "     - split: Returns a list where the string has been split at each match\n",
    "     - sub: Replaces one or many matches with a string\n",
    "     \n",
    "- Character description\n",
    "    - []\tA set of characters\t\t\n",
    "    - \\\tSignals a special sequence\t\n",
    "    - .\tAny character \t\n",
    "    - ^\tStarts with\t\n",
    "    - $\tEnds with\t\t\n",
    "    - '*'\tZero or more occurrences\n",
    "    - '+'\tOne or more occurrences\t\t\n",
    "    - ?\tZero or one occurrences\t\t\n",
    "    - {}\tExactly the specified number of occurrences\t\n",
    "    - |\tEither or\t\n",
    "    - ()\tCapture and group"
   ]
  },
  {
   "cell_type": "code",
   "execution_count": null,
   "metadata": {
    "hidden": true
   },
   "outputs": [],
   "source": [
    "import re"
   ]
  },
  {
   "cell_type": "code",
   "execution_count": null,
   "metadata": {
    "hidden": true
   },
   "outputs": [],
   "source": [
    "text = \"It rained in Spain\"\n",
    "x = re.findall(\"ai\", text)\n",
    "print(x)"
   ]
  },
  {
   "cell_type": "code",
   "execution_count": null,
   "metadata": {
    "hidden": true
   },
   "outputs": [],
   "source": [
    "x = re.split(\"\\s\", text)        # \\s -> white space character\n",
    "print(x)"
   ]
  },
  {
   "cell_type": "code",
   "execution_count": null,
   "metadata": {
    "hidden": true
   },
   "outputs": [],
   "source": [
    "# replacing parts of strings\n",
    "str = 'aaa@gmail.com bbb@hotmail.com ccc@apple.com'\n",
    "print(re.sub('[a-z]*@', 'info@', str))             #anything before @ with info"
   ]
  },
  {
   "cell_type": "code",
   "execution_count": null,
   "metadata": {
    "hidden": true
   },
   "outputs": [],
   "source": [
    "str = 'aaa@gmail.com bbb@hotmail.com ccc@apple.com'\n",
    "print(re.sub('gmail|hotmail|apple', 'accelerateai', str))"
   ]
  },
  {
   "cell_type": "code",
   "execution_count": null,
   "metadata": {
    "hidden": true
   },
   "outputs": [],
   "source": [
    "# searching for specific pattern - re.search() \n",
    "# it takes a regular expression pattern and a string and searches for that pattern within the string. \n",
    "# If the search is successful, search() returns a match object\n",
    "\n",
    "str = 'purple alice-b@google.com monkey dishwasher'\n",
    "\n",
    "match = re.search(r'([\\w.-]+)@([\\w.-]+)', str)\n",
    "if match:\n",
    "    print(match.group())   ## (the whole match)\n",
    "    print(match.group(1))  ## (the username, group 1)\n",
    "    print(match.group(2))  ## (the host, group 2)"
   ]
  },
  {
   "cell_type": "code",
   "execution_count": null,
   "metadata": {
    "hidden": true
   },
   "outputs": [],
   "source": [
    "## re.findall() returns a list of all the found email strings\n",
    "str = 'purple alice@google.com, blah monkey bob@abc.com blah dishwasher'\n",
    "emails = re.findall(r'[\\w\\.-]+@[\\w\\.-]+', str) \n",
    "for email in emails:\n",
    "    print(email)"
   ]
  },
  {
   "cell_type": "code",
   "execution_count": null,
   "metadata": {
    "hidden": true
   },
   "outputs": [],
   "source": []
  }
 ],
 "metadata": {
  "kernelspec": {
   "display_name": "Python 3",
   "language": "python",
   "name": "python3"
  }
 },
 "nbformat": 4,
 "nbformat_minor": 2
}
