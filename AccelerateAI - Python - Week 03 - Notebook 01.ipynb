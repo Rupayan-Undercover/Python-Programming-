{
 "cells": [
  {
   "cell_type": "markdown",
   "metadata": {},
   "source": [
    "### AccelerateAI - Python for Data Science\n",
    "##### Introduction to Python Language  (Python 3) \n",
    "In this notebook we will cover the following: \n",
    "- Date / Time / Time Series\n",
    "- Handling time in Pandas\n",
    "- Case 01: Covid-19 Analysis\n",
    "- Case 02: Stock Price Analysis\n",
    "\n",
    "In the next one we will look at:\n",
    "- Processing JSON/Xls\n",
    "- Web Scraping\n",
    "- Relational Database\n",
    "- Data Pipeline"
   ]
  },
  {
   "cell_type": "markdown",
   "metadata": {
    "heading_collapsed": true
   },
   "source": [
    "##### 1. Date  & Time : \n",
    "- The Python standard library includes data types for date and time data, as well as calendar-related functionality. \n",
    "- The datetime.datetime type, or simply datetime, is widely used"
   ]
  },
  {
   "cell_type": "code",
   "execution_count": null,
   "metadata": {
    "hidden": true
   },
   "outputs": [],
   "source": [
    "#The datetime module supplies classes for manipulating dates and times.\n",
    "from datetime import *"
   ]
  },
  {
   "cell_type": "raw",
   "metadata": {
    "hidden": true
   },
   "source": [
    "Available Types\n",
    "class datetime.date\n",
    "class datetime.time\n",
    "class datetime.datetime\n",
    "class datetime.timedelta\n",
    "class datetime.tzinfo\n",
    "class datetime.timezone"
   ]
  },
  {
   "cell_type": "code",
   "execution_count": null,
   "metadata": {
    "hidden": true
   },
   "outputs": [],
   "source": [
    "now = datetime.now()\n",
    "print(\"Year:\",now.year, \"Month:\", now.month, \"Date:\",now.day)"
   ]
  },
  {
   "cell_type": "code",
   "execution_count": null,
   "metadata": {
    "hidden": true
   },
   "outputs": [],
   "source": [
    "#Time difference - timedelta\n",
    "timediff = datetime.now() - datetime(2020, 3, 22)        # days since lockdown\n",
    "timediff"
   ]
  },
  {
   "cell_type": "code",
   "execution_count": null,
   "metadata": {
    "hidden": true
   },
   "outputs": [],
   "source": [
    "timediff.days , timediff.seconds, timediff.microseconds"
   ]
  },
  {
   "cell_type": "code",
   "execution_count": null,
   "metadata": {
    "hidden": true
   },
   "outputs": [],
   "source": [
    "#Date arithmetic\n",
    "d = datetime(2021, 12, 31)\n",
    "t = timedelta(days=10)    \n",
    "d2 = d + t\n",
    "d2.isoformat()"
   ]
  },
  {
   "cell_type": "code",
   "execution_count": null,
   "metadata": {
    "hidden": true
   },
   "outputs": [],
   "source": [
    "d2.weekday()                   # week starts from Monday: 0"
   ]
  },
  {
   "cell_type": "code",
   "execution_count": null,
   "metadata": {
    "hidden": true
   },
   "outputs": [],
   "source": [
    "today = datetime.now()\n",
    "print('Week #:',today.isocalendar()[1])"
   ]
  },
  {
   "cell_type": "code",
   "execution_count": null,
   "metadata": {
    "hidden": true
   },
   "outputs": [],
   "source": [
    "#Formatting \n",
    "d2.strftime(\"%A, %d %B,%Y\")                        #%b - Jan, %y - 22"
   ]
  },
  {
   "cell_type": "code",
   "execution_count": null,
   "metadata": {
    "hidden": true
   },
   "outputs": [],
   "source": [
    "#The dateutil module provides powerful extensions to the standard datetime module, available in Python.\n",
    "from dateutil.parser import parse"
   ]
  },
  {
   "cell_type": "code",
   "execution_count": null,
   "metadata": {
    "hidden": true
   },
   "outputs": [],
   "source": [
    "date = parse('Mar 19, 2022 6:45 PM')              #can parsing almost any human-intelligible date representation\n",
    "date"
   ]
  },
  {
   "cell_type": "code",
   "execution_count": null,
   "metadata": {
    "hidden": true
   },
   "outputs": [],
   "source": [
    "t1 = time(13,20,13,40)\n",
    "print(t1)\n",
    "print(type(t1))"
   ]
  },
  {
   "cell_type": "code",
   "execution_count": null,
   "metadata": {
    "hidden": true
   },
   "outputs": [],
   "source": [
    "import calendar\n",
    "print(calendar.calendar(2022))"
   ]
  },
  {
   "cell_type": "code",
   "execution_count": null,
   "metadata": {
    "hidden": true
   },
   "outputs": [],
   "source": [
    "#Date time in Pandas\n",
    "import pandas as pd \n",
    "import numpy as np "
   ]
  },
  {
   "cell_type": "markdown",
   "metadata": {
    "heading_collapsed": true
   },
   "source": [
    "##### 2  Handling time in Pandas\n",
    "\n",
    "- Pandas contains extensive capabilities and features for working with time series data. \n",
    "- Using the NumPy datetime64 and timedelta64 dtypes, pandas has functionality for manipulating time series data.\n",
    "\n",
    "Parsing time series information from various sources and formats using to_datetime(): \n",
    "Many input types are supported, and lead to different output types:\n",
    "  - scalars can be int, float, str, datetime object.\n",
    "       - They are converted to Timestamp when possible, otherwise they are converted to datetime.datetime. \n",
    "       - None/NaN/null scalars are converted to NaT.\n",
    "\n",
    "  - array-like can contain int, float, str, datetime objects. \n",
    "      - They are converted to DatetimeIndex when possible, otherwise they are converted to Index with object dtype, containing datetime.datetime. \n",
    "      - None/NaN/null entries are converted to NaT in both cases.\n",
    "  - Series:\n",
    "      - They are converted to Series with datetime64 dtype when possible, otherwise they are converted to Series with object dtype, containing datetime.datetime. \n",
    "      - None/NaN/null entries are converted to NaT in both cases.\n",
    "  - DataFrame/dict-like :\n",
    "      - They are converted to Series with datetime64 dtype."
   ]
  },
  {
   "cell_type": "code",
   "execution_count": null,
   "metadata": {
    "hidden": true
   },
   "outputs": [],
   "source": [
    "pd.to_datetime(10, unit=\"D\")"
   ]
  },
  {
   "cell_type": "raw",
   "metadata": {
    "hidden": true
   },
   "source": [
    "Date Origin : The default is set at origin='unix', which defaults to 1970-01-01 00:00:00. Commonly called ‘unix epoch’ or\n",
    "POSIX time. This can be changed using  the origin parameter"
   ]
  },
  {
   "cell_type": "code",
   "execution_count": null,
   "metadata": {
    "hidden": true
   },
   "outputs": [],
   "source": [
    "pd.to_datetime([1, 2, 3], unit=\"D\", origin=pd.Timestamp(\"2000-01-01\"))"
   ]
  },
  {
   "cell_type": "code",
   "execution_count": null,
   "metadata": {
    "hidden": true
   },
   "outputs": [],
   "source": [
    "pd.to_datetime('24th of April, 2020')"
   ]
  },
  {
   "cell_type": "code",
   "execution_count": null,
   "metadata": {
    "hidden": true
   },
   "outputs": [],
   "source": [
    "datestrs = ['7/6/2011', '8/6/2011']\n",
    "pd.to_datetime(datestrs)                        "
   ]
  },
  {
   "cell_type": "code",
   "execution_count": null,
   "metadata": {
    "hidden": true
   },
   "outputs": [],
   "source": [
    "pd.to_datetime('13000101', format='%Y%m%d', errors='ignore')"
   ]
  },
  {
   "cell_type": "code",
   "execution_count": null,
   "metadata": {
    "hidden": true
   },
   "outputs": [],
   "source": [
    "# to_daterange() - Returns the range of equally spaced time points \n",
    "pd.date_range(start='1/1/2018', \n",
    "              end='1/08/2018', \n",
    "              freq='D')                   #freq = D- Calender day, B- business day, W- week, M- Month, Q - Quarter, H-Hour etc"
   ]
  },
  {
   "cell_type": "code",
   "execution_count": null,
   "metadata": {
    "hidden": true
   },
   "outputs": [],
   "source": [
    "# Creating custom date range \n",
    "start = datetime(2022, 3, 1)\n",
    "end = datetime(2022, 4, 1)\n",
    "weekmask = \"Mon Wed Fri\"\n",
    "holidays = [datetime(2022, 3, 18), datetime(2022, 3, 24)]\n",
    "pd.bdate_range(start, end, freq=\"C\", weekmask=weekmask, holidays=holidays)"
   ]
  },
  {
   "cell_type": "code",
   "execution_count": null,
   "metadata": {
    "hidden": true
   },
   "outputs": [],
   "source": [
    "#Date arithmetic with pandas datetime \n",
    "today = pd.Timestamp(\"2022-03-19\")\n",
    "DayAfterTomorrow = today + pd.Timedelta(\"2 day\")\n",
    "DayAfterTomorrow.day_name()"
   ]
  },
  {
   "cell_type": "code",
   "execution_count": null,
   "metadata": {
    "hidden": true
   },
   "outputs": [],
   "source": [
    "nextBDay = today + pd.offsets.BDay()                  #next business day \n",
    "nextBDay.date()"
   ]
  },
  {
   "cell_type": "code",
   "execution_count": null,
   "metadata": {
    "hidden": true
   },
   "outputs": [],
   "source": [
    "#Indexing - One of the main uses for DatetimeIndex is as an index for pandas objects\n",
    "timeindex = pd.date_range(\"2022-01-01\", periods= 10, freq=\"5D\")\n",
    "ts = pd.Series(np.random.randn(len(timeindex)), index=timeindex)\n",
    "ts"
   ]
  },
  {
   "cell_type": "code",
   "execution_count": null,
   "metadata": {
    "hidden": true
   },
   "outputs": [],
   "source": [
    "ts[1:5]                                 # row 1 to 4"
   ]
  },
  {
   "cell_type": "code",
   "execution_count": null,
   "metadata": {
    "hidden": true
   },
   "outputs": [],
   "source": [
    "ts[::3]                                 # every third row"
   ]
  },
  {
   "cell_type": "code",
   "execution_count": null,
   "metadata": {
    "hidden": true
   },
   "outputs": [],
   "source": [
    "ts[\"Jan-2022\"]                          # intel inside ! "
   ]
  },
  {
   "cell_type": "code",
   "execution_count": null,
   "metadata": {
    "hidden": true
   },
   "outputs": [],
   "source": [
    "ts[\"2022-01-16\" : \"2022-01-31\"]         # includes the endpoints "
   ]
  },
  {
   "cell_type": "code",
   "execution_count": null,
   "metadata": {
    "hidden": true
   },
   "outputs": [],
   "source": [
    "ts.truncate(before=\"2022-01-16\", after=\"2022-01-31\")"
   ]
  },
  {
   "cell_type": "code",
   "execution_count": null,
   "metadata": {
    "hidden": true
   },
   "outputs": [],
   "source": [
    "ts.shift(2)                        #creating lags and leads"
   ]
  },
  {
   "cell_type": "code",
   "execution_count": null,
   "metadata": {
    "hidden": true
   },
   "outputs": [],
   "source": [
    "ts.resample(\"10D\").asfreq()"
   ]
  },
  {
   "cell_type": "code",
   "execution_count": null,
   "metadata": {
    "hidden": true
   },
   "outputs": [],
   "source": [
    "ts.resample(\"2D\").asfreq()                     #What would happen here?"
   ]
  },
  {
   "cell_type": "code",
   "execution_count": null,
   "metadata": {
    "hidden": true
   },
   "outputs": [],
   "source": [
    "df = pd.DataFrame(\n",
    "    np.random.rand(120, 3),\n",
    "     index=pd.date_range(\"1/1/2012\", freq=\"H\", periods=120),\n",
    "     columns=[\"A\", \"B\", \"C\"]\n",
    "     )\n",
    "\n",
    "r = df.resample(\"D\")\n",
    "r.sum()"
   ]
  },
  {
   "cell_type": "code",
   "execution_count": null,
   "metadata": {
    "hidden": true
   },
   "outputs": [],
   "source": [
    "r[\"A\"].agg([np.sum, np.mean, np.std])"
   ]
  },
  {
   "cell_type": "code",
   "execution_count": null,
   "metadata": {
    "hidden": true
   },
   "outputs": [],
   "source": [
    "r.agg({\"A\": np.sum, \"B\": np.mean})"
   ]
  },
  {
   "cell_type": "markdown",
   "metadata": {
    "heading_collapsed": true
   },
   "source": [
    "#### 3.1  Case Study : Covid-19 Analysis"
   ]
  },
  {
   "cell_type": "code",
   "execution_count": null,
   "metadata": {
    "hidden": true
   },
   "outputs": [],
   "source": [
    "# Import libraries\n",
    "import pandas as pd\n",
    "import numpy as np"
   ]
  },
  {
   "cell_type": "code",
   "execution_count": null,
   "metadata": {
    "hidden": true
   },
   "outputs": [],
   "source": [
    "# Import data\n",
    "coviddata = \"https://api.covidtracking.com/v1/us/daily.csv\"\n",
    "covid_df = pd.read_csv(coviddata)"
   ]
  },
  {
   "cell_type": "code",
   "execution_count": null,
   "metadata": {
    "hidden": true
   },
   "outputs": [],
   "source": [
    "covid_df.info()"
   ]
  },
  {
   "cell_type": "code",
   "execution_count": null,
   "metadata": {
    "hidden": true
   },
   "outputs": [],
   "source": [
    "covid_df['date']= pd.to_datetime(covid_df['date'],format='%Y%m%d')"
   ]
  },
  {
   "cell_type": "code",
   "execution_count": null,
   "metadata": {
    "hidden": true
   },
   "outputs": [],
   "source": [
    "covid_df.head()"
   ]
  },
  {
   "cell_type": "code",
   "execution_count": null,
   "metadata": {
    "hidden": true
   },
   "outputs": [],
   "source": [
    "#flip the data \n",
    "df = covid_df[::-1]"
   ]
  },
  {
   "cell_type": "code",
   "execution_count": null,
   "metadata": {
    "hidden": true
   },
   "outputs": [],
   "source": [
    "# select columns to work with\n",
    "df = df.loc[:,['date','states','positiveIncrease','deathIncrease','hospitalizedIncrease']] \n",
    "df.set_index('date',inplace=True)\n",
    "df.sample(20)"
   ]
  },
  {
   "cell_type": "code",
   "execution_count": null,
   "metadata": {
    "hidden": true
   },
   "outputs": [],
   "source": [
    "df.plot()"
   ]
  },
  {
   "cell_type": "code",
   "execution_count": null,
   "metadata": {
    "hidden": true
   },
   "outputs": [],
   "source": [
    "#lets get the monthly averages \n",
    "monthly_df = df.resample(\"M\").sum()"
   ]
  },
  {
   "cell_type": "code",
   "execution_count": null,
   "metadata": {
    "hidden": true
   },
   "outputs": [],
   "source": [
    "# install plot library\n",
    "import matplotlib.pyplot as plt\n",
    "%matplotlib inline\n",
    "import seaborn as sns\n",
    "\n",
    "fig,ax = plt.subplots(figsize=(12,6))\n",
    "\n",
    "ax.plot(monthly_df.index,monthly_df['positiveIncrease'],color='red',label='Avg Monthly infections')\n",
    "ax.plot(monthly_df.index, monthly_df[\"deathIncrease\"], color=\"blue\",label='Avg Monthly deaths')"
   ]
  },
  {
   "cell_type": "code",
   "execution_count": null,
   "metadata": {
    "hidden": true
   },
   "outputs": [],
   "source": [
    "fig,ax = plt.subplots(figsize=(12,6))\n",
    "\n",
    "ax.plot(monthly_df.index,monthly_df['positiveIncrease'],color='red',label='Avg Monthly infections')\n",
    "ax.set_ylabel('Monthly Infections')\n",
    "\n",
    "ax2=ax.twinx()\n",
    "ax2.plot(monthly_df.index, monthly_df[\"deathIncrease\"], color=\"blue\",label='Avg Monthly deaths')\n",
    "\n",
    "ax2.grid(False) # turn off grid for second Y axis\n",
    "ax2.set_ylabel('Monthly deaths')\n",
    "\n",
    "leg = ax.legend(loc='center', frameon=False,bbox_to_anchor=(0.5, -0.10))\n",
    "leg2= ax2.legend(loc='center', frameon=False,bbox_to_anchor=(0.49, -0.15))"
   ]
  },
  {
   "cell_type": "markdown",
   "metadata": {
    "heading_collapsed": true
   },
   "source": [
    "#### 3.2  Case Study : Stock Price Analysis"
   ]
  },
  {
   "cell_type": "code",
   "execution_count": null,
   "metadata": {
    "hidden": true
   },
   "outputs": [],
   "source": [
    "import pandas_datareader as pdr               #for retreiving stock prices"
   ]
  },
  {
   "cell_type": "code",
   "execution_count": null,
   "metadata": {
    "hidden": true
   },
   "outputs": [],
   "source": [
    "# Have a list of tech stock tickers\n",
    "tickers = ['msft', 'aapl', 'tsla', 'nvda']\n",
    "stockdata = pdr.get_data_yahoo(tickers)"
   ]
  },
  {
   "cell_type": "code",
   "execution_count": null,
   "metadata": {
    "hidden": true
   },
   "outputs": [],
   "source": [
    "df = stockdata.Close\n",
    "df.head()"
   ]
  },
  {
   "cell_type": "code",
   "execution_count": null,
   "metadata": {
    "hidden": true
   },
   "outputs": [],
   "source": [
    "sns.set(style=\"whitegrid\", rc={'figure.figsize':(12,8)})          #increase the figure size\n",
    "\n",
    "sns.lineplot(data=df, linewidth=2, palette=['red', 'blue', 'green', 'aqua'])"
   ]
  },
  {
   "cell_type": "code",
   "execution_count": null,
   "metadata": {
    "hidden": true
   },
   "outputs": [],
   "source": [
    "data_fill = df.asfreq(\"D\", method='ffill')\n",
    "data_fill.head()"
   ]
  },
  {
   "cell_type": "code",
   "execution_count": null,
   "metadata": {
    "hidden": true
   },
   "outputs": [],
   "source": [
    "def pct_change (df):\n",
    "    change = (df - df.shift(-1))/df\n",
    "    return change\n",
    "\n",
    "\n",
    "pchange_df = data_fill.apply(pct_change)\n",
    "pchange_df.head()"
   ]
  },
  {
   "cell_type": "code",
   "execution_count": null,
   "metadata": {
    "hidden": true
   },
   "outputs": [],
   "source": [
    "sns.set_style(rc={'figure.figsize':(12,8)})\n",
    "sns.heatmap(\n",
    "        data=pchange_df.corr(),  # our correlation matrix\n",
    "        linewidths=0.3,          # the width of lines separating the matrix squares\n",
    "        square=True\n",
    ")"
   ]
  },
  {
   "cell_type": "code",
   "execution_count": null,
   "metadata": {
    "hidden": true
   },
   "outputs": [],
   "source": [
    "# Generate Mask\n",
    "mask = np.triu(np.ones_like(pchange_df.corr(), dtype=bool))\n",
    "np.fill_diagonal(mask, False)  # keeps the diagonal\n",
    "# Creat heatmap with same syntax but add a \"mask\" argument\n",
    "sns.set_style(rc={'figure.figsize':(12,8)})\n",
    "sns.heatmap(\n",
    "        data=pchange_df.corr(),  # our correlation matrix\n",
    "        linewidths=0.3,          # the width of lines separating the matrix squares\n",
    "        square=True,\n",
    "        mask=mask\n",
    ")"
   ]
  },
  {
   "cell_type": "code",
   "execution_count": null,
   "metadata": {
    "hidden": true
   },
   "outputs": [],
   "source": [
    "sns.kdeplot(data=pchange_df)"
   ]
  }
 ],
 "metadata": {
  "kernelspec": {
   "display_name": "Python 3",
   "language": "python",
   "name": "python3"
  },
  "language_info": {
   "codemirror_mode": {
    "name": "ipython",
    "version": 3
   },
   "file_extension": ".py",
   "mimetype": "text/x-python",
   "name": "python",
   "nbconvert_exporter": "python",
   "pygments_lexer": "ipython3",
   "version": "3.6.5"
  }
 },
 "nbformat": 4,
 "nbformat_minor": 2
}
