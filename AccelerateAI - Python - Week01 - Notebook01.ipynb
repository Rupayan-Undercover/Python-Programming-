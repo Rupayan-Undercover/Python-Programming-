{
 "cells": [
  {
   "cell_type": "markdown",
   "metadata": {
    "heading_collapsed": true
   },
   "source": [
    "### AccelerateAI - Python for Data Science\n",
    "##### Introduction to Python Language  (Python 3) \n",
    "In this notebook we will cover the following: \n",
    "* 1. Data Types        <br> \n",
    "* 2. Variables & Expressions<br>\n",
    "* 3. Language  Basics  <br>\n",
    "* 4. Function & Modules<br>\n",
    "\n",
    "We will cover the following in Notebook 2:\n",
    "* 5. Classes  & Objects<br>\n",
    "* 6. File I/O          <br>\n",
    "* 7. Exception Handling<br>\n",
    "***"
   ]
  },
  {
   "cell_type": "markdown",
   "metadata": {
    "heading_collapsed": true,
    "hidden": true
   },
   "source": [
    "#### A note on Python 2 vs. Python 3\n",
    "* There are 2 major versions of Python in widespread use: Python 2 and Python 3. <br>\n",
    "Below is a timeline of the release of the various versions of the Python.\n",
    "\n",
    "|S.No|Python 2.0 – Release| Python 3.0 – Release |\n",
    "| :-| --- | :- | \n",
    "|First Release  |Python 2.0 – Oct 16, 2000    | Python 3.0 – Dec 3, 2008 |\n",
    "|Latest Release | Python 2.7-July 3, 2010     | Python 3.10- Oct 4, 2021 |\n",
    "\n",
    "Comparison of Python 2 & Python 3:\n",
    "* Ease of Syntax: Python 2 has more complicated syntax than Python 3.\n",
    "* “Print” Keyword:\tIn Python 2, print is considered to be a statement.In Python 3, print is a function.\n",
    "* String Storage :  In Python 2, strings are stored as ASCII by default. In Python 3, strings are stored as UNICODE by default.\n",
    "* Integer Division: Division of two integers yields an integer value in Python 2. For instance, 7/2 yields 3 in Python 2. On the division of two integers, we get a floating-point value in Python 3.\n",
    "* Exceptions\t: In Python 2, exceptions are enclosed in notations. In Python 3, exceptions are enclosed in parentheses.\n",
    "* Iteration\t: In Python 2, the xrange() function has been defined for iterations. In Python 3, the new Range() function was introduced to perform iterations.\n",
    "* Libraries: A lot of libraries of Python 2 are not forward compatible.\tMany libraries created in Python 3 can only work with Python 3.\n",
    "* Application: Python 2 was mostly used for application development.Python 3 is used in a lot of fields like Software Engineering, Data Science, web development etc.\n",
    "\n",
    "Python 2 is no longer updated since 2020. Python 3 is more popular than Python 2 and is still in active development. Hence we will use Python 3.6 or later for all our work."
   ]
  },
  {
   "cell_type": "markdown",
   "metadata": {
    "heading_collapsed": true
   },
   "source": [
    "### 1. Data Types in Python\n",
    "- Numeric Types:\tint, float, complex\n",
    "- Text Type:\tstr\n",
    "- Sequence Types:\tlist, tuple, range\n",
    "- Mapping Type:\tdict\n",
    "- Set Types:\tset, frozenset\n",
    "- Boolean Type:\tbool\n",
    "- Binary Types:\tbytes, bytearray, memoryview"
   ]
  },
  {
   "cell_type": "code",
   "execution_count": null,
   "metadata": {
    "hidden": true
   },
   "outputs": [],
   "source": [
    "1                        # python understands this is a number"
   ]
  },
  {
   "cell_type": "code",
   "execution_count": null,
   "metadata": {
    "hidden": true
   },
   "outputs": [],
   "source": [
    "1 + 5 + 7                # additions of numbers"
   ]
  },
  {
   "cell_type": "code",
   "execution_count": null,
   "metadata": {
    "hidden": true
   },
   "outputs": [],
   "source": [
    "2 + 3 * 5 + 5 -3          # BODMAS"
   ]
  },
  {
   "cell_type": "code",
   "execution_count": null,
   "metadata": {
    "hidden": true
   },
   "outputs": [],
   "source": [
    "1/3                        # division yields a floating point number"
   ]
  },
  {
   "cell_type": "code",
   "execution_count": null,
   "metadata": {
    "hidden": true
   },
   "outputs": [],
   "source": [
    "5*3.5                     # multiplication "
   ]
  },
  {
   "cell_type": "code",
   "execution_count": null,
   "metadata": {
    "hidden": true
   },
   "outputs": [],
   "source": [
    "2**4                       # exponentiating"
   ]
  },
  {
   "cell_type": "code",
   "execution_count": null,
   "metadata": {
    "hidden": true
   },
   "outputs": [],
   "source": [
    "4%2                        # modulus - good way to check an even number"
   ]
  },
  {
   "cell_type": "code",
   "execution_count": null,
   "metadata": {
    "hidden": true
   },
   "outputs": [],
   "source": [
    "x = 1                      # int\n",
    "y = 2.8                    # float\n",
    "z = x+y                    # automatic type conversion\n",
    "type(z)"
   ]
  },
  {
   "cell_type": "code",
   "execution_count": null,
   "metadata": {
    "hidden": true
   },
   "outputs": [],
   "source": [
    "#Complex numbers\n",
    "z = complex (2 , 3)\n",
    "print (z)"
   ]
  },
  {
   "cell_type": "code",
   "execution_count": null,
   "metadata": {
    "hidden": true
   },
   "outputs": [],
   "source": [
    "z.real , z.imag"
   ]
  },
  {
   "cell_type": "code",
   "execution_count": null,
   "metadata": {
    "hidden": true
   },
   "outputs": [],
   "source": [
    "type(z)"
   ]
  },
  {
   "cell_type": "code",
   "execution_count": null,
   "metadata": {
    "hidden": true
   },
   "outputs": [],
   "source": [
    "#Strings \n",
    "a = 'single quotes'\n",
    "b = \"double quotes\"\n",
    "n = \"wrap 'single quotes' with double quote\"\n",
    "print ( a, b, n)"
   ]
  },
  {
   "cell_type": "code",
   "execution_count": null,
   "metadata": {
    "hidden": true
   },
   "outputs": [],
   "source": [
    "s = 'hello'                 # indexing strings \n",
    "s[1]                        # counting starts at 0"
   ]
  },
  {
   "cell_type": "code",
   "execution_count": null,
   "metadata": {
    "hidden": true
   },
   "outputs": [],
   "source": [
    "s[0:2]                      #slicing - from 0 upto but not including 2"
   ]
  },
  {
   "cell_type": "code",
   "execution_count": null,
   "metadata": {
    "hidden": true
   },
   "outputs": [],
   "source": [
    "s[:3]                       #slicing - from beginign upto but not including 3 "
   ]
  },
  {
   "cell_type": "code",
   "execution_count": null,
   "metadata": {
    "hidden": true
   },
   "outputs": [],
   "source": [
    "s[-1]                       # -1 {its not -0} starts from end and goes reverse "
   ]
  },
  {
   "cell_type": "code",
   "execution_count": null,
   "metadata": {
    "hidden": true
   },
   "outputs": [],
   "source": [
    "a = \"hello\"\n",
    "b = \"world\"\n",
    "c = a+b                    #concatenate - with no space in between\n",
    "print(c)            "
   ]
  },
  {
   "cell_type": "code",
   "execution_count": null,
   "metadata": {
    "hidden": true
   },
   "outputs": [],
   "source": [
    "# multi-line string\n",
    "ml_string = '''this is a multi\n",
    "line string that\n",
    "spans across 3 lines'''\n",
    "\n",
    "print(ml_string)"
   ]
  },
  {
   "cell_type": "code",
   "execution_count": null,
   "metadata": {
    "hidden": true
   },
   "outputs": [],
   "source": [
    "#list \n",
    "my_list = ['a', 'b', 'c']   \n",
    "print(my_list)"
   ]
  },
  {
   "cell_type": "code",
   "execution_count": null,
   "metadata": {
    "hidden": true
   },
   "outputs": [],
   "source": [
    "my_list.append('d')                       # add to list"
   ]
  },
  {
   "cell_type": "code",
   "execution_count": null,
   "metadata": {
    "hidden": true
   },
   "outputs": [],
   "source": [
    "type(my_list)                            # check type"
   ]
  },
  {
   "cell_type": "code",
   "execution_count": null,
   "metadata": {
    "hidden": true
   },
   "outputs": [],
   "source": [
    "my_list[0:1]                             # index lists - index starts from 0.  [start : end but not including]"
   ]
  },
  {
   "cell_type": "code",
   "execution_count": null,
   "metadata": {
    "hidden": true
   },
   "outputs": [],
   "source": [
    "my_list[-1]                              # -ve index : starts from end"
   ]
  },
  {
   "cell_type": "code",
   "execution_count": null,
   "metadata": {
    "hidden": true
   },
   "outputs": [],
   "source": [
    "my_list[0:4:2]                           # slicing has 3 parameters with last 2 being optional [<start>:<stop>:<step>]"
   ]
  },
  {
   "cell_type": "code",
   "execution_count": null,
   "metadata": {
    "hidden": true
   },
   "outputs": [],
   "source": [
    "#What is this doing?\n",
    "my_list[::-1]"
   ]
  },
  {
   "cell_type": "code",
   "execution_count": null,
   "metadata": {
    "hidden": true
   },
   "outputs": [],
   "source": [
    "my_list[0] = \"A\"                           # reassign values of list\n",
    "print(my_list)"
   ]
  },
  {
   "cell_type": "code",
   "execution_count": null,
   "metadata": {
    "hidden": true
   },
   "outputs": [],
   "source": [
    "n_list = [1,2,3,[1,2,3,[1,2,'target']]]     #nested list"
   ]
  },
  {
   "cell_type": "code",
   "execution_count": null,
   "metadata": {
    "hidden": true
   },
   "outputs": [],
   "source": [
    "n_list[3]"
   ]
  },
  {
   "cell_type": "code",
   "execution_count": null,
   "metadata": {
    "hidden": true
   },
   "outputs": [],
   "source": [
    "n_list[3][3]"
   ]
  },
  {
   "cell_type": "code",
   "execution_count": null,
   "metadata": {
    "hidden": true
   },
   "outputs": [],
   "source": [
    "n_list[3][3][2]"
   ]
  },
  {
   "cell_type": "code",
   "execution_count": null,
   "metadata": {
    "hidden": true
   },
   "outputs": [],
   "source": [
    "#list \n",
    "my_list = ['b', 'a', 'c', 'd', 'f']\n",
    "\n",
    "my_list.reverse()                           #reverse the list\n",
    "print(my_list)"
   ]
  },
  {
   "cell_type": "code",
   "execution_count": null,
   "metadata": {
    "hidden": true
   },
   "outputs": [],
   "source": [
    "my_list.sort()                               #sort the list\n",
    "print(my_list)"
   ]
  },
  {
   "cell_type": "code",
   "execution_count": null,
   "metadata": {
    "hidden": true
   },
   "outputs": [],
   "source": [
    "my_list.pop(3)                               #removes the element at specified position\n",
    "print(my_list)"
   ]
  },
  {
   "cell_type": "code",
   "execution_count": null,
   "metadata": {
    "hidden": true
   },
   "outputs": [],
   "source": [
    "my_list.clear()                              #removes all the elements of the list\n",
    "print(my_list)"
   ]
  },
  {
   "cell_type": "code",
   "execution_count": null,
   "metadata": {
    "hidden": true
   },
   "outputs": [],
   "source": [
    "#tuple - similar to list but unmutable (cannot be changed)\n",
    "t = (1,2,3)"
   ]
  },
  {
   "cell_type": "code",
   "execution_count": null,
   "metadata": {
    "hidden": true
   },
   "outputs": [],
   "source": [
    "print(t[0])"
   ]
  },
  {
   "cell_type": "code",
   "execution_count": null,
   "metadata": {
    "hidden": true
   },
   "outputs": [],
   "source": [
    "t[0] = 5                                      # will give an error"
   ]
  },
  {
   "cell_type": "code",
   "execution_count": null,
   "metadata": {
    "hidden": true
   },
   "outputs": [],
   "source": [
    "# Set is collection of \"unique\" elements\n",
    "s = {1,2,3,4,5,5,4,3,2,1}                   # curly braces"
   ]
  },
  {
   "cell_type": "code",
   "execution_count": null,
   "metadata": {
    "hidden": true
   },
   "outputs": [],
   "source": [
    "print(s)"
   ]
  },
  {
   "cell_type": "code",
   "execution_count": null,
   "metadata": {
    "hidden": true
   },
   "outputs": [],
   "source": [
    "s.add(6)                                    # add to a set\n",
    "print(s)"
   ]
  },
  {
   "cell_type": "code",
   "execution_count": null,
   "metadata": {
    "hidden": true
   },
   "outputs": [],
   "source": [
    "s.pop()                                     # removes first element \n",
    "print(s)"
   ]
  },
  {
   "cell_type": "code",
   "execution_count": null,
   "metadata": {
    "hidden": true
   },
   "outputs": [],
   "source": [
    "#Set Operations:\n",
    "\n",
    "A = {1, 2, 3, 4, 5}\n",
    "B = {4, 5, 6, 7, 8}\n",
    "\n",
    "# Set union: | operator\n",
    "print(\"A U B\", A | B)                     # Also -> A.union(B) or B.union(A) \n",
    "\n",
    "#Set intersection: & operator\n",
    "print(\"A int B:\", A & B)                  # Also -> A.intersection(B)\n",
    "\n",
    "#Set difference: - operator\n",
    "print(\"A diff B\", A - B)\n",
    "\n",
    "#Set symmetric difference (All but common elements): ^ operator\n",
    "print(\"A common B:\", A ^ B)"
   ]
  },
  {
   "cell_type": "code",
   "execution_count": null,
   "metadata": {
    "hidden": true
   },
   "outputs": [],
   "source": [
    "#range\n",
    "\n",
    "X = range(10)\n",
    "print(X)"
   ]
  },
  {
   "cell_type": "code",
   "execution_count": null,
   "metadata": {
    "hidden": true
   },
   "outputs": [],
   "source": [
    "X[1]"
   ]
  },
  {
   "cell_type": "code",
   "execution_count": null,
   "metadata": {
    "hidden": true
   },
   "outputs": [],
   "source": [
    "X[11]"
   ]
  },
  {
   "cell_type": "code",
   "execution_count": null,
   "metadata": {
    "hidden": true
   },
   "outputs": [],
   "source": [
    "type(X)"
   ]
  },
  {
   "cell_type": "code",
   "execution_count": null,
   "metadata": {
    "hidden": true
   },
   "outputs": [],
   "source": [
    "#Dict - key value pairs just like a hash table\n",
    "d  =  {'key1':'Kamal', 'key2': 100, 5: \"Sachin\"}"
   ]
  },
  {
   "cell_type": "code",
   "execution_count": null,
   "metadata": {
    "hidden": true
   },
   "outputs": [],
   "source": [
    "d['key1']                                  # value accessed using key"
   ]
  },
  {
   "cell_type": "code",
   "execution_count": null,
   "metadata": {
    "hidden": true
   },
   "outputs": [],
   "source": [
    "#what will this print?\n",
    "d[\"5\"]"
   ]
  },
  {
   "cell_type": "code",
   "execution_count": null,
   "metadata": {
    "hidden": true
   },
   "outputs": [],
   "source": [
    "type(d)"
   ]
  },
  {
   "cell_type": "code",
   "execution_count": null,
   "metadata": {
    "hidden": true
   },
   "outputs": [],
   "source": [
    "#Get the key for largest value in a dict?\n",
    "\n",
    "answered = {'Kathik': 19, 'Kumar': 17,'Sunil': 12,'Komal': 10,'Mehuya': 15, 'Ashad': 10, 'Sachin' : 5}\n",
    "\n",
    "max(answered, key=answered.get)                           # who has answered the most no of questions?"
   ]
  },
  {
   "cell_type": "code",
   "execution_count": null,
   "metadata": {
    "hidden": true
   },
   "outputs": [],
   "source": [
    "min(answered, key=answered.get)                           # who has answered the least no of questions?"
   ]
  },
  {
   "cell_type": "code",
   "execution_count": null,
   "metadata": {
    "hidden": true
   },
   "outputs": [],
   "source": [
    "#Boolean variables\n",
    "a1 = True\n",
    "type(a1)"
   ]
  },
  {
   "cell_type": "markdown",
   "metadata": {
    "heading_collapsed": true
   },
   "source": [
    "### 2. Variable & Expressions\n",
    "- variable name must start with a letter or the underscore character\n",
    "- variable name cannot start with a number\n",
    "- variable name can only contain alpha-numeric characters and underscores (A-z, 0-9, and _ )\n",
    "- can be of arbitrary length\n",
    "- variables do not need to be declared with any particular type\n",
    "- type can be changed even after they have been set\n",
    "- variable names are case-sensitive"
   ]
  },
  {
   "cell_type": "code",
   "execution_count": null,
   "metadata": {
    "hidden": true
   },
   "outputs": [],
   "source": [
    "# Which of the following is incorrect variable name? \n",
    "myvar = \"John\"   \n",
    "my_var = \"John\"\n",
    "my-var = \"John\"\n",
    "_my_var = \"John\"\n",
    "myVar = \"John\""
   ]
  },
  {
   "cell_type": "code",
   "execution_count": null,
   "metadata": {
    "hidden": true
   },
   "outputs": [],
   "source": [
    "x = y = z = 5                              # assigning the same value to multiple variables in one statement"
   ]
  },
  {
   "cell_type": "code",
   "execution_count": null,
   "metadata": {
    "hidden": true
   },
   "outputs": [],
   "source": [
    "print ( x, y, z)"
   ]
  },
  {
   "cell_type": "code",
   "execution_count": null,
   "metadata": {
    "hidden": true
   },
   "outputs": [],
   "source": [
    "x, y, z = 10, 200, 300                     # assigning different values to multiple variables in one statement"
   ]
  },
  {
   "cell_type": "code",
   "execution_count": null,
   "metadata": {
    "hidden": true
   },
   "outputs": [],
   "source": [
    "print ( x, y, z)"
   ]
  },
  {
   "cell_type": "code",
   "execution_count": null,
   "metadata": {
    "hidden": true
   },
   "outputs": [],
   "source": [
    "fruits = [\"apple\", \"banana\", \"cherry\"]\n",
    "x, y, z = fruits                           # unpacking a list\n",
    "print(x, y, z)"
   ]
  },
  {
   "cell_type": "code",
   "execution_count": null,
   "metadata": {
    "hidden": true
   },
   "outputs": [],
   "source": [
    "# What will this print?\n",
    "\n",
    "fruits = [\"apple\", \"banana\", \"cherry\"]\n",
    "x, *y  = fruits                        \n",
    "print(y)"
   ]
  },
  {
   "cell_type": "markdown",
   "metadata": {
    "hidden": true
   },
   "source": [
    "#### 2.2 Casting from one type to another"
   ]
  },
  {
   "cell_type": "code",
   "execution_count": null,
   "metadata": {
    "hidden": true
   },
   "outputs": [],
   "source": [
    "x = int(4.257) \n",
    "y = str(2.0)\n",
    "val = float(\"2.56\")"
   ]
  },
  {
   "cell_type": "code",
   "execution_count": null,
   "metadata": {
    "hidden": true
   },
   "outputs": [],
   "source": [
    "print(x, type(x))"
   ]
  },
  {
   "cell_type": "code",
   "execution_count": null,
   "metadata": {
    "hidden": true
   },
   "outputs": [],
   "source": [
    "print(y, type(y))"
   ]
  },
  {
   "cell_type": "code",
   "execution_count": null,
   "metadata": {
    "hidden": true
   },
   "outputs": [],
   "source": [
    "print(val, type(val))"
   ]
  },
  {
   "cell_type": "markdown",
   "metadata": {
    "heading_collapsed": true
   },
   "source": [
    "### 3. Language Basics\n",
    "- Operators\n",
    "    - Arithmetic : +, - , *, /, %, ** , // \n",
    "    - Bitwise    : &, |, ^, ~, >>, <<\n",
    "    - Assignment : =, +=, -=, *=, /=, &= , ^= etc.\n",
    "    - Comparison : ==, !=, >, < , >=, <= \n",
    "    - Logical    : and, or, not\n",
    "    - Identity   : is, is not\n",
    "    - Membership : in, not in\n",
    "- Conditional statements ( if, elif, else)\n",
    "- Loops ( for, while)"
   ]
  },
  {
   "cell_type": "code",
   "execution_count": null,
   "metadata": {
    "hidden": true
   },
   "outputs": [],
   "source": [
    "5*5"
   ]
  },
  {
   "cell_type": "code",
   "execution_count": null,
   "metadata": {
    "hidden": true
   },
   "outputs": [],
   "source": [
    "1 > 3"
   ]
  },
  {
   "cell_type": "code",
   "execution_count": null,
   "metadata": {
    "hidden": true
   },
   "outputs": [],
   "source": [
    "a = 1\n",
    "b = 1.0\n",
    "a == b                                    # What will this print?"
   ]
  },
  {
   "cell_type": "code",
   "execution_count": null,
   "metadata": {
    "hidden": true
   },
   "outputs": [],
   "source": [
    "(1 < 2) and (2 < 3)                       # True and True = True"
   ]
  },
  {
   "cell_type": "code",
   "execution_count": null,
   "metadata": {
    "hidden": true
   },
   "outputs": [],
   "source": [
    "2 << 1                                    # shift 00000010 to 00000100 "
   ]
  },
  {
   "cell_type": "code",
   "execution_count": null,
   "metadata": {
    "hidden": true
   },
   "outputs": [],
   "source": [
    "2 >> 1                                    # shift 00000010 to 00000001"
   ]
  },
  {
   "cell_type": "code",
   "execution_count": null,
   "metadata": {
    "hidden": true
   },
   "outputs": [],
   "source": [
    "# is - returns True if both variables are the same object\n",
    "a = [1,2,3,4,5,6,7,8,9,10]\n",
    "x = a\n",
    "y = a\n",
    "x is y"
   ]
  },
  {
   "cell_type": "code",
   "execution_count": null,
   "metadata": {
    "hidden": true
   },
   "outputs": [],
   "source": [
    "a = [1,2,3,4,5,6,7,8,9,10]\n",
    "x = a\n",
    "y = [1,2,3,4,5,6,7,8,9,10]          # a different object\n",
    "x is y"
   ]
  },
  {
   "cell_type": "code",
   "execution_count": null,
   "metadata": {
    "hidden": true
   },
   "outputs": [],
   "source": [
    "# in operator - returns True if a sequence with the specified value is present in the object\n",
    "5 in [3,4,5,6]"
   ]
  },
  {
   "cell_type": "code",
   "execution_count": null,
   "metadata": {
    "hidden": true
   },
   "outputs": [],
   "source": [
    "\"ap\" in \"An apple a day\""
   ]
  },
  {
   "cell_type": "code",
   "execution_count": null,
   "metadata": {
    "hidden": true
   },
   "outputs": [],
   "source": [
    "7 in {1, 3 , 5, 7, 9}"
   ]
  },
  {
   "cell_type": "markdown",
   "metadata": {
    "hidden": true
   },
   "source": [
    "#### 3.2 Conditional Statements"
   ]
  },
  {
   "cell_type": "code",
   "execution_count": null,
   "metadata": {
    "hidden": true
   },
   "outputs": [],
   "source": [
    "# if statement - needs to be indented\n",
    "if 1<2:\n",
    "    print(' 1 less than 2')"
   ]
  },
  {
   "cell_type": "code",
   "execution_count": null,
   "metadata": {
    "hidden": true
   },
   "outputs": [],
   "source": [
    "# if statement - needs to be indented ( python will throw an error without indent)\n",
    "if 1>2:\n",
    "    print(\"this is inside if block\")\n",
    "print('this is outside if block')"
   ]
  },
  {
   "cell_type": "code",
   "execution_count": null,
   "metadata": {
    "hidden": true
   },
   "outputs": [],
   "source": [
    "x = 10\n",
    "y = 5\n",
    "\n",
    "if x==y:\n",
    "    print('X and Y are equal')\n",
    "elif x<y:                                         # can have more than one elif\n",
    "    print('X is smaller than Y')\n",
    "else:\n",
    "    print('X is greater than Y')"
   ]
  },
  {
   "cell_type": "code",
   "execution_count": null,
   "metadata": {
    "hidden": true
   },
   "outputs": [],
   "source": [
    "#shorthand if else syntax - also called  Ternary Operators \n",
    "a = 2\n",
    "b = 330\n",
    "print(\"A\") if a > b else print(\"B\")"
   ]
  },
  {
   "cell_type": "code",
   "execution_count": null,
   "metadata": {
    "hidden": true
   },
   "outputs": [],
   "source": [
    "# can have more than one condition as well\n",
    "a = b = 330\n",
    "print(\"A\") if a > b else print(\"Equal\") if a == b else print(\"B\")"
   ]
  },
  {
   "cell_type": "code",
   "execution_count": null,
   "metadata": {
    "hidden": true
   },
   "outputs": [],
   "source": [
    "#Nested if\n",
    "x = 41\n",
    "if x > 10:\n",
    "  print(\"You have chosen a number greater than 10\")\n",
    "  if x > 20:\n",
    "    print(\"Its also above 20 .. Good choice!\")\n",
    "  else:\n",
    "    print(\"but not above 20.\")"
   ]
  },
  {
   "cell_type": "code",
   "execution_count": null,
   "metadata": {
    "hidden": true
   },
   "outputs": [],
   "source": [
    "# The pass Statement - if statements cannot be empty. Put in the pass statement to avoid getting an error.\n",
    "a = 2\n",
    "\n",
    "if a == 2:\n",
    "    pass\n"
   ]
  },
  {
   "cell_type": "markdown",
   "metadata": {
    "hidden": true
   },
   "source": [
    "#### 3.3 Loops\n",
    "for loop:\n",
    "   - A for loop is used for iterating over a sequence (that is either a list, a tuple, a dictionary, a set, or a string).\n",
    "   - This is less like the for keyword in other programming languages, and works more like an iterator method (similar to R).\n",
    "   - Using for loop we can execute a set of statements, once for each item in a list, tuple, set etc.\n",
    "   - C for loop example: for (i = 1; i < 11; ++i) {}"
   ]
  },
  {
   "cell_type": "code",
   "execution_count": null,
   "metadata": {
    "hidden": true
   },
   "outputs": [],
   "source": [
    "seq = [1,2,3,4,5]\n",
    "\n",
    "for item in seq:\n",
    "    print(f'item is {item}')                "
   ]
  },
  {
   "cell_type": "code",
   "execution_count": null,
   "metadata": {
    "hidden": true
   },
   "outputs": [],
   "source": [
    "# use break to break out of for loop\n",
    "\n",
    "fruits = [\"apple\", \"banana\", \"cherry\", \"mango\", \"peaches\"]\n",
    "\n",
    "for x in fruits:\n",
    "  print(x)\n",
    "  if x == \"banana\":\n",
    "    print(\"take a break\")\n",
    "    break"
   ]
  },
  {
   "cell_type": "code",
   "execution_count": null,
   "metadata": {
    "hidden": true
   },
   "outputs": [],
   "source": [
    "# use continue statement to skip the current iteration of the loop, and continue with the next:\n",
    "\n",
    "fruits = [\"apple\", \"banana\", \"cherry\", \"mango\", \"peaches\"]    \n",
    "\n",
    "print(\"What's for lunch?\")\n",
    "\n",
    "for x in fruits:\n",
    "  if x == \"banana\":                    # let's skip banana for lunch\n",
    "    continue              \n",
    "  print(x)"
   ]
  },
  {
   "cell_type": "code",
   "execution_count": null,
   "metadata": {
    "hidden": true
   },
   "outputs": [],
   "source": [
    "# else in for loop - specifies a block of code to be executed when the loop is finished.\n",
    "\n",
    "for x in range(6):\n",
    "  print(x)\n",
    "else:\n",
    "  print(\"Finally finished!\")"
   ]
  },
  {
   "cell_type": "code",
   "execution_count": null,
   "metadata": {
    "hidden": true
   },
   "outputs": [],
   "source": [
    "# What will this print?\n",
    "\n",
    "for x in range(6):\n",
    "  if x == 3: break\n",
    "  print(x)\n",
    "else:\n",
    "  print(\"Finally finished!\")"
   ]
  },
  {
   "cell_type": "code",
   "execution_count": null,
   "metadata": {
    "hidden": true
   },
   "outputs": [],
   "source": [
    "# The pass Statement - for statements cannot be empty. Put in the pass statement to avoid getting an error.\n",
    "for x in [0, 1, 2]:\n",
    "  pass                                             # do nothing\n"
   ]
  },
  {
   "cell_type": "markdown",
   "metadata": {
    "hidden": true
   },
   "source": [
    "#### 3.4 List Comprehension \n",
    "- List comprehensions are used for creating new lists from other iterables like tuples, strings, arrays, lists, etc. \n",
    "- A list comprehension consists of brackets containing the expression, which is executed for each element along with the for loop to iterate over each element. <br>\n",
    "- Combines [] with for and if \n",
    "##### Syntax: newList = [<expression(item)> for  (item) in [oldList] if (condition) ] "
   ]
  },
  {
   "cell_type": "code",
   "execution_count": null,
   "metadata": {
    "hidden": true
   },
   "outputs": [],
   "source": [
    "# Initializing list\n",
    "List = [12,13,17,22,19,23,16,54,77,96]\n",
    " \n",
    "# Square the odd elements of the list\n",
    "newList = [i*i for i in List if i%2 == 0]"
   ]
  },
  {
   "cell_type": "code",
   "execution_count": null,
   "metadata": {
    "hidden": true
   },
   "outputs": [],
   "source": [
    "print(newList)"
   ]
  },
  {
   "cell_type": "code",
   "execution_count": null,
   "metadata": {
    "hidden": true
   },
   "outputs": [],
   "source": [
    "# list comprehension is shorter to code and more efficient in execution as well\n",
    "n = 100\n",
    "\n",
    "# get square of number upto 100 - for loop\n",
    "result1 = []\n",
    "for i in range(n):\n",
    "    result1.append(i**2)\n",
    "    \n",
    "# get square of number upto 100 - for loop\n",
    "result2 = [i**2 for i in range(n)]\n",
    "\n",
    "# Check check\n",
    "result1[99] , result2[99]"
   ]
  },
  {
   "cell_type": "code",
   "execution_count": null,
   "metadata": {
    "hidden": true
   },
   "outputs": [],
   "source": [
    "# getting square of even numbers from 1 to 50\n",
    "squares = [n**2 for n in range(1, 50) if n%2==0]\n",
    "print(squares)"
   ]
  },
  {
   "cell_type": "code",
   "execution_count": null,
   "metadata": {
    "hidden": true
   },
   "outputs": [],
   "source": [
    "# Reverse each string in a tuple\n",
    "List = [string[::-1] for string in ('Best', 'Data', 'Science', 'Guidance', 'Coaching')]\n",
    "print(List)"
   ]
  },
  {
   "cell_type": "markdown",
   "metadata": {
    "hidden": true
   },
   "source": [
    "#### 3.5 While Loop\n",
    "- while loop execute a set of statements as long as a condition is true. \n",
    "- requires relevant variables (checked in condition) to be available\n",
    "- continue statement:  to skip the current iteration\n",
    "- else block: to run a block of code once when the condition no longer is true "
   ]
  },
  {
   "cell_type": "code",
   "execution_count": null,
   "metadata": {
    "hidden": true
   },
   "outputs": [],
   "source": [
    "#simple while loop\n",
    "i = 1\n",
    "\n",
    "while i<5:\n",
    "    print(\"loop no\", i)\n",
    "    i+=1\n",
    "\n",
    "print(\"Out of loop\")"
   ]
  },
  {
   "cell_type": "code",
   "execution_count": null,
   "metadata": {
    "hidden": true
   },
   "outputs": [],
   "source": [
    "# use of else - execute when the condition is false\n",
    "i = 7\n",
    "while i < 6:\n",
    "    print(i)\n",
    "    i += 1\n",
    "else:\n",
    "    print(f'Else: i={i}')"
   ]
  },
  {
   "cell_type": "markdown",
   "metadata": {},
   "source": [
    "### 4. Functions\n",
    "- a block of code which only runs when it is called\n",
    "- can pass data, known as parameters, into a function\n",
    "- can return data (multiple values) as a result\n",
    "- use the function name followed by parenthesis to call the function\n",
    "- arguments are specified after the function name, inside the parentheses"
   ]
  },
  {
   "cell_type": "code",
   "execution_count": null,
   "metadata": {},
   "outputs": [],
   "source": [
    "# function definition starts with def and has a colon. curly brackets are not required\n",
    "def square(num):\n",
    "    return num**2\n",
    "\n",
    "a = 23\n",
    "result = square(a)\n",
    "print(result)"
   ]
  },
  {
   "cell_type": "code",
   "execution_count": null,
   "metadata": {},
   "outputs": [],
   "source": [
    "#multiple return values \n",
    "\n",
    "def add(a, b):\n",
    "    return a+5, b+5\n",
    "\n",
    "c,d = add(3, 2)\n",
    "print(c,d)"
   ]
  },
  {
   "cell_type": "markdown",
   "metadata": {
    "heading_collapsed": true
   },
   "source": [
    "#### 4.2 Arbitrary Arguments :  *  and  **\n",
    " - 1. Arbitrary arguments, *args \n",
    "     - function takes a list of arguments\n",
    " - 2. Arbitrary Named(keyword) arguments, **kwargs \n",
    "      - function takes a dictionary of arguments"
   ]
  },
  {
   "cell_type": "code",
   "execution_count": null,
   "metadata": {
    "hidden": true
   },
   "outputs": [],
   "source": [
    "def display_list(*args):\n",
    "    for i in args:\n",
    "        print(i)\n",
    "\n",
    "display_list(\"Emma\", 25)"
   ]
  },
  {
   "cell_type": "code",
   "execution_count": null,
   "metadata": {
    "hidden": true
   },
   "outputs": [],
   "source": [
    "def display_dict(**kwargs):\n",
    "    for i in kwargs:\n",
    "        print(kwargs[i])\n",
    "\n",
    "display_dict(emp=\"Emma\", age=25)"
   ]
  },
  {
   "cell_type": "code",
   "execution_count": null,
   "metadata": {
    "hidden": true
   },
   "outputs": [],
   "source": [
    "#default arguments\n",
    "def sum(a,b=10):\n",
    "    return a + b\n",
    "\n",
    "num = 5 \n",
    "result = sum(5)                                  # second argument will be set to default\n",
    "print(result)"
   ]
  },
  {
   "cell_type": "code",
   "execution_count": null,
   "metadata": {
    "hidden": true
   },
   "outputs": [],
   "source": [
    "# What will be the output here?\n",
    "def sum(a=10,b):\n",
    "    return a + b\n",
    "\n",
    "result = sum(5)"
   ]
  },
  {
   "cell_type": "code",
   "execution_count": null,
   "metadata": {
    "hidden": true
   },
   "outputs": [],
   "source": [
    "# passing a list as an argument\n",
    "def print_lunch(items):\n",
    "    for i in items:                             # i has to be an iterable value\n",
    "        print(i)\n",
    "        \n",
    "items = [\"curdrice\", \"salad\", \"pickle\"]\n",
    "\n",
    "print_lunch(items)"
   ]
  },
  {
   "cell_type": "code",
   "execution_count": null,
   "metadata": {
    "hidden": true
   },
   "outputs": [],
   "source": [
    "#what will this print?\n",
    "items = \"Ice Cream\"\n",
    "print_lunch(items)"
   ]
  },
  {
   "cell_type": "markdown",
   "metadata": {
    "heading_collapsed": true
   },
   "source": [
    "#### 4.3 Recursion \n",
    " - Recursion is a common mathematical and programming concept. It means that a function calls itself. \n",
    " - This has the benefit of meaning that you can loop through data to reach a result.\n",
    " - Python also accepts function recursion, which means a defined function can call itself.\n",
    " - Avoid recursion unless really required - hard to understand, debug, causes memory overload"
   ]
  },
  {
   "cell_type": "code",
   "execution_count": null,
   "metadata": {
    "hidden": true
   },
   "outputs": [],
   "source": [
    "#finding the greatest common divisor recursively\n",
    "def gcd(p, q):\n",
    "   if q == 0:\n",
    "        return p\n",
    "   return gcd(q , p%q)\n",
    "\n",
    "gcd(84, 36)"
   ]
  },
  {
   "cell_type": "code",
   "execution_count": null,
   "metadata": {
    "hidden": true
   },
   "outputs": [],
   "source": [
    "# write a function to reverse the string recursively"
   ]
  },
  {
   "cell_type": "code",
   "execution_count": null,
   "metadata": {
    "hidden": true
   },
   "outputs": [],
   "source": [
    "# write a function to calculate the factorial of a number "
   ]
  },
  {
   "cell_type": "markdown",
   "metadata": {
    "heading_collapsed": true
   },
   "source": [
    "#### 4.4 Lambda function \n",
    "- a small anonymous function\n",
    "- can only have one expression\n",
    "- can take any number of arguments \n",
    "\n",
    "##### Syntax:  lambda arguments : expression "
   ]
  },
  {
   "cell_type": "code",
   "execution_count": null,
   "metadata": {
    "hidden": true
   },
   "outputs": [],
   "source": [
    "multiply = lambda a, b : a * b                  #use lambda keyword\n",
    "\n",
    "print(multiply(5, 6))"
   ]
  },
  {
   "cell_type": "code",
   "execution_count": null,
   "metadata": {
    "hidden": true
   },
   "outputs": [],
   "source": [
    "#write a lambda function to sum 3 integers \n"
   ]
  },
  {
   "cell_type": "code",
   "execution_count": null,
   "metadata": {
    "hidden": true
   },
   "outputs": [],
   "source": [
    "#map function - applies a function over an iterator\n",
    "from math import * \n",
    "\n",
    "seq = [1,2,3,4,5]\n",
    "result = map(sqrt, seq)                         #apply math.sqrt() to each element in seq\n",
    "\n",
    "list(result)                                    #get the result in a list "
   ]
  },
  {
   "cell_type": "markdown",
   "metadata": {
    "heading_collapsed": true
   },
   "source": [
    "#### 4.5 Modules \n",
    "- In Python, Modules are simply files with the “. py” extension containing Python code \n",
    "- They can be imported inside another Python Program\n",
    "- A module is a code library or a file that contains a set of functions\n",
    "- The Python standard library contains well over 200 modules, although the exact number varies between distributions "
   ]
  },
  {
   "cell_type": "code",
   "execution_count": null,
   "metadata": {
    "hidden": true
   },
   "outputs": [],
   "source": [
    "import math                                        # use import to import a module"
   ]
  },
  {
   "cell_type": "code",
   "execution_count": null,
   "metadata": {
    "hidden": true
   },
   "outputs": [],
   "source": [
    "# dir is used to find all function defined inside a module\n",
    "dir(math)"
   ]
  },
  {
   "cell_type": "code",
   "execution_count": null,
   "metadata": {
    "hidden": true
   },
   "outputs": [],
   "source": [
    "from math import sin , pi\n",
    "\n",
    "x = sin(2*pi)\n",
    "\n",
    "print (x)"
   ]
  },
  {
   "cell_type": "code",
   "execution_count": null,
   "metadata": {
    "hidden": true
   },
   "outputs": [],
   "source": [
    "# user defined module \n",
    "import mymodule"
   ]
  },
  {
   "cell_type": "code",
   "execution_count": null,
   "metadata": {
    "hidden": true
   },
   "outputs": [],
   "source": [
    "dir(mymodule)                                     # let's take a peek"
   ]
  },
  {
   "cell_type": "code",
   "execution_count": null,
   "metadata": {
    "hidden": true
   },
   "outputs": [],
   "source": [
    "mymodule.quoteofday()"
   ]
  },
  {
   "cell_type": "code",
   "execution_count": null,
   "metadata": {
    "hidden": true
   },
   "outputs": [],
   "source": [
    "# Question  - How to unload a module in Python?"
   ]
  }
 ],
 "metadata": {
  "kernelspec": {
   "display_name": "Python 3",
   "language": "python",
   "name": "python3"
  },
  "language_info": {
   "codemirror_mode": {
    "name": "ipython",
    "version": 3
   },
   "file_extension": ".py",
   "mimetype": "text/x-python",
   "name": "python",
   "nbconvert_exporter": "python",
   "pygments_lexer": "ipython3",
   "version": "3.6.5"
  }
 },
 "nbformat": 4,
 "nbformat_minor": 2
}
