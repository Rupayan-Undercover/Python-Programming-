{
 "cells": [
  {
   "cell_type": "markdown",
   "metadata": {},
   "source": [
    "### AccelerateAI - Python for Data Science\n",
    "Introduction to Python Language (Python 3)\n",
    "\n",
    "In this notebook we will cover the following:\n",
    "- Data Wrangling with Pandas \n",
    "- Advanced Numpy\n",
    "- Strings and Text"
   ]
  },
  {
   "cell_type": "markdown",
   "metadata": {
    "heading_collapsed": true
   },
   "source": [
    "#### 1. Data Wrangling\n",
    "\n",
    "Data Wrangling process is defined as process in which we do the following: \n",
    "1. Discovering: Before we can dive deeply, we must better understand what is in the data,\n",
    "2. Structuring: This step means organizing the data for better analysis. A single column may turn into several rows, one column may become two.\n",
    "3. Cleaning: In this step we decide what to do with erroneous data, outliers, missing values etc.\n",
    "4. Enriching: Exploring what other additional data might be added to help with the analysis\n",
    "5. Validating: Verifying data consistency, quality, and security.\n",
    "6. Publishing: Making the data and insights easy to accesses and consume."
   ]
  },
  {
   "cell_type": "code",
   "execution_count": 1,
   "metadata": {
    "hidden": true
   },
   "outputs": [],
   "source": [
    "import numpy as np\n",
    "import pandas as pd "
   ]
  },
  {
   "cell_type": "markdown",
   "metadata": {
    "hidden": true
   },
   "source": [
    "##### 1.1 About the Credit Card Dataset\n",
    "- Credit Card customer acquisition\n",
    "- Spend (Transaction) Data\n",
    "- Payment Information \n"
   ]
  },
  {
   "cell_type": "code",
   "execution_count": 2,
   "metadata": {
    "hidden": true
   },
   "outputs": [
    {
     "data": {
      "text/html": [
       "<div>\n",
       "<style scoped>\n",
       "    .dataframe tbody tr th:only-of-type {\n",
       "        vertical-align: middle;\n",
       "    }\n",
       "\n",
       "    .dataframe tbody tr th {\n",
       "        vertical-align: top;\n",
       "    }\n",
       "\n",
       "    .dataframe thead th {\n",
       "        text-align: right;\n",
       "    }\n",
       "</style>\n",
       "<table border=\"1\" class=\"dataframe\">\n",
       "  <thead>\n",
       "    <tr style=\"text-align: right;\">\n",
       "      <th></th>\n",
       "      <th>No</th>\n",
       "      <th>Customer</th>\n",
       "      <th>Age</th>\n",
       "      <th>City</th>\n",
       "      <th>Product</th>\n",
       "      <th>Limit</th>\n",
       "      <th>Company</th>\n",
       "      <th>Segment</th>\n",
       "    </tr>\n",
       "  </thead>\n",
       "  <tbody>\n",
       "    <tr>\n",
       "      <th>0</th>\n",
       "      <td>1</td>\n",
       "      <td>A1</td>\n",
       "      <td>47</td>\n",
       "      <td>BANGALORE</td>\n",
       "      <td>Gold</td>\n",
       "      <td>1500000</td>\n",
       "      <td>C1</td>\n",
       "      <td>Self Employed</td>\n",
       "    </tr>\n",
       "    <tr>\n",
       "      <th>1</th>\n",
       "      <td>2</td>\n",
       "      <td>A2</td>\n",
       "      <td>56</td>\n",
       "      <td>CALCUTTA</td>\n",
       "      <td>Silver</td>\n",
       "      <td>300000</td>\n",
       "      <td>C2</td>\n",
       "      <td>Salaried_MNC</td>\n",
       "    </tr>\n",
       "    <tr>\n",
       "      <th>2</th>\n",
       "      <td>3</td>\n",
       "      <td>A3</td>\n",
       "      <td>30</td>\n",
       "      <td>COCHIN</td>\n",
       "      <td>Platimum</td>\n",
       "      <td>540000</td>\n",
       "      <td>C3</td>\n",
       "      <td>Salaried_Pvt</td>\n",
       "    </tr>\n",
       "    <tr>\n",
       "      <th>3</th>\n",
       "      <td>4</td>\n",
       "      <td>A4</td>\n",
       "      <td>22</td>\n",
       "      <td>BOMBAY</td>\n",
       "      <td>Platimum</td>\n",
       "      <td>840084</td>\n",
       "      <td>C4</td>\n",
       "      <td>Govt</td>\n",
       "    </tr>\n",
       "    <tr>\n",
       "      <th>4</th>\n",
       "      <td>5</td>\n",
       "      <td>A5</td>\n",
       "      <td>59</td>\n",
       "      <td>BANGALORE</td>\n",
       "      <td>Platimum</td>\n",
       "      <td>420084</td>\n",
       "      <td>C5</td>\n",
       "      <td>Normal Salary</td>\n",
       "    </tr>\n",
       "  </tbody>\n",
       "</table>\n",
       "</div>"
      ],
      "text/plain": [
       "   No Customer  Age       City   Product    Limit Company        Segment\n",
       "0   1       A1   47  BANGALORE      Gold  1500000      C1  Self Employed\n",
       "1   2       A2   56   CALCUTTA    Silver   300000      C2   Salaried_MNC\n",
       "2   3       A3   30     COCHIN  Platimum   540000      C3   Salaried_Pvt\n",
       "3   4       A4   22     BOMBAY  Platimum   840084      C4           Govt\n",
       "4   5       A5   59  BANGALORE  Platimum   420084      C5  Normal Salary"
      ]
     },
     "execution_count": 2,
     "metadata": {},
     "output_type": "execute_result"
    }
   ],
   "source": [
    "customer_df = pd.read_excel(\"Credit Card Data.xlsx\", sheet_name=0)\n",
    "customer_df.head()"
   ]
  },
  {
   "cell_type": "code",
   "execution_count": 3,
   "metadata": {
    "hidden": true
   },
   "outputs": [
    {
     "data": {
      "text/html": [
       "<div>\n",
       "<style scoped>\n",
       "    .dataframe tbody tr th:only-of-type {\n",
       "        vertical-align: middle;\n",
       "    }\n",
       "\n",
       "    .dataframe tbody tr th {\n",
       "        vertical-align: top;\n",
       "    }\n",
       "\n",
       "    .dataframe thead th {\n",
       "        text-align: right;\n",
       "    }\n",
       "</style>\n",
       "<table border=\"1\" class=\"dataframe\">\n",
       "  <thead>\n",
       "    <tr style=\"text-align: right;\">\n",
       "      <th></th>\n",
       "      <th>Sl No:</th>\n",
       "      <th>Customer</th>\n",
       "      <th>Month</th>\n",
       "      <th>Type</th>\n",
       "      <th>Amount</th>\n",
       "    </tr>\n",
       "  </thead>\n",
       "  <tbody>\n",
       "    <tr>\n",
       "      <th>0</th>\n",
       "      <td>1</td>\n",
       "      <td>A1</td>\n",
       "      <td>2004-01-12</td>\n",
       "      <td>JEWELLERY</td>\n",
       "      <td>344054.980813</td>\n",
       "    </tr>\n",
       "    <tr>\n",
       "      <th>1</th>\n",
       "      <td>2</td>\n",
       "      <td>A1</td>\n",
       "      <td>2004-01-03</td>\n",
       "      <td>PETRO</td>\n",
       "      <td>935.495203</td>\n",
       "    </tr>\n",
       "    <tr>\n",
       "      <th>2</th>\n",
       "      <td>3</td>\n",
       "      <td>A1</td>\n",
       "      <td>2004-01-15</td>\n",
       "      <td>CLOTHES</td>\n",
       "      <td>8687.895474</td>\n",
       "    </tr>\n",
       "    <tr>\n",
       "      <th>3</th>\n",
       "      <td>4</td>\n",
       "      <td>A1</td>\n",
       "      <td>2004-01-25</td>\n",
       "      <td>FOOD</td>\n",
       "      <td>341.159711</td>\n",
       "    </tr>\n",
       "    <tr>\n",
       "      <th>4</th>\n",
       "      <td>5</td>\n",
       "      <td>A1</td>\n",
       "      <td>2005-01-17</td>\n",
       "      <td>CAMERA</td>\n",
       "      <td>3406.639477</td>\n",
       "    </tr>\n",
       "  </tbody>\n",
       "</table>\n",
       "</div>"
      ],
      "text/plain": [
       "   Sl No: Customer      Month       Type         Amount\n",
       "0       1       A1 2004-01-12  JEWELLERY  344054.980813\n",
       "1       2       A1 2004-01-03      PETRO     935.495203\n",
       "2       3       A1 2004-01-15    CLOTHES    8687.895474\n",
       "3       4       A1 2004-01-25       FOOD     341.159711\n",
       "4       5       A1 2005-01-17     CAMERA    3406.639477"
      ]
     },
     "execution_count": 3,
     "metadata": {},
     "output_type": "execute_result"
    }
   ],
   "source": [
    "trans_df = pd.read_excel(\"Credit Card Data.xlsx\", sheet_name=1)\n",
    "trans_df.head()"
   ]
  },
  {
   "cell_type": "code",
   "execution_count": 4,
   "metadata": {
    "hidden": true
   },
   "outputs": [
    {
     "data": {
      "text/html": [
       "<div>\n",
       "<style scoped>\n",
       "    .dataframe tbody tr th:only-of-type {\n",
       "        vertical-align: middle;\n",
       "    }\n",
       "\n",
       "    .dataframe tbody tr th {\n",
       "        vertical-align: top;\n",
       "    }\n",
       "\n",
       "    .dataframe thead th {\n",
       "        text-align: right;\n",
       "    }\n",
       "</style>\n",
       "<table border=\"1\" class=\"dataframe\">\n",
       "  <thead>\n",
       "    <tr style=\"text-align: right;\">\n",
       "      <th></th>\n",
       "      <th>SL No:</th>\n",
       "      <th>Customer</th>\n",
       "      <th>Month</th>\n",
       "      <th>Amount</th>\n",
       "    </tr>\n",
       "  </thead>\n",
       "  <tbody>\n",
       "    <tr>\n",
       "      <th>0</th>\n",
       "      <td>1</td>\n",
       "      <td>A1</td>\n",
       "      <td>2006-05-15</td>\n",
       "      <td>2.308473e+05</td>\n",
       "    </tr>\n",
       "    <tr>\n",
       "      <th>1</th>\n",
       "      <td>2</td>\n",
       "      <td>A1</td>\n",
       "      <td>2005-08-27</td>\n",
       "      <td>1.835124e+03</td>\n",
       "    </tr>\n",
       "    <tr>\n",
       "      <th>2</th>\n",
       "      <td>3</td>\n",
       "      <td>A1</td>\n",
       "      <td>2004-03-07</td>\n",
       "      <td>4.858701e+03</td>\n",
       "    </tr>\n",
       "    <tr>\n",
       "      <th>3</th>\n",
       "      <td>4</td>\n",
       "      <td>A1</td>\n",
       "      <td>2005-03-01</td>\n",
       "      <td>1.360527e+06</td>\n",
       "    </tr>\n",
       "    <tr>\n",
       "      <th>4</th>\n",
       "      <td>5</td>\n",
       "      <td>A1</td>\n",
       "      <td>2004-02-14</td>\n",
       "      <td>1.902322e+05</td>\n",
       "    </tr>\n",
       "  </tbody>\n",
       "</table>\n",
       "</div>"
      ],
      "text/plain": [
       "   SL No: Customer      Month        Amount\n",
       "0       1       A1 2006-05-15  2.308473e+05\n",
       "1       2       A1 2005-08-27  1.835124e+03\n",
       "2       3       A1 2004-03-07  4.858701e+03\n",
       "3       4       A1 2005-03-01  1.360527e+06\n",
       "4       5       A1 2004-02-14  1.902322e+05"
      ]
     },
     "execution_count": 4,
     "metadata": {},
     "output_type": "execute_result"
    }
   ],
   "source": [
    "payment_df = pd.read_excel(\"Credit Card Data.xlsx\", sheet_name=2)\n",
    "payment_df.head()"
   ]
  },
  {
   "cell_type": "code",
   "execution_count": 5,
   "metadata": {
    "hidden": true
   },
   "outputs": [
    {
     "name": "stdout",
     "output_type": "stream",
     "text": [
      "<class 'pandas.core.frame.DataFrame'>\n",
      "RangeIndex: 100 entries, 0 to 99\n",
      "Data columns (total 8 columns):\n",
      " #   Column    Non-Null Count  Dtype \n",
      "---  ------    --------------  ----- \n",
      " 0   No        100 non-null    int64 \n",
      " 1   Customer  100 non-null    object\n",
      " 2   Age       100 non-null    int64 \n",
      " 3   City      100 non-null    object\n",
      " 4   Product   100 non-null    object\n",
      " 5   Limit     100 non-null    int64 \n",
      " 6   Company   100 non-null    object\n",
      " 7   Segment   100 non-null    object\n",
      "dtypes: int64(3), object(5)\n",
      "memory usage: 6.4+ KB\n"
     ]
    }
   ],
   "source": [
    "# Any missing values?\n",
    "customer_df.info()"
   ]
  },
  {
   "cell_type": "code",
   "execution_count": 6,
   "metadata": {
    "hidden": true
   },
   "outputs": [
    {
     "data": {
      "text/plain": [
       "No           int64\n",
       "Customer    object\n",
       "Age          int64\n",
       "City        object\n",
       "Product     object\n",
       "Limit        int64\n",
       "Company     object\n",
       "Segment     object\n",
       "dtype: object"
      ]
     },
     "execution_count": 6,
     "metadata": {},
     "output_type": "execute_result"
    }
   ],
   "source": [
    "#Let's check if the data type is correct\n",
    "customer_df.dtypes"
   ]
  },
  {
   "cell_type": "code",
   "execution_count": 7,
   "metadata": {
    "hidden": true
   },
   "outputs": [
    {
     "data": {
      "text/plain": [
       "count    100.000000\n",
       "mean      46.460000\n",
       "std       17.816925\n",
       "min       14.000000\n",
       "25%       30.000000\n",
       "50%       47.500000\n",
       "75%       62.250000\n",
       "max       75.000000\n",
       "Name: Age, dtype: float64"
      ]
     },
     "execution_count": 7,
     "metadata": {},
     "output_type": "execute_result"
    }
   ],
   "source": [
    "customer_df.Age.describe()"
   ]
  },
  {
   "cell_type": "markdown",
   "metadata": {
    "hidden": true
   },
   "source": [
    "######  Age can't be less than 18. In case age is less than 18, let's replace it with mean of age values."
   ]
  },
  {
   "cell_type": "code",
   "execution_count": 8,
   "metadata": {
    "hidden": true
   },
   "outputs": [
    {
     "data": {
      "text/plain": [
       "count    100.000000\n",
       "mean      47.393800\n",
       "std       16.946251\n",
       "min       18.000000\n",
       "25%       33.000000\n",
       "50%       47.500000\n",
       "75%       62.250000\n",
       "max       75.000000\n",
       "Name: Age, dtype: float64"
      ]
     },
     "execution_count": 8,
     "metadata": {},
     "output_type": "execute_result"
    }
   ],
   "source": [
    "#df.loc[ condition, column]\n",
    "\n",
    "customer_df.loc[(customer_df.Age < 18),'Age']=customer_df.Age.mean()\n",
    "customer_df.Age.describe()"
   ]
  },
  {
   "cell_type": "code",
   "execution_count": 9,
   "metadata": {
    "hidden": true
   },
   "outputs": [
    {
     "name": "stdout",
     "output_type": "stream",
     "text": [
      "<class 'pandas.core.frame.DataFrame'>\n",
      "RangeIndex: 1505 entries, 0 to 1504\n",
      "Data columns (total 5 columns):\n",
      " #   Column    Non-Null Count  Dtype         \n",
      "---  ------    --------------  -----         \n",
      " 0   Sl No:    1505 non-null   int64         \n",
      " 1   Customer  1504 non-null   object        \n",
      " 2   Month     1502 non-null   datetime64[ns]\n",
      " 3   Type      1505 non-null   object        \n",
      " 4   Amount    1502 non-null   float64       \n",
      "dtypes: datetime64[ns](1), float64(1), int64(1), object(2)\n",
      "memory usage: 58.9+ KB\n"
     ]
    }
   ],
   "source": [
    "#let's peek into the transactions\n",
    "trans_df.info()"
   ]
  },
  {
   "cell_type": "code",
   "execution_count": 10,
   "metadata": {
    "hidden": true
   },
   "outputs": [
    {
     "name": "stdout",
     "output_type": "stream",
     "text": [
      "<class 'pandas.core.frame.DataFrame'>\n",
      "RangeIndex: 1505 entries, 0 to 1504\n",
      "Data columns (total 5 columns):\n",
      " #   Column    Non-Null Count  Dtype         \n",
      "---  ------    --------------  -----         \n",
      " 0   Sl No:    1505 non-null   int64         \n",
      " 1   Customer  1504 non-null   object        \n",
      " 2   Month     1502 non-null   datetime64[ns]\n",
      " 3   Type      1505 non-null   object        \n",
      " 4   Amount    1502 non-null   float64       \n",
      "dtypes: datetime64[ns](1), float64(1), int64(1), object(2)\n",
      "memory usage: 58.9+ KB\n"
     ]
    }
   ],
   "source": [
    "# Let's drop the 2 rows with missing values\n",
    "trans_df.dropna(how=\"any\",axis=0)                                       \n",
    "trans_df.info()                                            # What's wrong with this?? "
   ]
  },
  {
   "cell_type": "code",
   "execution_count": 11,
   "metadata": {
    "hidden": true
   },
   "outputs": [
    {
     "name": "stdout",
     "output_type": "stream",
     "text": [
      "<class 'pandas.core.frame.DataFrame'>\n",
      "RangeIndex: 1505 entries, 0 to 1504\n",
      "Data columns (total 5 columns):\n",
      " #   Column    Non-Null Count  Dtype         \n",
      "---  ------    --------------  -----         \n",
      " 0   Sl No:    1505 non-null   int64         \n",
      " 1   Customer  1504 non-null   object        \n",
      " 2   Month     1502 non-null   datetime64[ns]\n",
      " 3   Type      1505 non-null   object        \n",
      " 4   Amount    1502 non-null   float64       \n",
      "dtypes: datetime64[ns](1), float64(1), int64(1), object(2)\n",
      "memory usage: 58.9+ KB\n"
     ]
    }
   ],
   "source": [
    "trans_df.info()"
   ]
  },
  {
   "cell_type": "code",
   "execution_count": 12,
   "metadata": {
    "hidden": true
   },
   "outputs": [
    {
     "data": {
      "text/plain": [
       "Sl No:               int64\n",
       "Customer            object\n",
       "Month       datetime64[ns]\n",
       "Type                object\n",
       "Amount             float64\n",
       "dtype: object"
      ]
     },
     "execution_count": 12,
     "metadata": {},
     "output_type": "execute_result"
    }
   ],
   "source": [
    "trans_df.dtypes"
   ]
  },
  {
   "cell_type": "markdown",
   "metadata": {
    "hidden": true
   },
   "source": [
    "##### How many customers are there?"
   ]
  },
  {
   "cell_type": "code",
   "execution_count": 13,
   "metadata": {
    "hidden": true
   },
   "outputs": [
    {
     "data": {
      "text/plain": [
       "100"
      ]
     },
     "execution_count": 13,
     "metadata": {},
     "output_type": "execute_result"
    }
   ],
   "source": [
    "trans_df.Customer.nunique()"
   ]
  },
  {
   "cell_type": "markdown",
   "metadata": {
    "hidden": true
   },
   "source": [
    "##### What are the spend categories? "
   ]
  },
  {
   "cell_type": "code",
   "execution_count": 14,
   "metadata": {
    "hidden": true
   },
   "outputs": [
    {
     "data": {
      "text/plain": [
       "PETRO           200\n",
       "CAMERA          161\n",
       "FOOD            160\n",
       "AIR TICKET      148\n",
       "TRAIN TICKET    132\n",
       "SHOPPING        114\n",
       "BUS TICKET      101\n",
       "CLOTHES          95\n",
       "JEWELLERY        95\n",
       "RENTAL           76\n",
       "MOVIE TICKET     76\n",
       "BIKE             49\n",
       "AUTO             40\n",
       "CAR              30\n",
       "SANDALS          28\n",
       "Name: Type, dtype: int64"
      ]
     },
     "execution_count": 14,
     "metadata": {},
     "output_type": "execute_result"
    }
   ],
   "source": [
    "trans_df.Type.value_counts()"
   ]
  },
  {
   "cell_type": "markdown",
   "metadata": {
    "hidden": true
   },
   "source": [
    "##### Which category has the highest average spend?"
   ]
  },
  {
   "cell_type": "code",
   "execution_count": 15,
   "metadata": {
    "hidden": true
   },
   "outputs": [
    {
     "data": {
      "text/plain": [
       "Type\n",
       "CAR             409143.47\n",
       "AIR TICKET      254632.19\n",
       "JEWELLERY       239218.69\n",
       "BIKE            210701.27\n",
       "AUTO             27320.76\n",
       "CLOTHES          25140.16\n",
       "CAMERA           21420.54\n",
       "RENTAL           13106.51\n",
       "BUS TICKET       12559.79\n",
       "SHOPPING          7394.33\n",
       "SANDALS           2516.63\n",
       "MOVIE TICKET      1875.30\n",
       "TRAIN TICKET      1627.49\n",
       "PETRO              549.48\n",
       "FOOD               341.17\n",
       "Name: Amount, dtype: float64"
      ]
     },
     "execution_count": 15,
     "metadata": {},
     "output_type": "execute_result"
    }
   ],
   "source": [
    "trans_df.groupby(\"Type\")['Amount'].mean().sort_values(ascending=False).round(2)"
   ]
  },
  {
   "cell_type": "code",
   "execution_count": 16,
   "metadata": {
    "hidden": true
   },
   "outputs": [
    {
     "data": {
      "text/html": [
       "<div>\n",
       "<style scoped>\n",
       "    .dataframe tbody tr th:only-of-type {\n",
       "        vertical-align: middle;\n",
       "    }\n",
       "\n",
       "    .dataframe tbody tr th {\n",
       "        vertical-align: top;\n",
       "    }\n",
       "\n",
       "    .dataframe thead th {\n",
       "        text-align: right;\n",
       "    }\n",
       "</style>\n",
       "<table border=\"1\" class=\"dataframe\">\n",
       "  <thead>\n",
       "    <tr style=\"text-align: right;\">\n",
       "      <th></th>\n",
       "      <th>Sl No:</th>\n",
       "      <th>Customer</th>\n",
       "      <th>Month</th>\n",
       "      <th>Type</th>\n",
       "      <th>Amount</th>\n",
       "    </tr>\n",
       "  </thead>\n",
       "  <tbody>\n",
       "    <tr>\n",
       "      <th>10</th>\n",
       "      <td>11</td>\n",
       "      <td>A11</td>\n",
       "      <td>2005-02-23</td>\n",
       "      <td>AIR TICKET</td>\n",
       "      <td>195424.058828</td>\n",
       "    </tr>\n",
       "    <tr>\n",
       "      <th>29</th>\n",
       "      <td>30</td>\n",
       "      <td>A30</td>\n",
       "      <td>2006-05-10</td>\n",
       "      <td>AIR TICKET</td>\n",
       "      <td>73734.048787</td>\n",
       "    </tr>\n",
       "    <tr>\n",
       "      <th>40</th>\n",
       "      <td>41</td>\n",
       "      <td>A41</td>\n",
       "      <td>2005-05-27</td>\n",
       "      <td>AIR TICKET</td>\n",
       "      <td>125409.752876</td>\n",
       "    </tr>\n",
       "    <tr>\n",
       "      <th>55</th>\n",
       "      <td>56</td>\n",
       "      <td>A56</td>\n",
       "      <td>2006-02-03</td>\n",
       "      <td>AIR TICKET</td>\n",
       "      <td>237754.648092</td>\n",
       "    </tr>\n",
       "    <tr>\n",
       "      <th>70</th>\n",
       "      <td>71</td>\n",
       "      <td>A69</td>\n",
       "      <td>2005-01-17</td>\n",
       "      <td>AIR TICKET</td>\n",
       "      <td>167393.969987</td>\n",
       "    </tr>\n",
       "  </tbody>\n",
       "</table>\n",
       "</div>"
      ],
      "text/plain": [
       "    Sl No: Customer      Month        Type         Amount\n",
       "10      11      A11 2005-02-23  AIR TICKET  195424.058828\n",
       "29      30      A30 2006-05-10  AIR TICKET   73734.048787\n",
       "40      41      A41 2005-05-27  AIR TICKET  125409.752876\n",
       "55      56      A56 2006-02-03  AIR TICKET  237754.648092\n",
       "70      71      A69 2005-01-17  AIR TICKET  167393.969987"
      ]
     },
     "execution_count": 16,
     "metadata": {},
     "output_type": "execute_result"
    }
   ],
   "source": [
    "#Are air tickets this expensive??\n",
    "trans_df[trans_df['Type'] == 'AIR TICKET'].head()"
   ]
  },
  {
   "cell_type": "code",
   "execution_count": 17,
   "metadata": {
    "hidden": true
   },
   "outputs": [
    {
     "data": {
      "text/html": [
       "<div>\n",
       "<style scoped>\n",
       "    .dataframe tbody tr th:only-of-type {\n",
       "        vertical-align: middle;\n",
       "    }\n",
       "\n",
       "    .dataframe tbody tr th {\n",
       "        vertical-align: top;\n",
       "    }\n",
       "\n",
       "    .dataframe thead th {\n",
       "        text-align: right;\n",
       "    }\n",
       "</style>\n",
       "<table border=\"1\" class=\"dataframe\">\n",
       "  <thead>\n",
       "    <tr style=\"text-align: right;\">\n",
       "      <th></th>\n",
       "      <th>Sl No:</th>\n",
       "      <th>Customer</th>\n",
       "      <th>Month</th>\n",
       "      <th>Type</th>\n",
       "      <th>Amount</th>\n",
       "    </tr>\n",
       "  </thead>\n",
       "  <tbody>\n",
       "    <tr>\n",
       "      <th>0</th>\n",
       "      <td>1</td>\n",
       "      <td>A1</td>\n",
       "      <td>2004-01-12</td>\n",
       "      <td>JEWELLERY</td>\n",
       "      <td>344054.980813</td>\n",
       "    </tr>\n",
       "    <tr>\n",
       "      <th>15</th>\n",
       "      <td>16</td>\n",
       "      <td>A16</td>\n",
       "      <td>2006-03-23</td>\n",
       "      <td>JEWELLERY</td>\n",
       "      <td>98182.180940</td>\n",
       "    </tr>\n",
       "    <tr>\n",
       "      <th>19</th>\n",
       "      <td>20</td>\n",
       "      <td>A20</td>\n",
       "      <td>2006-04-30</td>\n",
       "      <td>JEWELLERY</td>\n",
       "      <td>348718.392649</td>\n",
       "    </tr>\n",
       "    <tr>\n",
       "      <th>45</th>\n",
       "      <td>46</td>\n",
       "      <td>A46</td>\n",
       "      <td>2005-06-01</td>\n",
       "      <td>JEWELLERY</td>\n",
       "      <td>322625.842279</td>\n",
       "    </tr>\n",
       "    <tr>\n",
       "      <th>60</th>\n",
       "      <td>61</td>\n",
       "      <td>A61</td>\n",
       "      <td>2006-07-03</td>\n",
       "      <td>JEWELLERY</td>\n",
       "      <td>167214.229458</td>\n",
       "    </tr>\n",
       "  </tbody>\n",
       "</table>\n",
       "</div>"
      ],
      "text/plain": [
       "    Sl No: Customer      Month       Type         Amount\n",
       "0        1       A1 2004-01-12  JEWELLERY  344054.980813\n",
       "15      16      A16 2006-03-23  JEWELLERY   98182.180940\n",
       "19      20      A20 2006-04-30  JEWELLERY  348718.392649\n",
       "45      46      A46 2005-06-01  JEWELLERY  322625.842279\n",
       "60      61      A61 2006-07-03  JEWELLERY  167214.229458"
      ]
     },
     "execution_count": 17,
     "metadata": {},
     "output_type": "execute_result"
    }
   ],
   "source": [
    "trans_df[trans_df['Type'] == 'JEWELLERY'].head()"
   ]
  },
  {
   "cell_type": "markdown",
   "metadata": {
    "hidden": true
   },
   "source": [
    "##### What is the average monthly spend by product categories? "
   ]
  },
  {
   "cell_type": "code",
   "execution_count": 18,
   "metadata": {
    "hidden": true
   },
   "outputs": [],
   "source": [
    "#lets create an actual month column from timestamp\n",
    "trans_df.rename(columns={'Month':'TransDate'}, inplace=True)"
   ]
  },
  {
   "cell_type": "code",
   "execution_count": 19,
   "metadata": {
    "hidden": true
   },
   "outputs": [],
   "source": [
    "trans_df['Month'] = trans_df['TransDate'].apply(lambda x:x.month)\n",
    "trans_df['Year'] = trans_df['TransDate'].apply(lambda x:x.year)"
   ]
  },
  {
   "cell_type": "code",
   "execution_count": 20,
   "metadata": {
    "hidden": true
   },
   "outputs": [
    {
     "data": {
      "text/html": [
       "<div>\n",
       "<style scoped>\n",
       "    .dataframe tbody tr th:only-of-type {\n",
       "        vertical-align: middle;\n",
       "    }\n",
       "\n",
       "    .dataframe tbody tr th {\n",
       "        vertical-align: top;\n",
       "    }\n",
       "\n",
       "    .dataframe thead th {\n",
       "        text-align: right;\n",
       "    }\n",
       "</style>\n",
       "<table border=\"1\" class=\"dataframe\">\n",
       "  <thead>\n",
       "    <tr style=\"text-align: right;\">\n",
       "      <th></th>\n",
       "      <th>Sl No:</th>\n",
       "      <th>Customer</th>\n",
       "      <th>TransDate</th>\n",
       "      <th>Type</th>\n",
       "      <th>Amount</th>\n",
       "      <th>Month</th>\n",
       "      <th>Year</th>\n",
       "    </tr>\n",
       "  </thead>\n",
       "  <tbody>\n",
       "    <tr>\n",
       "      <th>1256</th>\n",
       "      <td>1257</td>\n",
       "      <td>A43</td>\n",
       "      <td>2006-04-03</td>\n",
       "      <td>AIR TICKET</td>\n",
       "      <td>371439.859083</td>\n",
       "      <td>4.0</td>\n",
       "      <td>2006.0</td>\n",
       "    </tr>\n",
       "    <tr>\n",
       "      <th>874</th>\n",
       "      <td>875</td>\n",
       "      <td>A23</td>\n",
       "      <td>2004-01-15</td>\n",
       "      <td>JEWELLERY</td>\n",
       "      <td>319592.488998</td>\n",
       "      <td>1.0</td>\n",
       "      <td>2004.0</td>\n",
       "    </tr>\n",
       "    <tr>\n",
       "      <th>416</th>\n",
       "      <td>417</td>\n",
       "      <td>A26</td>\n",
       "      <td>2006-03-31</td>\n",
       "      <td>TRAIN TICKET</td>\n",
       "      <td>1898.985437</td>\n",
       "      <td>3.0</td>\n",
       "      <td>2006.0</td>\n",
       "    </tr>\n",
       "    <tr>\n",
       "      <th>309</th>\n",
       "      <td>310</td>\n",
       "      <td>A22</td>\n",
       "      <td>2006-04-02</td>\n",
       "      <td>SANDALS</td>\n",
       "      <td>2090.225383</td>\n",
       "      <td>4.0</td>\n",
       "      <td>2006.0</td>\n",
       "    </tr>\n",
       "    <tr>\n",
       "      <th>772</th>\n",
       "      <td>773</td>\n",
       "      <td>A37</td>\n",
       "      <td>2005-02-16</td>\n",
       "      <td>SHOPPING</td>\n",
       "      <td>1561.739434</td>\n",
       "      <td>2.0</td>\n",
       "      <td>2005.0</td>\n",
       "    </tr>\n",
       "  </tbody>\n",
       "</table>\n",
       "</div>"
      ],
      "text/plain": [
       "      Sl No: Customer  TransDate          Type         Amount  Month    Year\n",
       "1256    1257      A43 2006-04-03    AIR TICKET  371439.859083    4.0  2006.0\n",
       "874      875      A23 2004-01-15     JEWELLERY  319592.488998    1.0  2004.0\n",
       "416      417      A26 2006-03-31  TRAIN TICKET    1898.985437    3.0  2006.0\n",
       "309      310      A22 2006-04-02       SANDALS    2090.225383    4.0  2006.0\n",
       "772      773      A37 2005-02-16      SHOPPING    1561.739434    2.0  2005.0"
      ]
     },
     "execution_count": 20,
     "metadata": {},
     "output_type": "execute_result"
    }
   ],
   "source": [
    "trans_df.sample(5)"
   ]
  },
  {
   "cell_type": "code",
   "execution_count": 21,
   "metadata": {
    "hidden": true
   },
   "outputs": [],
   "source": [
    "spend_df=trans_df.groupby(['Year','Month','Type'], as_index=False)['Amount'].mean().round(2)        #2 decimal places"
   ]
  },
  {
   "cell_type": "code",
   "execution_count": 22,
   "metadata": {
    "hidden": true
   },
   "outputs": [
    {
     "data": {
      "text/html": [
       "<div>\n",
       "<style scoped>\n",
       "    .dataframe tbody tr th:only-of-type {\n",
       "        vertical-align: middle;\n",
       "    }\n",
       "\n",
       "    .dataframe tbody tr th {\n",
       "        vertical-align: top;\n",
       "    }\n",
       "\n",
       "    .dataframe thead th {\n",
       "        text-align: right;\n",
       "    }\n",
       "</style>\n",
       "<table border=\"1\" class=\"dataframe\">\n",
       "  <thead>\n",
       "    <tr style=\"text-align: right;\">\n",
       "      <th></th>\n",
       "      <th>Year</th>\n",
       "      <th>Month</th>\n",
       "      <th>Type</th>\n",
       "      <th>Amount</th>\n",
       "    </tr>\n",
       "  </thead>\n",
       "  <tbody>\n",
       "    <tr>\n",
       "      <th>0</th>\n",
       "      <td>2004.0</td>\n",
       "      <td>1.0</td>\n",
       "      <td>AIR TICKET</td>\n",
       "      <td>257735.68</td>\n",
       "    </tr>\n",
       "    <tr>\n",
       "      <th>1</th>\n",
       "      <td>2004.0</td>\n",
       "      <td>1.0</td>\n",
       "      <td>AUTO</td>\n",
       "      <td>16260.27</td>\n",
       "    </tr>\n",
       "    <tr>\n",
       "      <th>2</th>\n",
       "      <td>2004.0</td>\n",
       "      <td>1.0</td>\n",
       "      <td>BIKE</td>\n",
       "      <td>176136.06</td>\n",
       "    </tr>\n",
       "    <tr>\n",
       "      <th>3</th>\n",
       "      <td>2004.0</td>\n",
       "      <td>1.0</td>\n",
       "      <td>BUS TICKET</td>\n",
       "      <td>10181.61</td>\n",
       "    </tr>\n",
       "    <tr>\n",
       "      <th>4</th>\n",
       "      <td>2004.0</td>\n",
       "      <td>1.0</td>\n",
       "      <td>CAMERA</td>\n",
       "      <td>20912.67</td>\n",
       "    </tr>\n",
       "  </tbody>\n",
       "</table>\n",
       "</div>"
      ],
      "text/plain": [
       "     Year  Month        Type     Amount\n",
       "0  2004.0    1.0  AIR TICKET  257735.68\n",
       "1  2004.0    1.0        AUTO   16260.27\n",
       "2  2004.0    1.0        BIKE  176136.06\n",
       "3  2004.0    1.0  BUS TICKET   10181.61\n",
       "4  2004.0    1.0      CAMERA   20912.67"
      ]
     },
     "execution_count": 22,
     "metadata": {},
     "output_type": "execute_result"
    }
   ],
   "source": [
    "spend_df.head()"
   ]
  },
  {
   "cell_type": "code",
   "execution_count": 23,
   "metadata": {
    "hidden": true
   },
   "outputs": [],
   "source": [
    "# pivot the data - need multiple index so use pivot_table() instead of pivot()\n",
    "spend_pivot = pd.pivot_table(spend_df, index=['Year','Month'], columns='Type', values='Amount')"
   ]
  },
  {
   "cell_type": "code",
   "execution_count": 24,
   "metadata": {
    "hidden": true
   },
   "outputs": [
    {
     "data": {
      "text/html": [
       "<div>\n",
       "<style scoped>\n",
       "    .dataframe tbody tr th:only-of-type {\n",
       "        vertical-align: middle;\n",
       "    }\n",
       "\n",
       "    .dataframe tbody tr th {\n",
       "        vertical-align: top;\n",
       "    }\n",
       "\n",
       "    .dataframe thead th {\n",
       "        text-align: right;\n",
       "    }\n",
       "</style>\n",
       "<table border=\"1\" class=\"dataframe\">\n",
       "  <thead>\n",
       "    <tr style=\"text-align: right;\">\n",
       "      <th></th>\n",
       "      <th>Type</th>\n",
       "      <th>AIR TICKET</th>\n",
       "      <th>AUTO</th>\n",
       "      <th>BIKE</th>\n",
       "      <th>BUS TICKET</th>\n",
       "      <th>CAMERA</th>\n",
       "      <th>CAR</th>\n",
       "      <th>CLOTHES</th>\n",
       "      <th>FOOD</th>\n",
       "      <th>JEWELLERY</th>\n",
       "      <th>MOVIE TICKET</th>\n",
       "      <th>PETRO</th>\n",
       "      <th>RENTAL</th>\n",
       "      <th>SANDALS</th>\n",
       "      <th>SHOPPING</th>\n",
       "      <th>TRAIN TICKET</th>\n",
       "    </tr>\n",
       "    <tr>\n",
       "      <th>Year</th>\n",
       "      <th>Month</th>\n",
       "      <th></th>\n",
       "      <th></th>\n",
       "      <th></th>\n",
       "      <th></th>\n",
       "      <th></th>\n",
       "      <th></th>\n",
       "      <th></th>\n",
       "      <th></th>\n",
       "      <th></th>\n",
       "      <th></th>\n",
       "      <th></th>\n",
       "      <th></th>\n",
       "      <th></th>\n",
       "      <th></th>\n",
       "      <th></th>\n",
       "    </tr>\n",
       "  </thead>\n",
       "  <tbody>\n",
       "    <tr>\n",
       "      <th rowspan=\"2\" valign=\"top\">2004.0</th>\n",
       "      <th>2.0</th>\n",
       "      <td>214071.84</td>\n",
       "      <td>NaN</td>\n",
       "      <td>222235.99</td>\n",
       "      <td>22386.40</td>\n",
       "      <td>NaN</td>\n",
       "      <td>NaN</td>\n",
       "      <td>21562.59</td>\n",
       "      <td>335.97</td>\n",
       "      <td>174222.09</td>\n",
       "      <td>NaN</td>\n",
       "      <td>562.31</td>\n",
       "      <td>NaN</td>\n",
       "      <td>NaN</td>\n",
       "      <td>8453.49</td>\n",
       "      <td>NaN</td>\n",
       "    </tr>\n",
       "    <tr>\n",
       "      <th>3.0</th>\n",
       "      <td>455343.36</td>\n",
       "      <td>NaN</td>\n",
       "      <td>NaN</td>\n",
       "      <td>NaN</td>\n",
       "      <td>14377.59</td>\n",
       "      <td>NaN</td>\n",
       "      <td>18170.60</td>\n",
       "      <td>446.42</td>\n",
       "      <td>156577.20</td>\n",
       "      <td>NaN</td>\n",
       "      <td>494.72</td>\n",
       "      <td>NaN</td>\n",
       "      <td>2372.47</td>\n",
       "      <td>NaN</td>\n",
       "      <td>1705.33</td>\n",
       "    </tr>\n",
       "    <tr>\n",
       "      <th rowspan=\"3\" valign=\"top\">2005.0</th>\n",
       "      <th>9.0</th>\n",
       "      <td>289240.16</td>\n",
       "      <td>NaN</td>\n",
       "      <td>NaN</td>\n",
       "      <td>NaN</td>\n",
       "      <td>32782.09</td>\n",
       "      <td>NaN</td>\n",
       "      <td>NaN</td>\n",
       "      <td>NaN</td>\n",
       "      <td>278895.08</td>\n",
       "      <td>954.69</td>\n",
       "      <td>490.23</td>\n",
       "      <td>NaN</td>\n",
       "      <td>2732.14</td>\n",
       "      <td>NaN</td>\n",
       "      <td>NaN</td>\n",
       "    </tr>\n",
       "    <tr>\n",
       "      <th>10.0</th>\n",
       "      <td>213797.64</td>\n",
       "      <td>NaN</td>\n",
       "      <td>NaN</td>\n",
       "      <td>4326.49</td>\n",
       "      <td>NaN</td>\n",
       "      <td>175440.27</td>\n",
       "      <td>NaN</td>\n",
       "      <td>NaN</td>\n",
       "      <td>NaN</td>\n",
       "      <td>3255.54</td>\n",
       "      <td>604.28</td>\n",
       "      <td>NaN</td>\n",
       "      <td>NaN</td>\n",
       "      <td>8715.27</td>\n",
       "      <td>NaN</td>\n",
       "    </tr>\n",
       "    <tr>\n",
       "      <th>11.0</th>\n",
       "      <td>121396.50</td>\n",
       "      <td>NaN</td>\n",
       "      <td>207172.36</td>\n",
       "      <td>14339.55</td>\n",
       "      <td>NaN</td>\n",
       "      <td>NaN</td>\n",
       "      <td>26346.87</td>\n",
       "      <td>304.78</td>\n",
       "      <td>434209.47</td>\n",
       "      <td>409.39</td>\n",
       "      <td>556.93</td>\n",
       "      <td>3438.11</td>\n",
       "      <td>3378.69</td>\n",
       "      <td>6089.72</td>\n",
       "      <td>1693.84</td>\n",
       "    </tr>\n",
       "  </tbody>\n",
       "</table>\n",
       "</div>"
      ],
      "text/plain": [
       "Type          AIR TICKET  AUTO       BIKE  BUS TICKET    CAMERA        CAR  \\\n",
       "Year   Month                                                                 \n",
       "2004.0 2.0     214071.84   NaN  222235.99    22386.40       NaN        NaN   \n",
       "       3.0     455343.36   NaN        NaN         NaN  14377.59        NaN   \n",
       "2005.0 9.0     289240.16   NaN        NaN         NaN  32782.09        NaN   \n",
       "       10.0    213797.64   NaN        NaN     4326.49       NaN  175440.27   \n",
       "       11.0    121396.50   NaN  207172.36    14339.55       NaN        NaN   \n",
       "\n",
       "Type           CLOTHES    FOOD  JEWELLERY  MOVIE TICKET   PETRO   RENTAL  \\\n",
       "Year   Month                                                               \n",
       "2004.0 2.0    21562.59  335.97  174222.09           NaN  562.31      NaN   \n",
       "       3.0    18170.60  446.42  156577.20           NaN  494.72      NaN   \n",
       "2005.0 9.0         NaN     NaN  278895.08        954.69  490.23      NaN   \n",
       "       10.0        NaN     NaN        NaN       3255.54  604.28      NaN   \n",
       "       11.0   26346.87  304.78  434209.47        409.39  556.93  3438.11   \n",
       "\n",
       "Type          SANDALS  SHOPPING  TRAIN TICKET  \n",
       "Year   Month                                   \n",
       "2004.0 2.0        NaN   8453.49           NaN  \n",
       "       3.0    2372.47       NaN       1705.33  \n",
       "2005.0 9.0    2732.14       NaN           NaN  \n",
       "       10.0       NaN   8715.27           NaN  \n",
       "       11.0   3378.69   6089.72       1693.84  "
      ]
     },
     "execution_count": 24,
     "metadata": {},
     "output_type": "execute_result"
    }
   ],
   "source": [
    "spend_pivot.sample(5)"
   ]
  },
  {
   "cell_type": "code",
   "execution_count": 25,
   "metadata": {
    "hidden": true
   },
   "outputs": [
    {
     "name": "stdout",
     "output_type": "stream",
     "text": [
      "<class 'pandas.core.frame.DataFrame'>\n",
      "RangeIndex: 807 entries, 0 to 806\n",
      "Data columns (total 4 columns):\n",
      " #   Column    Non-Null Count  Dtype         \n",
      "---  ------    --------------  -----         \n",
      " 0   SL No:    807 non-null    int64         \n",
      " 1   Customer  807 non-null    object        \n",
      " 2   Month     803 non-null    datetime64[ns]\n",
      " 3   Amount    807 non-null    float64       \n",
      "dtypes: datetime64[ns](1), float64(1), int64(1), object(1)\n",
      "memory usage: 25.3+ KB\n"
     ]
    }
   ],
   "source": [
    "# Lets have a look at the repayment data\n",
    "payment_df.info()"
   ]
  },
  {
   "cell_type": "markdown",
   "metadata": {
    "hidden": true
   },
   "source": [
    "###### 4 rows have null in Month. Let's drop those."
   ]
  },
  {
   "cell_type": "code",
   "execution_count": 26,
   "metadata": {
    "hidden": true
   },
   "outputs": [
    {
     "name": "stdout",
     "output_type": "stream",
     "text": [
      "<class 'pandas.core.frame.DataFrame'>\n",
      "Int64Index: 803 entries, 0 to 806\n",
      "Data columns (total 4 columns):\n",
      " #   Column    Non-Null Count  Dtype         \n",
      "---  ------    --------------  -----         \n",
      " 0   SL No:    803 non-null    int64         \n",
      " 1   Customer  803 non-null    object        \n",
      " 2   Month     803 non-null    datetime64[ns]\n",
      " 3   Amount    803 non-null    float64       \n",
      "dtypes: datetime64[ns](1), float64(1), int64(1), object(1)\n",
      "memory usage: 31.4+ KB\n"
     ]
    }
   ],
   "source": [
    "payment_df.dropna(how=\"any\",axis=0, inplace=True)                                       \n",
    "payment_df.info()                                            # What's wrong with this?? "
   ]
  },
  {
   "cell_type": "markdown",
   "metadata": {
    "hidden": true
   },
   "source": [
    "###### How many unique customers are there ?"
   ]
  },
  {
   "cell_type": "code",
   "execution_count": 27,
   "metadata": {
    "hidden": true
   },
   "outputs": [
    {
     "data": {
      "text/plain": [
       "100"
      ]
     },
     "execution_count": 27,
     "metadata": {},
     "output_type": "execute_result"
    }
   ],
   "source": [
    "payment_df.Customer.nunique()"
   ]
  },
  {
   "cell_type": "markdown",
   "metadata": {
    "hidden": true
   },
   "source": [
    "##### Who are the top 10 customers in terms of repayment?"
   ]
  },
  {
   "cell_type": "code",
   "execution_count": 28,
   "metadata": {
    "hidden": true
   },
   "outputs": [
    {
     "data": {
      "text/plain": [
       "Customer\n",
       "A47    4.092247e+06\n",
       "A61    2.776651e+06\n",
       "A58    2.711600e+06\n",
       "A56    2.372900e+06\n",
       "A48    2.110238e+06\n",
       "A36    2.068917e+06\n",
       "A44    2.003032e+06\n",
       "A24    1.998198e+06\n",
       "A49    1.919454e+06\n",
       "A42    1.841543e+06\n",
       "Name: Amount, dtype: float64"
      ]
     },
     "execution_count": 28,
     "metadata": {},
     "output_type": "execute_result"
    }
   ],
   "source": [
    "topcust_df = payment_df.groupby('Customer')['Amount'].sum().sort_values(ascending=False)\n",
    "topcust_df.head(10)"
   ]
  },
  {
   "cell_type": "markdown",
   "metadata": {
    "hidden": true
   },
   "source": [
    "##### How does spend compare to payment?"
   ]
  },
  {
   "cell_type": "code",
   "execution_count": 29,
   "metadata": {
    "hidden": true
   },
   "outputs": [],
   "source": [
    "#Merge customer data with transaction data \n",
    "cust_trans_df = pd.merge(customer_df , trans_df , on = 'Customer' , how = 'left')"
   ]
  },
  {
   "cell_type": "code",
   "execution_count": 30,
   "metadata": {
    "hidden": true
   },
   "outputs": [
    {
     "data": {
      "text/html": [
       "<div>\n",
       "<style scoped>\n",
       "    .dataframe tbody tr th:only-of-type {\n",
       "        vertical-align: middle;\n",
       "    }\n",
       "\n",
       "    .dataframe tbody tr th {\n",
       "        vertical-align: top;\n",
       "    }\n",
       "\n",
       "    .dataframe thead th {\n",
       "        text-align: right;\n",
       "    }\n",
       "</style>\n",
       "<table border=\"1\" class=\"dataframe\">\n",
       "  <thead>\n",
       "    <tr style=\"text-align: right;\">\n",
       "      <th></th>\n",
       "      <th>No</th>\n",
       "      <th>Customer</th>\n",
       "      <th>Age</th>\n",
       "      <th>City</th>\n",
       "      <th>Product</th>\n",
       "      <th>Limit</th>\n",
       "      <th>Company</th>\n",
       "      <th>Segment</th>\n",
       "      <th>Sl No:</th>\n",
       "      <th>TransDate</th>\n",
       "      <th>Type</th>\n",
       "      <th>Amount</th>\n",
       "      <th>Month</th>\n",
       "      <th>Year</th>\n",
       "    </tr>\n",
       "  </thead>\n",
       "  <tbody>\n",
       "    <tr>\n",
       "      <th>1087</th>\n",
       "      <td>47</td>\n",
       "      <td>A47</td>\n",
       "      <td>46.46</td>\n",
       "      <td>CHENNAI</td>\n",
       "      <td>Platimum</td>\n",
       "      <td>1380000</td>\n",
       "      <td>C9</td>\n",
       "      <td>Normal Salary</td>\n",
       "      <td>812</td>\n",
       "      <td>2005-07-03</td>\n",
       "      <td>CAMERA</td>\n",
       "      <td>36842.343744</td>\n",
       "      <td>7.0</td>\n",
       "      <td>2005.0</td>\n",
       "    </tr>\n",
       "    <tr>\n",
       "      <th>802</th>\n",
       "      <td>38</td>\n",
       "      <td>A38</td>\n",
       "      <td>73.00</td>\n",
       "      <td>CHENNAI</td>\n",
       "      <td>Platimum</td>\n",
       "      <td>1500000</td>\n",
       "      <td>C20</td>\n",
       "      <td>Self Employed</td>\n",
       "      <td>629</td>\n",
       "      <td>2006-03-25</td>\n",
       "      <td>CAR</td>\n",
       "      <td>253629.378057</td>\n",
       "      <td>3.0</td>\n",
       "      <td>2006.0</td>\n",
       "    </tr>\n",
       "    <tr>\n",
       "      <th>983</th>\n",
       "      <td>43</td>\n",
       "      <td>A43</td>\n",
       "      <td>50.00</td>\n",
       "      <td>BANGALORE</td>\n",
       "      <td>Gold</td>\n",
       "      <td>1500000</td>\n",
       "      <td>C25</td>\n",
       "      <td>Self Employed</td>\n",
       "      <td>1373</td>\n",
       "      <td>2006-11-03</td>\n",
       "      <td>MOVIE TICKET</td>\n",
       "      <td>3133.719217</td>\n",
       "      <td>11.0</td>\n",
       "      <td>2006.0</td>\n",
       "    </tr>\n",
       "    <tr>\n",
       "      <th>1053</th>\n",
       "      <td>46</td>\n",
       "      <td>A46</td>\n",
       "      <td>29.00</td>\n",
       "      <td>PATNA</td>\n",
       "      <td>Silver</td>\n",
       "      <td>600000</td>\n",
       "      <td>C8</td>\n",
       "      <td>Govt</td>\n",
       "      <td>724</td>\n",
       "      <td>2004-01-25</td>\n",
       "      <td>PETRO</td>\n",
       "      <td>773.981945</td>\n",
       "      <td>1.0</td>\n",
       "      <td>2004.0</td>\n",
       "    </tr>\n",
       "    <tr>\n",
       "      <th>1458</th>\n",
       "      <td>64</td>\n",
       "      <td>A64</td>\n",
       "      <td>55.00</td>\n",
       "      <td>DELHI</td>\n",
       "      <td>Gold</td>\n",
       "      <td>500000</td>\n",
       "      <td>C26</td>\n",
       "      <td>Salaried_MNC</td>\n",
       "      <td>66</td>\n",
       "      <td>2006-12-03</td>\n",
       "      <td>SANDALS</td>\n",
       "      <td>3038.045898</td>\n",
       "      <td>12.0</td>\n",
       "      <td>2006.0</td>\n",
       "    </tr>\n",
       "  </tbody>\n",
       "</table>\n",
       "</div>"
      ],
      "text/plain": [
       "      No Customer    Age       City   Product    Limit Company        Segment  \\\n",
       "1087  47      A47  46.46    CHENNAI  Platimum  1380000      C9  Normal Salary   \n",
       "802   38      A38  73.00    CHENNAI  Platimum  1500000     C20  Self Employed   \n",
       "983   43      A43  50.00  BANGALORE      Gold  1500000     C25  Self Employed   \n",
       "1053  46      A46  29.00      PATNA    Silver   600000      C8           Govt   \n",
       "1458  64      A64  55.00      DELHI      Gold   500000     C26   Salaried_MNC   \n",
       "\n",
       "      Sl No:  TransDate          Type         Amount  Month    Year  \n",
       "1087     812 2005-07-03        CAMERA   36842.343744    7.0  2005.0  \n",
       "802      629 2006-03-25           CAR  253629.378057    3.0  2006.0  \n",
       "983     1373 2006-11-03  MOVIE TICKET    3133.719217   11.0  2006.0  \n",
       "1053     724 2004-01-25         PETRO     773.981945    1.0  2004.0  \n",
       "1458      66 2006-12-03       SANDALS    3038.045898   12.0  2006.0  "
      ]
     },
     "execution_count": 30,
     "metadata": {},
     "output_type": "execute_result"
    }
   ],
   "source": [
    "cust_trans_df.sample(5)"
   ]
  },
  {
   "cell_type": "code",
   "execution_count": 31,
   "metadata": {
    "hidden": true
   },
   "outputs": [],
   "source": [
    "# Which customers are reaching the monthly limit? "
   ]
  },
  {
   "cell_type": "code",
   "execution_count": 32,
   "metadata": {
    "hidden": true
   },
   "outputs": [],
   "source": [
    "monthly_spend_df = trans_df.groupby(['Customer','Year','Month'], as_index=False)['Amount'].sum()"
   ]
  },
  {
   "cell_type": "code",
   "execution_count": 33,
   "metadata": {
    "hidden": true
   },
   "outputs": [],
   "source": [
    "monthly_spend_df = pd.merge(customer_df, monthly_spend_df, on='Customer', how='left') "
   ]
  },
  {
   "cell_type": "code",
   "execution_count": 34,
   "metadata": {
    "hidden": true
   },
   "outputs": [
    {
     "data": {
      "text/html": [
       "<div>\n",
       "<style scoped>\n",
       "    .dataframe tbody tr th:only-of-type {\n",
       "        vertical-align: middle;\n",
       "    }\n",
       "\n",
       "    .dataframe tbody tr th {\n",
       "        vertical-align: top;\n",
       "    }\n",
       "\n",
       "    .dataframe thead th {\n",
       "        text-align: right;\n",
       "    }\n",
       "</style>\n",
       "<table border=\"1\" class=\"dataframe\">\n",
       "  <thead>\n",
       "    <tr style=\"text-align: right;\">\n",
       "      <th></th>\n",
       "      <th>No</th>\n",
       "      <th>Customer</th>\n",
       "      <th>Age</th>\n",
       "      <th>City</th>\n",
       "      <th>Product</th>\n",
       "      <th>Limit</th>\n",
       "      <th>Company</th>\n",
       "      <th>Segment</th>\n",
       "      <th>Year</th>\n",
       "      <th>Month</th>\n",
       "      <th>Amount</th>\n",
       "      <th>SpendRatio</th>\n",
       "    </tr>\n",
       "  </thead>\n",
       "  <tbody>\n",
       "    <tr>\n",
       "      <th>4</th>\n",
       "      <td>1</td>\n",
       "      <td>A1</td>\n",
       "      <td>47.0</td>\n",
       "      <td>BANGALORE</td>\n",
       "      <td>Gold</td>\n",
       "      <td>1500000</td>\n",
       "      <td>C1</td>\n",
       "      <td>Self Employed</td>\n",
       "      <td>2005.0</td>\n",
       "      <td>2.0</td>\n",
       "      <td>1.360527e+06</td>\n",
       "      <td>0.907018</td>\n",
       "    </tr>\n",
       "    <tr>\n",
       "      <th>27</th>\n",
       "      <td>4</td>\n",
       "      <td>A4</td>\n",
       "      <td>22.0</td>\n",
       "      <td>BOMBAY</td>\n",
       "      <td>Platimum</td>\n",
       "      <td>840084</td>\n",
       "      <td>C4</td>\n",
       "      <td>Govt</td>\n",
       "      <td>2004.0</td>\n",
       "      <td>1.0</td>\n",
       "      <td>8.214110e+05</td>\n",
       "      <td>0.977772</td>\n",
       "    </tr>\n",
       "    <tr>\n",
       "      <th>38</th>\n",
       "      <td>5</td>\n",
       "      <td>A5</td>\n",
       "      <td>59.0</td>\n",
       "      <td>BANGALORE</td>\n",
       "      <td>Platimum</td>\n",
       "      <td>420084</td>\n",
       "      <td>C5</td>\n",
       "      <td>Normal Salary</td>\n",
       "      <td>2006.0</td>\n",
       "      <td>3.0</td>\n",
       "      <td>3.937892e+05</td>\n",
       "      <td>0.937406</td>\n",
       "    </tr>\n",
       "    <tr>\n",
       "      <th>131</th>\n",
       "      <td>13</td>\n",
       "      <td>A13</td>\n",
       "      <td>38.0</td>\n",
       "      <td>BANGALORE</td>\n",
       "      <td>Gold</td>\n",
       "      <td>500000</td>\n",
       "      <td>C13</td>\n",
       "      <td>Salaried_MNC</td>\n",
       "      <td>2006.0</td>\n",
       "      <td>11.0</td>\n",
       "      <td>4.624256e+05</td>\n",
       "      <td>0.924851</td>\n",
       "    </tr>\n",
       "    <tr>\n",
       "      <th>155</th>\n",
       "      <td>15</td>\n",
       "      <td>A15</td>\n",
       "      <td>41.0</td>\n",
       "      <td>CALCUTTA</td>\n",
       "      <td>Gold</td>\n",
       "      <td>500000</td>\n",
       "      <td>C15</td>\n",
       "      <td>Govt</td>\n",
       "      <td>2005.0</td>\n",
       "      <td>9.0</td>\n",
       "      <td>4.937968e+05</td>\n",
       "      <td>0.987594</td>\n",
       "    </tr>\n",
       "  </tbody>\n",
       "</table>\n",
       "</div>"
      ],
      "text/plain": [
       "     No Customer   Age       City   Product    Limit Company        Segment  \\\n",
       "4     1       A1  47.0  BANGALORE      Gold  1500000      C1  Self Employed   \n",
       "27    4       A4  22.0     BOMBAY  Platimum   840084      C4           Govt   \n",
       "38    5       A5  59.0  BANGALORE  Platimum   420084      C5  Normal Salary   \n",
       "131  13      A13  38.0  BANGALORE      Gold   500000     C13   Salaried_MNC   \n",
       "155  15      A15  41.0   CALCUTTA      Gold   500000     C15           Govt   \n",
       "\n",
       "       Year  Month        Amount  SpendRatio  \n",
       "4    2005.0    2.0  1.360527e+06    0.907018  \n",
       "27   2004.0    1.0  8.214110e+05    0.977772  \n",
       "38   2006.0    3.0  3.937892e+05    0.937406  \n",
       "131  2006.0   11.0  4.624256e+05    0.924851  \n",
       "155  2005.0    9.0  4.937968e+05    0.987594  "
      ]
     },
     "execution_count": 34,
     "metadata": {},
     "output_type": "execute_result"
    }
   ],
   "source": [
    "monthly_spend_df[\"SpendRatio\"] = monthly_spend_df.Amount/monthly_spend_df.Limit\n",
    "monthly_spend_df.query(\"SpendRatio > 0.9\").head()"
   ]
  },
  {
   "cell_type": "code",
   "execution_count": 35,
   "metadata": {
    "hidden": true
   },
   "outputs": [
    {
     "data": {
      "text/plain": [
       "array(['A1', 'A4', 'A5', 'A13', 'A15', 'A16', 'A33', 'A48', 'A49', 'A52',\n",
       "       'A53', 'A62', 'A69', 'A96', 'A99'], dtype=object)"
      ]
     },
     "execution_count": 35,
     "metadata": {},
     "output_type": "execute_result"
    }
   ],
   "source": [
    "monthly_spend_df.query(\"SpendRatio > 0.9\")['Customer'].unique()"
   ]
  },
  {
   "cell_type": "markdown",
   "metadata": {
    "hidden": true
   },
   "source": [
    "##### Which city has the maximum spenders?"
   ]
  },
  {
   "cell_type": "code",
   "execution_count": 36,
   "metadata": {
    "hidden": true
   },
   "outputs": [],
   "source": [
    "city_spend_df=monthly_spend_df.groupby(['City', 'Month'], as_index=False)['Amount'].sum().round(2) "
   ]
  },
  {
   "cell_type": "code",
   "execution_count": 37,
   "metadata": {
    "hidden": true
   },
   "outputs": [
    {
     "data": {
      "text/html": [
       "<div>\n",
       "<style scoped>\n",
       "    .dataframe tbody tr th:only-of-type {\n",
       "        vertical-align: middle;\n",
       "    }\n",
       "\n",
       "    .dataframe tbody tr th {\n",
       "        vertical-align: top;\n",
       "    }\n",
       "\n",
       "    .dataframe thead th {\n",
       "        text-align: right;\n",
       "    }\n",
       "</style>\n",
       "<table border=\"1\" class=\"dataframe\">\n",
       "  <thead>\n",
       "    <tr style=\"text-align: right;\">\n",
       "      <th>City</th>\n",
       "      <th>BANGALORE</th>\n",
       "      <th>BOMBAY</th>\n",
       "      <th>CALCUTTA</th>\n",
       "      <th>CHENNAI</th>\n",
       "      <th>COCHIN</th>\n",
       "      <th>DELHI</th>\n",
       "      <th>PATNA</th>\n",
       "      <th>TRIVANDRUM</th>\n",
       "    </tr>\n",
       "    <tr>\n",
       "      <th>Month</th>\n",
       "      <th></th>\n",
       "      <th></th>\n",
       "      <th></th>\n",
       "      <th></th>\n",
       "      <th></th>\n",
       "      <th></th>\n",
       "      <th></th>\n",
       "      <th></th>\n",
       "    </tr>\n",
       "  </thead>\n",
       "  <tbody>\n",
       "    <tr>\n",
       "      <th>1.0</th>\n",
       "      <td>3126274.90</td>\n",
       "      <td>2328805.56</td>\n",
       "      <td>3244926.98</td>\n",
       "      <td>2597978.19</td>\n",
       "      <td>4617419.79</td>\n",
       "      <td>703130.98</td>\n",
       "      <td>1815232.34</td>\n",
       "      <td>814089.04</td>\n",
       "    </tr>\n",
       "    <tr>\n",
       "      <th>2.0</th>\n",
       "      <td>3971498.30</td>\n",
       "      <td>3008375.45</td>\n",
       "      <td>1658105.86</td>\n",
       "      <td>1969179.47</td>\n",
       "      <td>4149994.83</td>\n",
       "      <td>365936.54</td>\n",
       "      <td>751930.88</td>\n",
       "      <td>670849.37</td>\n",
       "    </tr>\n",
       "    <tr>\n",
       "      <th>3.0</th>\n",
       "      <td>2027004.09</td>\n",
       "      <td>2897458.18</td>\n",
       "      <td>2176908.20</td>\n",
       "      <td>1166274.69</td>\n",
       "      <td>2020514.68</td>\n",
       "      <td>1011287.40</td>\n",
       "      <td>1029935.01</td>\n",
       "      <td>881084.93</td>\n",
       "    </tr>\n",
       "    <tr>\n",
       "      <th>4.0</th>\n",
       "      <td>1337310.21</td>\n",
       "      <td>850195.62</td>\n",
       "      <td>1551686.80</td>\n",
       "      <td>1080791.32</td>\n",
       "      <td>2347582.32</td>\n",
       "      <td>1161682.99</td>\n",
       "      <td>148841.06</td>\n",
       "      <td>97370.19</td>\n",
       "    </tr>\n",
       "    <tr>\n",
       "      <th>5.0</th>\n",
       "      <td>3130804.91</td>\n",
       "      <td>778840.57</td>\n",
       "      <td>1967827.09</td>\n",
       "      <td>1924341.32</td>\n",
       "      <td>2844139.80</td>\n",
       "      <td>1072653.18</td>\n",
       "      <td>895786.43</td>\n",
       "      <td>1438594.96</td>\n",
       "    </tr>\n",
       "  </tbody>\n",
       "</table>\n",
       "</div>"
      ],
      "text/plain": [
       "City    BANGALORE      BOMBAY    CALCUTTA     CHENNAI      COCHIN       DELHI  \\\n",
       "Month                                                                           \n",
       "1.0    3126274.90  2328805.56  3244926.98  2597978.19  4617419.79   703130.98   \n",
       "2.0    3971498.30  3008375.45  1658105.86  1969179.47  4149994.83   365936.54   \n",
       "3.0    2027004.09  2897458.18  2176908.20  1166274.69  2020514.68  1011287.40   \n",
       "4.0    1337310.21   850195.62  1551686.80  1080791.32  2347582.32  1161682.99   \n",
       "5.0    3130804.91   778840.57  1967827.09  1924341.32  2844139.80  1072653.18   \n",
       "\n",
       "City        PATNA  TRIVANDRUM  \n",
       "Month                          \n",
       "1.0    1815232.34   814089.04  \n",
       "2.0     751930.88   670849.37  \n",
       "3.0    1029935.01   881084.93  \n",
       "4.0     148841.06    97370.19  \n",
       "5.0     895786.43  1438594.96  "
      ]
     },
     "execution_count": 37,
     "metadata": {},
     "output_type": "execute_result"
    }
   ],
   "source": [
    "# reshape the data for plotting\n",
    "df = city_spend_df.pivot(index='Month', columns='City', values='Amount')\n",
    "df.head()"
   ]
  },
  {
   "cell_type": "code",
   "execution_count": 38,
   "metadata": {
    "hidden": true
   },
   "outputs": [
    {
     "data": {
      "text/plain": [
       "<AxesSubplot:xlabel='Month'>"
      ]
     },
     "execution_count": 38,
     "metadata": {},
     "output_type": "execute_result"
    }
   ],
   "source": [
    "df.plot(kind='bar')"
   ]
  },
  {
   "cell_type": "markdown",
   "metadata": {
    "hidden": true
   },
   "source": [
    "##### Which age group spends the most amount of money?"
   ]
  },
  {
   "cell_type": "code",
   "execution_count": 39,
   "metadata": {
    "hidden": true
   },
   "outputs": [],
   "source": [
    "cust_trans_df[\"Age_group\"] = pd.cut(x=cust_trans_df['Age'], bins=[18,30,60,100], labels=[\"GenX\",\"Middle\",\"Senior\"])"
   ]
  },
  {
   "cell_type": "code",
   "execution_count": 40,
   "metadata": {
    "hidden": true
   },
   "outputs": [
    {
     "data": {
      "text/html": [
       "<div>\n",
       "<style scoped>\n",
       "    .dataframe tbody tr th:only-of-type {\n",
       "        vertical-align: middle;\n",
       "    }\n",
       "\n",
       "    .dataframe tbody tr th {\n",
       "        vertical-align: top;\n",
       "    }\n",
       "\n",
       "    .dataframe thead th {\n",
       "        text-align: right;\n",
       "    }\n",
       "</style>\n",
       "<table border=\"1\" class=\"dataframe\">\n",
       "  <thead>\n",
       "    <tr style=\"text-align: right;\">\n",
       "      <th></th>\n",
       "      <th>No</th>\n",
       "      <th>Customer</th>\n",
       "      <th>Age</th>\n",
       "      <th>City</th>\n",
       "      <th>Product</th>\n",
       "      <th>Limit</th>\n",
       "      <th>Company</th>\n",
       "      <th>Segment</th>\n",
       "      <th>Sl No:</th>\n",
       "      <th>TransDate</th>\n",
       "      <th>Type</th>\n",
       "      <th>Amount</th>\n",
       "      <th>Month</th>\n",
       "      <th>Year</th>\n",
       "      <th>Age_group</th>\n",
       "    </tr>\n",
       "  </thead>\n",
       "  <tbody>\n",
       "    <tr>\n",
       "      <th>167</th>\n",
       "      <td>11</td>\n",
       "      <td>A11</td>\n",
       "      <td>22.00</td>\n",
       "      <td>COCHIN</td>\n",
       "      <td>Gold</td>\n",
       "      <td>500000</td>\n",
       "      <td>C11</td>\n",
       "      <td>Normal Salary</td>\n",
       "      <td>253</td>\n",
       "      <td>2006-11-21</td>\n",
       "      <td>PETRO</td>\n",
       "      <td>579.885775</td>\n",
       "      <td>11.0</td>\n",
       "      <td>2006.0</td>\n",
       "      <td>GenX</td>\n",
       "    </tr>\n",
       "    <tr>\n",
       "      <th>102</th>\n",
       "      <td>8</td>\n",
       "      <td>A8</td>\n",
       "      <td>50.00</td>\n",
       "      <td>PATNA</td>\n",
       "      <td>Silver</td>\n",
       "      <td>600000</td>\n",
       "      <td>C8</td>\n",
       "      <td>Salaried_Pvt</td>\n",
       "      <td>8</td>\n",
       "      <td>2004-02-05</td>\n",
       "      <td>BIKE</td>\n",
       "      <td>222235.993936</td>\n",
       "      <td>2.0</td>\n",
       "      <td>2004.0</td>\n",
       "      <td>Middle</td>\n",
       "    </tr>\n",
       "    <tr>\n",
       "      <th>907</th>\n",
       "      <td>41</td>\n",
       "      <td>A41</td>\n",
       "      <td>35.00</td>\n",
       "      <td>COCHIN</td>\n",
       "      <td>Platimum</td>\n",
       "      <td>1500000</td>\n",
       "      <td>C23</td>\n",
       "      <td>Govt</td>\n",
       "      <td>980</td>\n",
       "      <td>2004-01-03</td>\n",
       "      <td>BUS TICKET</td>\n",
       "      <td>33033.015523</td>\n",
       "      <td>1.0</td>\n",
       "      <td>2004.0</td>\n",
       "      <td>Middle</td>\n",
       "    </tr>\n",
       "    <tr>\n",
       "      <th>357</th>\n",
       "      <td>19</td>\n",
       "      <td>A19</td>\n",
       "      <td>69.00</td>\n",
       "      <td>BANGALORE</td>\n",
       "      <td>Platimum</td>\n",
       "      <td>540000</td>\n",
       "      <td>C19</td>\n",
       "      <td>Salaried_Pvt</td>\n",
       "      <td>429</td>\n",
       "      <td>2004-01-25</td>\n",
       "      <td>AIR TICKET</td>\n",
       "      <td>123887.926069</td>\n",
       "      <td>1.0</td>\n",
       "      <td>2004.0</td>\n",
       "      <td>Senior</td>\n",
       "    </tr>\n",
       "    <tr>\n",
       "      <th>293</th>\n",
       "      <td>16</td>\n",
       "      <td>A16</td>\n",
       "      <td>24.00</td>\n",
       "      <td>COCHIN</td>\n",
       "      <td>Gold</td>\n",
       "      <td>500000</td>\n",
       "      <td>C16</td>\n",
       "      <td>Normal Salary</td>\n",
       "      <td>358</td>\n",
       "      <td>2006-07-11</td>\n",
       "      <td>AIR TICKET</td>\n",
       "      <td>404426.490726</td>\n",
       "      <td>7.0</td>\n",
       "      <td>2006.0</td>\n",
       "      <td>GenX</td>\n",
       "    </tr>\n",
       "    <tr>\n",
       "      <th>360</th>\n",
       "      <td>19</td>\n",
       "      <td>A19</td>\n",
       "      <td>69.00</td>\n",
       "      <td>BANGALORE</td>\n",
       "      <td>Platimum</td>\n",
       "      <td>540000</td>\n",
       "      <td>C19</td>\n",
       "      <td>Salaried_Pvt</td>\n",
       "      <td>486</td>\n",
       "      <td>2005-08-03</td>\n",
       "      <td>SHOPPING</td>\n",
       "      <td>5364.424917</td>\n",
       "      <td>8.0</td>\n",
       "      <td>2005.0</td>\n",
       "      <td>Senior</td>\n",
       "    </tr>\n",
       "    <tr>\n",
       "      <th>1250</th>\n",
       "      <td>54</td>\n",
       "      <td>A54</td>\n",
       "      <td>59.00</td>\n",
       "      <td>COCHIN</td>\n",
       "      <td>Platimum</td>\n",
       "      <td>1500000</td>\n",
       "      <td>C16</td>\n",
       "      <td>Normal Salary</td>\n",
       "      <td>1123</td>\n",
       "      <td>2004-09-13</td>\n",
       "      <td>PETRO</td>\n",
       "      <td>382.575146</td>\n",
       "      <td>9.0</td>\n",
       "      <td>2004.0</td>\n",
       "      <td>Middle</td>\n",
       "    </tr>\n",
       "    <tr>\n",
       "      <th>1103</th>\n",
       "      <td>47</td>\n",
       "      <td>A47</td>\n",
       "      <td>46.46</td>\n",
       "      <td>CHENNAI</td>\n",
       "      <td>Platimum</td>\n",
       "      <td>1380000</td>\n",
       "      <td>C9</td>\n",
       "      <td>Normal Salary</td>\n",
       "      <td>1261</td>\n",
       "      <td>2006-08-03</td>\n",
       "      <td>AIR TICKET</td>\n",
       "      <td>469804.922867</td>\n",
       "      <td>8.0</td>\n",
       "      <td>2006.0</td>\n",
       "      <td>Middle</td>\n",
       "    </tr>\n",
       "    <tr>\n",
       "      <th>952</th>\n",
       "      <td>42</td>\n",
       "      <td>A42</td>\n",
       "      <td>71.00</td>\n",
       "      <td>BOMBAY</td>\n",
       "      <td>Gold</td>\n",
       "      <td>1500000</td>\n",
       "      <td>C24</td>\n",
       "      <td>Normal Salary</td>\n",
       "      <td>1372</td>\n",
       "      <td>2006-10-03</td>\n",
       "      <td>RENTAL</td>\n",
       "      <td>11993.798503</td>\n",
       "      <td>10.0</td>\n",
       "      <td>2006.0</td>\n",
       "      <td>Senior</td>\n",
       "    </tr>\n",
       "    <tr>\n",
       "      <th>718</th>\n",
       "      <td>34</td>\n",
       "      <td>A34</td>\n",
       "      <td>28.00</td>\n",
       "      <td>CALCUTTA</td>\n",
       "      <td>Platimum</td>\n",
       "      <td>100000</td>\n",
       "      <td>C16</td>\n",
       "      <td>Salaried_Pvt</td>\n",
       "      <td>799</td>\n",
       "      <td>2005-11-22</td>\n",
       "      <td>FOOD</td>\n",
       "      <td>256.029830</td>\n",
       "      <td>11.0</td>\n",
       "      <td>2005.0</td>\n",
       "      <td>GenX</td>\n",
       "    </tr>\n",
       "  </tbody>\n",
       "</table>\n",
       "</div>"
      ],
      "text/plain": [
       "      No Customer    Age       City   Product    Limit Company        Segment  \\\n",
       "167   11      A11  22.00     COCHIN      Gold   500000     C11  Normal Salary   \n",
       "102    8       A8  50.00      PATNA    Silver   600000      C8   Salaried_Pvt   \n",
       "907   41      A41  35.00     COCHIN  Platimum  1500000     C23           Govt   \n",
       "357   19      A19  69.00  BANGALORE  Platimum   540000     C19   Salaried_Pvt   \n",
       "293   16      A16  24.00     COCHIN      Gold   500000     C16  Normal Salary   \n",
       "360   19      A19  69.00  BANGALORE  Platimum   540000     C19   Salaried_Pvt   \n",
       "1250  54      A54  59.00     COCHIN  Platimum  1500000     C16  Normal Salary   \n",
       "1103  47      A47  46.46    CHENNAI  Platimum  1380000      C9  Normal Salary   \n",
       "952   42      A42  71.00     BOMBAY      Gold  1500000     C24  Normal Salary   \n",
       "718   34      A34  28.00   CALCUTTA  Platimum   100000     C16   Salaried_Pvt   \n",
       "\n",
       "      Sl No:  TransDate        Type         Amount  Month    Year Age_group  \n",
       "167      253 2006-11-21       PETRO     579.885775   11.0  2006.0      GenX  \n",
       "102        8 2004-02-05        BIKE  222235.993936    2.0  2004.0    Middle  \n",
       "907      980 2004-01-03  BUS TICKET   33033.015523    1.0  2004.0    Middle  \n",
       "357      429 2004-01-25  AIR TICKET  123887.926069    1.0  2004.0    Senior  \n",
       "293      358 2006-07-11  AIR TICKET  404426.490726    7.0  2006.0      GenX  \n",
       "360      486 2005-08-03    SHOPPING    5364.424917    8.0  2005.0    Senior  \n",
       "1250    1123 2004-09-13       PETRO     382.575146    9.0  2004.0    Middle  \n",
       "1103    1261 2006-08-03  AIR TICKET  469804.922867    8.0  2006.0    Middle  \n",
       "952     1372 2006-10-03      RENTAL   11993.798503   10.0  2006.0    Senior  \n",
       "718      799 2005-11-22        FOOD     256.029830   11.0  2005.0      GenX  "
      ]
     },
     "execution_count": 40,
     "metadata": {},
     "output_type": "execute_result"
    }
   ],
   "source": [
    "cust_trans_df.sample(10)"
   ]
  },
  {
   "cell_type": "code",
   "execution_count": 41,
   "metadata": {
    "hidden": true
   },
   "outputs": [
    {
     "data": {
      "text/plain": [
       "Age_group\n",
       "GenX      1.807039e+07\n",
       "Middle    4.398701e+07\n",
       "Senior    3.021539e+07\n",
       "Name: Amount, dtype: float64"
      ]
     },
     "execution_count": 41,
     "metadata": {},
     "output_type": "execute_result"
    }
   ],
   "source": [
    "spend_age_df = cust_trans_df.groupby('Age_group')['Amount'].sum()\n",
    "spend_age_df"
   ]
  },
  {
   "cell_type": "markdown",
   "metadata": {
    "hidden": true
   },
   "source": [
    "##### Calculate the city wise spend on each product on yearly basis. Also include a graphical representation for the same."
   ]
  },
  {
   "cell_type": "code",
   "execution_count": null,
   "metadata": {
    "hidden": true
   },
   "outputs": [],
   "source": []
  },
  {
   "cell_type": "markdown",
   "metadata": {
    "hidden": true
   },
   "source": [
    "##### If the monthly rate of interest is 3.2%, what is the profit for the bank for each month? \n",
    "- Profit is defined as interest earned on Monthly Profit\n",
    "    - Monthly Profit = Monthly repayment – Monthly spend. \n",
    "- Interest is earned only on positive profits and not on negative amounts"
   ]
  },
  {
   "cell_type": "markdown",
   "metadata": {
    "heading_collapsed": true
   },
   "source": [
    "#### 2. Advanced Numpy \n",
    "- The ndarray internally consists of the following:\n",
    "    - A pointer to data, that is a block of system memory\n",
    "    - The data type or dtype\n",
    "    - A tuple indicating the array’s shape; For example, a 10 by 5 array would have shape(10, 5)\n",
    "    - A tuple of strides, integers indicating the number of bytes to “step” in order to advance one element along a dimension"
   ]
  },
  {
   "cell_type": "code",
   "execution_count": 42,
   "metadata": {
    "hidden": true
   },
   "outputs": [],
   "source": [
    "# numpy.concatenate takes a sequence (tuple, list, etc.) of arrays and joins them together in order along the input axis.\n",
    "arr1 = np.array([[1, 2, 3], \n",
    "                 [4, 5, 6]])\n",
    "arr2 = np.array([[7, 8, 9], \n",
    "                 [10, 11, 12]])"
   ]
  },
  {
   "cell_type": "code",
   "execution_count": 43,
   "metadata": {
    "hidden": true
   },
   "outputs": [
    {
     "data": {
      "text/plain": [
       "array([[ 1,  2,  3],\n",
       "       [ 4,  5,  6],\n",
       "       [ 7,  8,  9],\n",
       "       [10, 11, 12]])"
      ]
     },
     "execution_count": 43,
     "metadata": {},
     "output_type": "execute_result"
    }
   ],
   "source": [
    "np.concatenate([arr1, arr2], axis=0)                    #same as np.vstack()             "
   ]
  },
  {
   "cell_type": "code",
   "execution_count": 44,
   "metadata": {
    "hidden": true
   },
   "outputs": [
    {
     "data": {
      "text/plain": [
       "array([[ 1,  2,  3,  7,  8,  9],\n",
       "       [ 4,  5,  6, 10, 11, 12]])"
      ]
     },
     "execution_count": 44,
     "metadata": {},
     "output_type": "execute_result"
    }
   ],
   "source": [
    "np.concatenate([arr1, arr2], axis=1)                    #same as np.hstack()"
   ]
  },
  {
   "cell_type": "code",
   "execution_count": 45,
   "metadata": {
    "hidden": true
   },
   "outputs": [
    {
     "data": {
      "text/plain": [
       "array([[ 0.91075977, -0.59719955],\n",
       "       [-0.00330093,  2.89970458],\n",
       "       [ 0.04870181,  0.1989398 ],\n",
       "       [ 0.59227996, -1.15802057],\n",
       "       [ 0.26087913, -0.21914888],\n",
       "       [-0.57805314,  1.4443969 ],\n",
       "       [-1.08288644,  2.31126752],\n",
       "       [ 0.62794786, -0.92088656],\n",
       "       [ 0.17650953, -0.68851977],\n",
       "       [ 0.31337244, -0.39110691]])"
      ]
     },
     "execution_count": 45,
     "metadata": {},
     "output_type": "execute_result"
    }
   ],
   "source": [
    "#split() splits an array \n",
    "from numpy.random import randn\n",
    "bigarr = randn(10, 2)\n",
    "bigarr"
   ]
  },
  {
   "cell_type": "code",
   "execution_count": 46,
   "metadata": {
    "hidden": true
   },
   "outputs": [],
   "source": [
    "one, two, three= np.split(bigarr, [3,6])               # axis = 0 , Split is [:3] , [3:6], [6:]"
   ]
  },
  {
   "cell_type": "code",
   "execution_count": 47,
   "metadata": {
    "hidden": true
   },
   "outputs": [
    {
     "data": {
      "text/plain": [
       "array([[ 0.91075977, -0.59719955],\n",
       "       [-0.00330093,  2.89970458],\n",
       "       [ 0.04870181,  0.1989398 ]])"
      ]
     },
     "execution_count": 47,
     "metadata": {},
     "output_type": "execute_result"
    }
   ],
   "source": [
    "one"
   ]
  },
  {
   "cell_type": "code",
   "execution_count": 48,
   "metadata": {
    "hidden": true
   },
   "outputs": [
    {
     "data": {
      "text/plain": [
       "array([[ 0.59227996, -1.15802057],\n",
       "       [ 0.26087913, -0.21914888],\n",
       "       [-0.57805314,  1.4443969 ]])"
      ]
     },
     "execution_count": 48,
     "metadata": {},
     "output_type": "execute_result"
    }
   ],
   "source": [
    "two"
   ]
  },
  {
   "cell_type": "code",
   "execution_count": 49,
   "metadata": {
    "hidden": true
   },
   "outputs": [
    {
     "data": {
      "text/plain": [
       "array([[-1.08288644,  2.31126752],\n",
       "       [ 0.62794786, -0.92088656],\n",
       "       [ 0.17650953, -0.68851977],\n",
       "       [ 0.31337244, -0.39110691]])"
      ]
     },
     "execution_count": 49,
     "metadata": {},
     "output_type": "execute_result"
    }
   ],
   "source": [
    "three"
   ]
  },
  {
   "cell_type": "code",
   "execution_count": 50,
   "metadata": {
    "hidden": true
   },
   "outputs": [
    {
     "data": {
      "text/plain": [
       "array([ 0,  1,  2,  3,  4,  5,  6,  7,  8,  9, 10, 11, 12, 13, 14])"
      ]
     },
     "execution_count": 50,
     "metadata": {},
     "output_type": "execute_result"
    }
   ],
   "source": [
    "#reshape an array\n",
    "arr = np.arange(15)\n",
    "arr"
   ]
  },
  {
   "cell_type": "code",
   "execution_count": 51,
   "metadata": {
    "hidden": true
   },
   "outputs": [
    {
     "data": {
      "text/plain": [
       "array([[ 0,  1,  2],\n",
       "       [ 3,  4,  5],\n",
       "       [ 6,  7,  8],\n",
       "       [ 9, 10, 11],\n",
       "       [12, 13, 14]])"
      ]
     },
     "execution_count": 51,
     "metadata": {},
     "output_type": "execute_result"
    }
   ],
   "source": [
    "new_array = arr.reshape((5,-1))                                # -1 => infer the second dimension\n",
    "new_array"
   ]
  },
  {
   "cell_type": "code",
   "execution_count": 52,
   "metadata": {
    "hidden": true
   },
   "outputs": [
    {
     "data": {
      "text/plain": [
       "array([ 0,  1,  2,  3,  4,  5,  6,  7,  8,  9, 10, 11, 12, 13, 14])"
      ]
     },
     "execution_count": 52,
     "metadata": {},
     "output_type": "execute_result"
    }
   ],
   "source": [
    "#flatten will flatten the array\n",
    "new_array.flatten()"
   ]
  },
  {
   "cell_type": "code",
   "execution_count": 53,
   "metadata": {
    "hidden": true
   },
   "outputs": [
    {
     "data": {
      "text/plain": [
       "array([ 0,  1,  2,  3,  4,  5,  6,  7,  8,  9, 10, 11, 12, 13, 14])"
      ]
     },
     "execution_count": 53,
     "metadata": {},
     "output_type": "execute_result"
    }
   ],
   "source": [
    "arr"
   ]
  },
  {
   "cell_type": "markdown",
   "metadata": {
    "hidden": true
   },
   "source": [
    "##### Broadcasting\n",
    "- Broadcasting describes how arithmetic works between arrays of different shapes"
   ]
  },
  {
   "cell_type": "code",
   "execution_count": 54,
   "metadata": {
    "hidden": true
   },
   "outputs": [
    {
     "data": {
      "text/plain": [
       "array([0, 1, 2, 3, 4])"
      ]
     },
     "execution_count": 54,
     "metadata": {},
     "output_type": "execute_result"
    }
   ],
   "source": [
    "arr = np.arange(5)\n",
    "arr"
   ]
  },
  {
   "cell_type": "code",
   "execution_count": 55,
   "metadata": {
    "hidden": true
   },
   "outputs": [
    {
     "data": {
      "text/plain": [
       "array([ 0,  4,  8, 12, 16])"
      ]
     },
     "execution_count": 55,
     "metadata": {},
     "output_type": "execute_result"
    }
   ],
   "source": [
    "arr * 4                                              # scalar value 4 has been broadcast to all the elements"
   ]
  },
  {
   "cell_type": "code",
   "execution_count": 56,
   "metadata": {
    "hidden": true
   },
   "outputs": [
    {
     "data": {
      "text/plain": [
       "array([-2., -1.,  0.,  1.,  2.])"
      ]
     },
     "execution_count": 56,
     "metadata": {},
     "output_type": "execute_result"
    }
   ],
   "source": [
    "centered = arr - arr.mean(0)\n",
    "centered"
   ]
  },
  {
   "cell_type": "code",
   "execution_count": 57,
   "metadata": {
    "hidden": true
   },
   "outputs": [
    {
     "data": {
      "text/plain": [
       "array([ 0.77227829, -0.00859321, -0.09558388,  0.06130496,  0.04049233,\n",
       "       -1.57105499])"
      ]
     },
     "execution_count": 57,
     "metadata": {},
     "output_type": "execute_result"
    }
   ],
   "source": [
    "#sorting\n",
    "arr = randn(6)\n",
    "arr"
   ]
  },
  {
   "cell_type": "code",
   "execution_count": 58,
   "metadata": {
    "hidden": true
   },
   "outputs": [
    {
     "data": {
      "text/plain": [
       "array([-1.57105499, -0.09558388, -0.00859321,  0.04049233,  0.06130496,\n",
       "        0.77227829])"
      ]
     },
     "execution_count": 58,
     "metadata": {},
     "output_type": "execute_result"
    }
   ],
   "source": [
    "arr.sort()                                           #no need on inplace      \n",
    "arr"
   ]
  },
  {
   "cell_type": "code",
   "execution_count": 59,
   "metadata": {
    "hidden": true
   },
   "outputs": [
    {
     "data": {
      "text/plain": [
       "array([[-0.03145028, -0.8240869 , -0.04059456,  0.12386198,  1.68259507],\n",
       "       [-1.27770235, -2.03944718, -0.18380931,  0.49422134,  0.20063713],\n",
       "       [-0.13963145,  1.09158596, -0.04953955,  0.28886299,  0.192113  ]])"
      ]
     },
     "execution_count": 59,
     "metadata": {},
     "output_type": "execute_result"
    }
   ],
   "source": [
    "arr2 = randn(3, 5)\n",
    "arr2"
   ]
  },
  {
   "cell_type": "code",
   "execution_count": 60,
   "metadata": {
    "hidden": true
   },
   "outputs": [
    {
     "data": {
      "text/plain": [
       "array([[-0.8240869 , -0.04059456, -0.03145028,  0.12386198,  1.68259507],\n",
       "       [-1.27770235, -2.03944718, -0.18380931,  0.49422134,  0.20063713],\n",
       "       [-0.13963145,  1.09158596, -0.04953955,  0.28886299,  0.192113  ]])"
      ]
     },
     "execution_count": 60,
     "metadata": {},
     "output_type": "execute_result"
    }
   ],
   "source": [
    "arr2[0,:].sort()                 # sort first row values in-place\n",
    "arr2"
   ]
  },
  {
   "cell_type": "markdown",
   "metadata": {
    "hidden": true
   },
   "source": [
    "##### Numpy Matrix \n",
    "- NumPy has a matrix class which behaves like a 2D array and retains this structure through operations\n",
    "- multiplication with * is matrix multiplication, and ** is power"
   ]
  },
  {
   "cell_type": "code",
   "execution_count": 61,
   "metadata": {
    "hidden": true
   },
   "outputs": [
    {
     "data": {
      "text/plain": [
       "matrix([[1, 2],\n",
       "        [3, 4]])"
      ]
     },
     "execution_count": 61,
     "metadata": {},
     "output_type": "execute_result"
    }
   ],
   "source": [
    "X = np.matrix([[1, 2], [3, 4]])\n",
    "X"
   ]
  },
  {
   "cell_type": "code",
   "execution_count": 62,
   "metadata": {
    "hidden": true
   },
   "outputs": [
    {
     "data": {
      "text/plain": [
       "matrix([[1, 3],\n",
       "        [2, 4]])"
      ]
     },
     "execution_count": 62,
     "metadata": {},
     "output_type": "execute_result"
    }
   ],
   "source": [
    "#Transpose\n",
    "X.T"
   ]
  },
  {
   "cell_type": "code",
   "execution_count": 63,
   "metadata": {
    "hidden": true
   },
   "outputs": [
    {
     "data": {
      "text/plain": [
       "matrix([[-2. ,  1. ],\n",
       "        [ 1.5, -0.5]])"
      ]
     },
     "execution_count": 63,
     "metadata": {},
     "output_type": "execute_result"
    }
   ],
   "source": [
    "#Inverse\n",
    "X.I"
   ]
  },
  {
   "cell_type": "code",
   "execution_count": 64,
   "metadata": {
    "hidden": true
   },
   "outputs": [
    {
     "data": {
      "text/plain": [
       "array([[1., 0.],\n",
       "       [0., 1.]])"
      ]
     },
     "execution_count": 64,
     "metadata": {},
     "output_type": "execute_result"
    }
   ],
   "source": [
    "#Dot product \n",
    "X.I.dot(X).round(2)"
   ]
  },
  {
   "cell_type": "code",
   "execution_count": 65,
   "metadata": {
    "hidden": true
   },
   "outputs": [
    {
     "data": {
      "text/plain": [
       "matrix([[5]])"
      ]
     },
     "execution_count": 65,
     "metadata": {},
     "output_type": "execute_result"
    }
   ],
   "source": [
    "#trace of matrix\n",
    "X.trace()"
   ]
  },
  {
   "cell_type": "code",
   "execution_count": 66,
   "metadata": {
    "hidden": true
   },
   "outputs": [
    {
     "data": {
      "text/plain": [
       "matrix([[ 5,  1],\n",
       "        [11,  3]])"
      ]
     },
     "execution_count": 66,
     "metadata": {},
     "output_type": "execute_result"
    }
   ],
   "source": [
    "Y = np.matrix([[1, 1], [2, 0]])\n",
    "X*Y                                         #Matrix multiplication"
   ]
  },
  {
   "cell_type": "code",
   "execution_count": 67,
   "metadata": {
    "hidden": true
   },
   "outputs": [
    {
     "data": {
      "text/plain": [
       "matrix([[5, 3],\n",
       "        [6, 2]])"
      ]
     },
     "execution_count": 67,
     "metadata": {},
     "output_type": "execute_result"
    }
   ],
   "source": [
    "Y**3                                        #Matrix raised to 3 - remember Markov chain? "
   ]
  },
  {
   "cell_type": "markdown",
   "metadata": {},
   "source": [
    "#### String & Text - revisited\n",
    "- There are two ways to store text data in pandas:\n",
    "    - object -dtype NumPy array.\n",
    "    - StringDtype extension type.\n",
    "- Pandas provides a set of string functions which make it easy to operate on string data. \n",
    "- Most importantly, these functions ignore (or exclude) missing/NaN values."
   ]
  },
  {
   "cell_type": "code",
   "execution_count": 68,
   "metadata": {},
   "outputs": [
    {
     "data": {
      "text/plain": [
       "0    a\n",
       "1    b\n",
       "2    c\n",
       "dtype: object"
      ]
     },
     "execution_count": 68,
     "metadata": {},
     "output_type": "execute_result"
    }
   ],
   "source": [
    "pd.Series([\"a\", \"b\", \"c\"])"
   ]
  },
  {
   "cell_type": "code",
   "execution_count": 69,
   "metadata": {},
   "outputs": [
    {
     "data": {
      "text/plain": [
       "0    a\n",
       "1    b\n",
       "2    c\n",
       "dtype: string"
      ]
     },
     "execution_count": 69,
     "metadata": {},
     "output_type": "execute_result"
    }
   ],
   "source": [
    "pd.Series([\"a\", \"b\", \"c\"], dtype=pd.StringDtype())"
   ]
  },
  {
   "cell_type": "code",
   "execution_count": 71,
   "metadata": {},
   "outputs": [
    {
     "name": "stdout",
     "output_type": "stream",
     "text": [
      "0             Tom\n",
      "1    William Rick\n",
      "2            John\n",
      "3         Alber@t\n",
      "4             NaN\n",
      "5            1234\n",
      "6      SteveSmith\n",
      "dtype: object\n"
     ]
    }
   ],
   "source": [
    "s = pd.Series(['Tom', 'William Rick', 'John', 'Alber@t', np.nan, '1234','SteveSmith'])\n",
    "print(s)"
   ]
  },
  {
   "cell_type": "code",
   "execution_count": 73,
   "metadata": {},
   "outputs": [
    {
     "name": "stdout",
     "output_type": "stream",
     "text": [
      "0             TOM\n",
      "1    WILLIAM RICK\n",
      "2            JOHN\n",
      "3         ALBER@T\n",
      "4             NaN\n",
      "5            1234\n",
      "6      STEVESMITH\n",
      "dtype: object\n"
     ]
    }
   ],
   "source": [
    "print(s.str.upper())"
   ]
  },
  {
   "cell_type": "code",
   "execution_count": 74,
   "metadata": {},
   "outputs": [
    {
     "name": "stdout",
     "output_type": "stream",
     "text": [
      "0     3.0\n",
      "1    12.0\n",
      "2     4.0\n",
      "3     7.0\n",
      "4     NaN\n",
      "5     4.0\n",
      "6    10.0\n",
      "dtype: float64\n"
     ]
    }
   ],
   "source": [
    "print(s.str.len())"
   ]
  },
  {
   "cell_type": "code",
   "execution_count": 76,
   "metadata": {},
   "outputs": [
    {
     "data": {
      "text/html": [
       "<div>\n",
       "<style scoped>\n",
       "    .dataframe tbody tr th:only-of-type {\n",
       "        vertical-align: middle;\n",
       "    }\n",
       "\n",
       "    .dataframe tbody tr th {\n",
       "        vertical-align: top;\n",
       "    }\n",
       "\n",
       "    .dataframe thead th {\n",
       "        text-align: right;\n",
       "    }\n",
       "</style>\n",
       "<table border=\"1\" class=\"dataframe\">\n",
       "  <thead>\n",
       "    <tr style=\"text-align: right;\">\n",
       "      <th></th>\n",
       "      <th>Beer</th>\n",
       "      <th>Bread</th>\n",
       "      <th>Diaper</th>\n",
       "      <th>Eggs</th>\n",
       "      <th>Milk</th>\n",
       "    </tr>\n",
       "  </thead>\n",
       "  <tbody>\n",
       "    <tr>\n",
       "      <th>0</th>\n",
       "      <td>0</td>\n",
       "      <td>0</td>\n",
       "      <td>0</td>\n",
       "      <td>0</td>\n",
       "      <td>1</td>\n",
       "    </tr>\n",
       "    <tr>\n",
       "      <th>1</th>\n",
       "      <td>0</td>\n",
       "      <td>1</td>\n",
       "      <td>0</td>\n",
       "      <td>0</td>\n",
       "      <td>0</td>\n",
       "    </tr>\n",
       "    <tr>\n",
       "      <th>2</th>\n",
       "      <td>0</td>\n",
       "      <td>0</td>\n",
       "      <td>0</td>\n",
       "      <td>1</td>\n",
       "      <td>0</td>\n",
       "    </tr>\n",
       "    <tr>\n",
       "      <th>3</th>\n",
       "      <td>1</td>\n",
       "      <td>0</td>\n",
       "      <td>0</td>\n",
       "      <td>0</td>\n",
       "      <td>0</td>\n",
       "    </tr>\n",
       "    <tr>\n",
       "      <th>4</th>\n",
       "      <td>0</td>\n",
       "      <td>0</td>\n",
       "      <td>1</td>\n",
       "      <td>0</td>\n",
       "      <td>0</td>\n",
       "    </tr>\n",
       "  </tbody>\n",
       "</table>\n",
       "</div>"
      ],
      "text/plain": [
       "   Beer  Bread  Diaper  Eggs  Milk \n",
       "0     0      0       0     0      1\n",
       "1     0      1       0     0      0\n",
       "2     0      0       0     1      0\n",
       "3     1      0       0     0      0\n",
       "4     0      0       1     0      0"
      ]
     },
     "execution_count": 76,
     "metadata": {},
     "output_type": "execute_result"
    }
   ],
   "source": [
    "# Dummy variables \n",
    "basket = pd.Series(['Milk ','Bread','Eggs','Beer','Diaper'])\n",
    "basket.str.get_dummies()"
   ]
  },
  {
   "cell_type": "code",
   "execution_count": 79,
   "metadata": {},
   "outputs": [
    {
     "data": {
      "text/plain": [
       "0      #Data\n",
       "1    #Python\n",
       "2        #AI\n",
       "dtype: object"
      ]
     },
     "execution_count": 79,
     "metadata": {},
     "output_type": "execute_result"
    }
   ],
   "source": [
    "#Replacing a substring with another \n",
    "kwrds = pd.Series(['#Data', '#Python', '#AI'])\n",
    "kwrds"
   ]
  },
  {
   "cell_type": "code",
   "execution_count": 81,
   "metadata": {},
   "outputs": [
    {
     "data": {
      "text/plain": [
       "0      @Data\n",
       "1    @Python\n",
       "2        @AI\n",
       "dtype: object"
      ]
     },
     "execution_count": 81,
     "metadata": {},
     "output_type": "execute_result"
    }
   ],
   "source": [
    "kwrds.str.replace('#','@')"
   ]
  },
  {
   "cell_type": "code",
   "execution_count": 93,
   "metadata": {},
   "outputs": [
    {
     "data": {
      "text/html": [
       "<div>\n",
       "<style scoped>\n",
       "    .dataframe tbody tr th:only-of-type {\n",
       "        vertical-align: middle;\n",
       "    }\n",
       "\n",
       "    .dataframe tbody tr th {\n",
       "        vertical-align: top;\n",
       "    }\n",
       "\n",
       "    .dataframe thead th {\n",
       "        text-align: right;\n",
       "    }\n",
       "</style>\n",
       "<table border=\"1\" class=\"dataframe\">\n",
       "  <thead>\n",
       "    <tr style=\"text-align: right;\">\n",
       "      <th></th>\n",
       "      <th>0</th>\n",
       "      <th>1</th>\n",
       "    </tr>\n",
       "  </thead>\n",
       "  <tbody>\n",
       "    <tr>\n",
       "      <th>0</th>\n",
       "      <td>sachin</td>\n",
       "      <td>gmail.com</td>\n",
       "    </tr>\n",
       "    <tr>\n",
       "      <th>1</th>\n",
       "      <td>kamal</td>\n",
       "      <td>outlook.com</td>\n",
       "    </tr>\n",
       "  </tbody>\n",
       "</table>\n",
       "</div>"
      ],
      "text/plain": [
       "        0            1\n",
       "0  sachin   gmail.com \n",
       "1   kamal  outlook.com"
      ]
     },
     "execution_count": 93,
     "metadata": {},
     "output_type": "execute_result"
    }
   ],
   "source": [
    "#splitting strings based on a character\n",
    "emails = pd.Series(['sachin@gmail.com ','kamal@outlook.com'])\n",
    "emails.str.split('@', expand=True)"
   ]
  },
  {
   "cell_type": "code",
   "execution_count": 82,
   "metadata": {},
   "outputs": [
    {
     "data": {
      "text/html": [
       "<div>\n",
       "<style scoped>\n",
       "    .dataframe tbody tr th:only-of-type {\n",
       "        vertical-align: middle;\n",
       "    }\n",
       "\n",
       "    .dataframe tbody tr th {\n",
       "        vertical-align: top;\n",
       "    }\n",
       "\n",
       "    .dataframe thead th {\n",
       "        text-align: right;\n",
       "    }\n",
       "</style>\n",
       "<table border=\"1\" class=\"dataframe\">\n",
       "  <thead>\n",
       "    <tr style=\"text-align: right;\">\n",
       "      <th></th>\n",
       "      <th>Column A</th>\n",
       "      <th>Column B</th>\n",
       "    </tr>\n",
       "  </thead>\n",
       "  <tbody>\n",
       "    <tr>\n",
       "      <th>0</th>\n",
       "      <td>1.519606</td>\n",
       "      <td>-0.374660</td>\n",
       "    </tr>\n",
       "    <tr>\n",
       "      <th>1</th>\n",
       "      <td>-1.295619</td>\n",
       "      <td>0.832673</td>\n",
       "    </tr>\n",
       "    <tr>\n",
       "      <th>2</th>\n",
       "      <td>1.235362</td>\n",
       "      <td>-0.000532</td>\n",
       "    </tr>\n",
       "  </tbody>\n",
       "</table>\n",
       "</div>"
      ],
      "text/plain": [
       "    Column A    Column B \n",
       "0    1.519606   -0.374660\n",
       "1   -1.295619    0.832673\n",
       "2    1.235362   -0.000532"
      ]
     },
     "execution_count": 82,
     "metadata": {},
     "output_type": "execute_result"
    }
   ],
   "source": [
    "df = pd.DataFrame(np.random.randn(3, 2), \n",
    "                  columns=[\" Column A \", \" Column B \"], \n",
    "                  index=range(3))\n",
    "df"
   ]
  },
  {
   "cell_type": "code",
   "execution_count": 84,
   "metadata": {},
   "outputs": [
    {
     "data": {
      "text/html": [
       "<div>\n",
       "<style scoped>\n",
       "    .dataframe tbody tr th:only-of-type {\n",
       "        vertical-align: middle;\n",
       "    }\n",
       "\n",
       "    .dataframe tbody tr th {\n",
       "        vertical-align: top;\n",
       "    }\n",
       "\n",
       "    .dataframe thead th {\n",
       "        text-align: right;\n",
       "    }\n",
       "</style>\n",
       "<table border=\"1\" class=\"dataframe\">\n",
       "  <thead>\n",
       "    <tr style=\"text-align: right;\">\n",
       "      <th></th>\n",
       "      <th>column_a</th>\n",
       "      <th>column_b</th>\n",
       "    </tr>\n",
       "  </thead>\n",
       "  <tbody>\n",
       "    <tr>\n",
       "      <th>0</th>\n",
       "      <td>1.519606</td>\n",
       "      <td>-0.374660</td>\n",
       "    </tr>\n",
       "    <tr>\n",
       "      <th>1</th>\n",
       "      <td>-1.295619</td>\n",
       "      <td>0.832673</td>\n",
       "    </tr>\n",
       "    <tr>\n",
       "      <th>2</th>\n",
       "      <td>1.235362</td>\n",
       "      <td>-0.000532</td>\n",
       "    </tr>\n",
       "  </tbody>\n",
       "</table>\n",
       "</div>"
      ],
      "text/plain": [
       "   column_a  column_b\n",
       "0  1.519606 -0.374660\n",
       "1 -1.295619  0.832673\n",
       "2  1.235362 -0.000532"
      ]
     },
     "execution_count": 84,
     "metadata": {},
     "output_type": "execute_result"
    }
   ],
   "source": [
    "df.columns = df.columns.str.strip().str.lower().str.replace(\" \", \"_\")\n",
    "df"
   ]
  },
  {
   "cell_type": "code",
   "execution_count": 95,
   "metadata": {},
   "outputs": [
    {
     "data": {
      "text/plain": [
       "'a_b_c_d'"
      ]
     },
     "execution_count": 95,
     "metadata": {},
     "output_type": "execute_result"
    }
   ],
   "source": [
    "#Concatenation\n",
    "slower = pd.Series([\"a\", \"b\", \"c\", \"d\"], dtype=\"string\")\n",
    "slower.str.cat(sep=\"_\")"
   ]
  },
  {
   "cell_type": "code",
   "execution_count": 99,
   "metadata": {},
   "outputs": [
    {
     "data": {
      "text/plain": [
       "0      Aa\n",
       "1      Bb\n",
       "2    <NA>\n",
       "3      Dd\n",
       "dtype: string"
      ]
     },
     "execution_count": 99,
     "metadata": {},
     "output_type": "execute_result"
    }
   ],
   "source": [
    "supper = pd.Series([\"A\", \"B\", np.nan, \"D\"], dtype=\"string\") \n",
    "supper.str.cat(slower)"
   ]
  },
  {
   "cell_type": "code",
   "execution_count": 104,
   "metadata": {},
   "outputs": [
    {
     "data": {
      "text/plain": [
       "0    False\n",
       "1    False\n",
       "2     True\n",
       "3     True\n",
       "4     True\n",
       "5    False\n",
       "dtype: boolean"
      ]
     },
     "execution_count": 104,
     "metadata": {},
     "output_type": "execute_result"
    }
   ],
   "source": [
    "#Checking for a pattern match\n",
    "\n",
    "pattern = r\"[0-9][a-z]\"        # a number followed by small letter\n",
    "\n",
    "library = pd.Series([\"1\", \"A2\", \"3a\", \"3b\", \"03cd\", \"4-d\"], dtype=\"string\")\n",
    "\n",
    "library.str.contains(pattern)"
   ]
  },
  {
   "cell_type": "code",
   "execution_count": null,
   "metadata": {},
   "outputs": [],
   "source": []
  }
 ],
 "metadata": {
  "kernelspec": {
   "display_name": "Python 3",
   "language": "python",
   "name": "python3"
  }
 },
 "nbformat": 4,
 "nbformat_minor": 2
}
