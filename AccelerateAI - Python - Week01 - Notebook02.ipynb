{
 "cells": [
  {
   "cell_type": "markdown",
   "metadata": {},
   "source": [
    "## AccelerateAI - Python for Data Science\n",
    "\n",
    "##### Introduction to Python Language (Python 3)\n",
    "\n",
    "In this notebook we will cover the following:\n",
    "- Classes & Objects\n",
    "- File Input and Output\n",
    "- Exception Handling"
   ]
  },
  {
   "cell_type": "markdown",
   "metadata": {
    "heading_collapsed": true
   },
   "source": [
    "#### 5. Classes and Objects\n",
    "- Python is an object oriented programming (OOP) language\n",
    "    - OOP is a paradigm based on the concept of \"objects\", which can contain data and code\n",
    "- almost everything in python is an object (including classes and functions), with its properties and methods\n",
    "- a class defines all the variables(data) and functions(code)\n",
    "- python has encapsulation, inheritance, and polymorphism : all 3 pillars of OOP\n",
    "- An object is an instantiation of a class - this is where memory allocation happens\n",
    "- Further reading: Namespace and Scope: https://docs.python.org/3/tutorial/classes.html#python-scopes-and-namespaces"
   ]
  },
  {
   "cell_type": "code",
   "execution_count": null,
   "metadata": {
    "hidden": true
   },
   "outputs": [],
   "source": [
    "# a simple class\n",
    "class pythonClass:\n",
    "\n",
    "    action = \" is creating a python class\"              # class variable - shared by all objects\n",
    "\n",
    "    def type(self, name):                               # methods  \n",
    "        return name + self.action                       #class variables need a self. prefix "
   ]
  },
  {
   "cell_type": "code",
   "execution_count": null,
   "metadata": {
    "hidden": true
   },
   "outputs": [],
   "source": [
    "#object creation\n",
    "myClass = pythonClass()\n",
    "myClass.type(\"Sachin\")"
   ]
  },
  {
   "cell_type": "code",
   "execution_count": null,
   "metadata": {
    "hidden": true
   },
   "outputs": [],
   "source": [
    "print (\"Type\", type(myClass))"
   ]
  },
  {
   "cell_type": "code",
   "execution_count": null,
   "metadata": {
    "hidden": true
   },
   "outputs": [],
   "source": [
    "print (\"Dir \", dir(myClass))"
   ]
  },
  {
   "cell_type": "code",
   "execution_count": null,
   "metadata": {
    "hidden": true
   },
   "outputs": [],
   "source": [
    "print (\"action\", type(myClass.action))\n",
    "print (\"type\", type(myClass.type))"
   ]
  },
  {
   "cell_type": "code",
   "execution_count": null,
   "metadata": {
    "hidden": true
   },
   "outputs": [],
   "source": [
    "# Count the instance of class\n",
    "\n",
    "class GuestList:\n",
    "    _x = 0                                              #counter\n",
    "    def __init__(self, name):\n",
    "        self.name = name\n",
    "        self._x = self._x + 1                 \n",
    "        print(self.name,'arrived')\n",
    "\n",
    "    def count(self) :\n",
    "        print(self.name,'Guest count',self._x)"
   ]
  },
  {
   "cell_type": "code",
   "execution_count": null,
   "metadata": {
    "hidden": true
   },
   "outputs": [],
   "source": [
    "#What's wrong with the above?"
   ]
  },
  {
   "cell_type": "code",
   "execution_count": null,
   "metadata": {
    "hidden": true
   },
   "outputs": [],
   "source": [
    "k = GuestList('Karthik')\n",
    "k.count()"
   ]
  },
  {
   "cell_type": "code",
   "execution_count": null,
   "metadata": {
    "hidden": true
   },
   "outputs": [],
   "source": [
    "s = GuestList('Sunil')\n",
    "s.count()"
   ]
  },
  {
   "cell_type": "code",
   "execution_count": null,
   "metadata": {
    "hidden": true
   },
   "outputs": [],
   "source": [
    "class GuestList:\n",
    "    _x = 0                                              #counter\n",
    "    def __init__(self, name):\n",
    "        self.name = name\n",
    "        GuestList._x = GuestList._x + 1                 #referenced by class name   \n",
    "        print(self.name,'arrived')\n",
    "\n",
    "    def count(self) :\n",
    "        print(self.name,'Guest count',GuestList._x)"
   ]
  },
  {
   "cell_type": "code",
   "execution_count": null,
   "metadata": {
    "hidden": true
   },
   "outputs": [],
   "source": [
    "k = GuestList('Karthik')\n",
    "k.count()"
   ]
  },
  {
   "cell_type": "code",
   "execution_count": null,
   "metadata": {
    "hidden": true
   },
   "outputs": [],
   "source": [
    "s = GuestList('Sunil')\n",
    "s.count()"
   ]
  },
  {
   "cell_type": "code",
   "execution_count": null,
   "metadata": {
    "hidden": true
   },
   "outputs": [],
   "source": [
    "m = GuestList('Mahuya')\n",
    "m.count()"
   ]
  },
  {
   "cell_type": "code",
   "execution_count": null,
   "metadata": {
    "hidden": true
   },
   "outputs": [],
   "source": [
    "stuff = list()\n",
    "stuff.append('python')\n",
    "stuff.append('program')\n",
    "stuff.append('easy')\n",
    "stuff.append('interesting')\n",
    "stuff.sort()"
   ]
  },
  {
   "cell_type": "code",
   "execution_count": null,
   "metadata": {
    "hidden": true
   },
   "outputs": [],
   "source": [
    "print (stuff[0])"
   ]
  },
  {
   "cell_type": "markdown",
   "metadata": {},
   "source": [
    "#### 6. File Input and Output"
   ]
  },
  {
   "cell_type": "markdown",
   "metadata": {
    "heading_collapsed": true
   },
   "source": [
    "##### 6.1 Reading Keyboard Input\n",
    "- Python has a built-in function to read a line of text from standard input\n",
    "    - input     : reads one line from standard input, evaluates it if its an expresion and returns the evaluated result "
   ]
  },
  {
   "cell_type": "code",
   "execution_count": null,
   "metadata": {
    "hidden": true
   },
   "outputs": [],
   "source": [
    "str = input(\"Enter your input: \")\n",
    "print(\"Received input is : \", str)                  #Data Science!"
   ]
  },
  {
   "cell_type": "code",
   "execution_count": null,
   "metadata": {
    "hidden": true
   },
   "outputs": [],
   "source": [
    "exp = input(\"Enter your input: \")                   # [x*2 for x in range(5)]\n",
    "eval(exp)"
   ]
  },
  {
   "cell_type": "code",
   "execution_count": null,
   "metadata": {
    "hidden": true
   },
   "outputs": [],
   "source": [
    "# writing to screen\n",
    "print(\"Something\")"
   ]
  },
  {
   "cell_type": "markdown",
   "metadata": {
    "heading_collapsed": true
   },
   "source": [
    "##### 6.2 Opening and Closing Files\n",
    "- The open Function \n",
    "    - Before we can read or write a file, we have to open it using Python's built-in open() function. \n",
    "    - This function creates a file object, which would be utilized to call other support methods associated with it.\n",
    "    - Syntax: file object = open(file_name [, access_mode][, buffering])\n",
    "    - access mode: <br>\n",
    "        * r - reading, w - writing, a - appending <br>\n",
    "        * \"+\" as suffix implies both modes <br>\n",
    "        * \"b\" as suffix implies binary mode <br>\n",
    "\n",
    "- The close() Method\n",
    "     - The close() method of a file object flushes any unwritten information and closes the file object\n",
    "     - No more writing can be done after the file is closed"
   ]
  },
  {
   "cell_type": "code",
   "execution_count": null,
   "metadata": {
    "hidden": true
   },
   "outputs": [],
   "source": [
    "#open the file\n",
    "fileptr = open(\"myfile.txt\", \"wb\")\n",
    "\n",
    "#file attributes\n",
    "print (\"What is the name of the file? \", fileptr.name)\n",
    "print (\"Is the file closed? \", fileptr.closed)\n",
    "print (\"What mode is the file opened? \", fileptr.mode)\n",
    "\n",
    "fileptr.close()"
   ]
  },
  {
   "cell_type": "markdown",
   "metadata": {
    "heading_collapsed": true
   },
   "source": [
    "##### 6.3 Reading and Writing Files\n",
    "- The write() Method:\n",
    "    - writes any string to an open file\n",
    "    - python strings can have binary data and not just text\n",
    "    - the method does not add a newline character ('\\n') to the end of the string\n",
    "<br>\n",
    "- The read() Method\n",
    "    - reads a string from an open file\n",
    "<br>\n",
    "- The tell() method \n",
    "    - tells you the current position (bytes) within the file\n",
    "<br>\n",
    "- The seek(offset) method \n",
    "    - changes the current file position"
   ]
  },
  {
   "cell_type": "code",
   "execution_count": null,
   "metadata": {
    "hidden": true
   },
   "outputs": [],
   "source": [
    "# Open a file to write\n",
    "fw = open(\"myfile.txt\", \"w\")\n",
    "fw.write( \"Python is a great language.\\nYeah its great for data science!!\\n\")\n",
    "\n",
    "# Close opend file\n",
    "fw.close()\n",
    "\n",
    "#open the file to read\n",
    "fr = open(\"myfile.txt\", \"r+\")\n",
    "str1 = fr.read(20)\n",
    "print (\"Read String is : \", str1)\n",
    "\n",
    "# Check current position\n",
    "position = fr.tell()\n",
    "print (\"Current file position : \", position)\n",
    "\n",
    "# Reposition pointer at the beginning once again\n",
    "position = fr.seek(0, 0)\n",
    "str2 = fr.read()\n",
    "print (\"Read String is : \", str2)\n",
    "\n",
    "fr.close()"
   ]
  },
  {
   "cell_type": "markdown",
   "metadata": {
    "heading_collapsed": true
   },
   "source": [
    "##### 6.4 Deleting a file\n",
    "- The remove() Method\n",
    "    - delete files by supplying the name of the file to be deleted as the argument."
   ]
  },
  {
   "cell_type": "code",
   "execution_count": null,
   "metadata": {
    "hidden": true
   },
   "outputs": [],
   "source": [
    "import os\n",
    "\n",
    "# Delete file test2.txt\n",
    "os.remove(\"myfile.txt\")"
   ]
  },
  {
   "cell_type": "code",
   "execution_count": null,
   "metadata": {
    "hidden": true
   },
   "outputs": [],
   "source": [
    "print(dir(os))                # other file and directory related functions"
   ]
  },
  {
   "cell_type": "code",
   "execution_count": null,
   "metadata": {
    "hidden": true
   },
   "outputs": [],
   "source": [
    "os.sys.version"
   ]
  },
  {
   "cell_type": "markdown",
   "metadata": {},
   "source": [
    "#### 7. Exception Handling\n",
    " - Python provides two very important features to handle any unexpected error in your Python programs and to add debugging capabilities in them\n",
    "     - Exception Handling - Errors detected during execution are called exceptions, and python provides ways to handle them\n",
    "     - Assertions - a sanity-check that you can turn on or turn off\n"
   ]
  },
  {
   "cell_type": "code",
   "execution_count": null,
   "metadata": {},
   "outputs": [],
   "source": [
    "10/0"
   ]
  },
  {
   "cell_type": "markdown",
   "metadata": {
    "heading_collapsed": true
   },
   "source": [
    "##### 7.1 Handling Exception\n",
    "- Exceptions are inherited from Exception whihc is the base class\n",
    "- Many types of exception are defined : TypeError, ValueError, ArithmeticError, ZeroDivisionError, NameError etc."
   ]
  },
  {
   "cell_type": "code",
   "execution_count": null,
   "metadata": {
    "hidden": true
   },
   "outputs": [],
   "source": [
    "''' Syntax:\n",
    "try:<br>\n",
    "        some code <br> \n",
    "except ExceptionI: <br>\n",
    "       If there is ExceptionI, then execute this block. <br>\n",
    "except ExceptionII: <br>\n",
    "       If there is ExceptionII, then execute this block. <br>\n",
    "else:\n",
    "       If there is no exception then execute this block. <br>\n",
    "finally: <br> \n",
    "   Always execute ths block.                         <br>\n",
    "'''"
   ]
  },
  {
   "cell_type": "code",
   "execution_count": null,
   "metadata": {
    "hidden": true
   },
   "outputs": [],
   "source": [
    "#example\n",
    "try:\n",
    "    fw = open(\"abc/testfile\", \"w\")\n",
    "    fw.write(\"This is my test file for exception handling!!\")\n",
    "except IOError:\n",
    "    print (\"Error: can\\'t find file or read data\")\n",
    "else:\n",
    "    print (\"Written content in the file successfully\")\n",
    "    fw.close()"
   ]
  },
  {
   "cell_type": "code",
   "execution_count": null,
   "metadata": {
    "hidden": true
   },
   "outputs": [],
   "source": [
    "# The except Clause with No Exceptions - catches all exceptions\n",
    "try:\n",
    "    a = 10/0\n",
    "except:\n",
    "    print(\"Exception Caught!\")\n",
    "else:\n",
    "    print(\"Value of a is:\", a)"
   ]
  },
  {
   "cell_type": "code",
   "execution_count": null,
   "metadata": {
    "hidden": true
   },
   "outputs": [],
   "source": [
    "# Argument in except clause - used to provide more information\n",
    "def get_number(var):\n",
    "    try:\n",
    "        return int(var)\n",
    "    except ValueError as Argument:\n",
    "        print(\"Exception raised\")\n",
    "        print (\"Issue:\", Argument)"
   ]
  },
  {
   "cell_type": "code",
   "execution_count": null,
   "metadata": {
    "hidden": true
   },
   "outputs": [],
   "source": [
    "# Call above function here.\n",
    "n = get_number(\"xyz\")"
   ]
  },
  {
   "cell_type": "code",
   "execution_count": null,
   "metadata": {
    "hidden": true
   },
   "outputs": [],
   "source": [
    "'''\n",
    "Example Problem \n",
    "Write a code where you use the wrong number of arguments for a method (say sqrt() or pow()). Use the\n",
    "exception handling process to catch the ValueError exception.\n",
    "'''"
   ]
  }
 ],
 "metadata": {
  "kernelspec": {
   "display_name": "Python 3",
   "language": "python",
   "name": "python3"
  },
  "language_info": {
   "codemirror_mode": {
    "name": "ipython",
    "version": 3
   },
   "file_extension": ".py",
   "mimetype": "text/x-python",
   "name": "python",
   "nbconvert_exporter": "python",
   "pygments_lexer": "ipython3",
   "version": "3.6.5"
  }
 },
 "nbformat": 4,
 "nbformat_minor": 2
}
